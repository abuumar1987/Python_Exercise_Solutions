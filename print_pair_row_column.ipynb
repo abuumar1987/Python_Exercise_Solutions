{
 "cells": [
  {
   "cell_type": "code",
   "execution_count": 1,
   "id": "1afdcf0c-ceec-4a9b-90c4-172d94880667",
   "metadata": {
    "tags": []
   },
   "outputs": [],
   "source": [
    "import random"
   ]
  },
  {
   "cell_type": "code",
   "execution_count": 3,
   "id": "b3210e56-c45f-4688-8c8e-355421871e34",
   "metadata": {
    "tags": []
   },
   "outputs": [],
   "source": [
    "def PrintMatrix(M):\n",
    "    for row in range(len(M)):\n",
    "        for column in range(len(M[0])):\n",
    "            print(\"%3d\"%M[row][column],end=(\" \"))\n",
    "        print()"
   ]
  },
  {
   "cell_type": "code",
   "execution_count": 4,
   "id": "5a23d6b7-b72d-471e-bc68-0919fa9acd1c",
   "metadata": {
    "tags": []
   },
   "outputs": [],
   "source": [
    "def CreatRandomMatrix(m,n):    \n",
    "    matrix=[[random.randint(1,9) for i in range(n)] for j in range(m)]\n",
    "    return matrix"
   ]
  },
  {
   "cell_type": "code",
   "execution_count": 7,
   "id": "f34dbb20-fbf4-4972-b274-90ee6f7ff7b7",
   "metadata": {
    "tags": []
   },
   "outputs": [
    {
     "name": "stdout",
     "output_type": "stream",
     "text": [
      "  4   8   3   2   7   7   1 \n",
      "  9   6   2   7   5   5   2 \n",
      "  8   3   2   3   7   8   5 \n",
      "  9   9   6   4   6   7   4 \n",
      "  9   7   8   6   1   6   5 \n",
      "  9   3   7   5   7   8   6 \n",
      "  5   8   7   1   1   9   1 \n",
      "Output:\n",
      "4832771\n",
      "      2\n",
      "      5\n",
      "      4\n",
      "      5\n",
      "      6\n",
      "      1\n",
      "\n",
      "962755\n",
      "     8\n",
      "     7\n",
      "     6\n",
      "     8\n",
      "     9\n",
      "\n",
      "83237\n",
      "    6\n",
      "    1\n",
      "    7\n",
      "    1\n",
      "\n",
      "9964\n",
      "   6\n",
      "   5\n",
      "   1\n",
      "\n",
      "978\n",
      "  7\n",
      "  7\n",
      "\n",
      "93\n",
      " 8\n",
      "\n",
      "5\n",
      "\n"
     ]
    }
   ],
   "source": [
    "\"\"\" Printing a pair of row and columns' element of the matrix\"\"\"\n",
    "\n",
    "# we have the original matrix\n",
    "M=CreatRandomMatrix(7,7)\n",
    "PrintMatrix(M)\n",
    "print(\"Output:\")\n",
    "for i in range(len(M)):    \n",
    "\n",
    "    # printing of column's elements \n",
    "    for column in range(len(M)-i):\n",
    "        print(M[i][column],end=(\"\"))\n",
    "    print()\n",
    "    \n",
    "    # printing of row's elements\n",
    "    for row in range(i+1,len(M[0])):\n",
    "        emptyspace=\" \"\n",
    "        emptyspace *= (len(M[0])-i-2)\n",
    "        print(emptyspace,M[row][-1-i]) \n",
    "    print()"
   ]
  },
  {
   "cell_type": "code",
   "execution_count": null,
   "id": "e9870e70-98d6-4be1-a35c-846c1d3a14d0",
   "metadata": {},
   "outputs": [],
   "source": []
  }
 ],
 "metadata": {
  "kernelspec": {
   "display_name": "Python 3 (ipykernel)",
   "language": "python",
   "name": "python3"
  },
  "language_info": {
   "codemirror_mode": {
    "name": "ipython",
    "version": 3
   },
   "file_extension": ".py",
   "mimetype": "text/x-python",
   "name": "python",
   "nbconvert_exporter": "python",
   "pygments_lexer": "ipython3",
   "version": "3.11.1"
  }
 },
 "nbformat": 4,
 "nbformat_minor": 5
}
