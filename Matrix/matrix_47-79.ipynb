{
 "cells": [
  {
   "cell_type": "code",
   "execution_count": null,
   "id": "c5f00ee8-e04b-4f9b-8148-e3e654ca72df",
   "metadata": {},
   "outputs": [],
   "source": [
    "#<<<===Matritsani ozgartiriw===>>> (bu bolimda qowimca matritsadan foydalaniw mumkin emas. 74 va 75 misollar bundan mustasno)"
   ]
  },
  {
   "cell_type": "code",
   "execution_count": 1,
   "id": "e310071d-3a54-4f36-a1c7-2bde9c8bb776",
   "metadata": {
    "tags": []
   },
   "outputs": [],
   "source": [
    "import random"
   ]
  },
  {
   "cell_type": "code",
   "execution_count": 2,
   "id": "100b6d87-8eec-40ab-9c01-b0be38100349",
   "metadata": {
    "tags": []
   },
   "outputs": [],
   "source": [
    "def PrintMatrix(M):\n",
    "    for row in range(len(M)):\n",
    "        for column in range(len(M[0])):\n",
    "            print(\"%2d\"%M[row][column],end=(\" \")) # modulo operatori bn output qiliw\n",
    "        print()"
   ]
  },
  {
   "cell_type": "code",
   "execution_count": 3,
   "id": "d5849cb0-617c-445f-b853-55cf56dcea3a",
   "metadata": {
    "tags": []
   },
   "outputs": [],
   "source": [
    "def CreatRandomMatrix(m,n):    \n",
    "    matrix=[[random.randint(-9,9) for i in range(n)] for j in range(m)]\n",
    "    return matrix"
   ]
  },
  {
   "cell_type": "code",
   "execution_count": 4,
   "id": "4cc1152e-0f81-432f-a228-47dbb16ba35f",
   "metadata": {
    "tags": []
   },
   "outputs": [],
   "source": [
    "def CreatSimpleMatrix(m,n):    \n",
    "    matrix=[[i for i in range(1,n+1)] for j in range(1,m+1)]\n",
    "    return matrix"
   ]
  },
  {
   "cell_type": "code",
   "execution_count": 5,
   "id": "4335a0b2-df52-4544-b882-23e5c1904680",
   "metadata": {
    "tags": []
   },
   "outputs": [
    {
     "name": "stdout",
     "output_type": "stream",
     "text": [
      " 3 -1 -1 -5 -5 -4 -2  2  0 \n",
      "-5  7  7  3  0  3 -6 -7  5 \n",
      "-6  3  0  6 -7  7  3 -7 -9 \n",
      " 1 -3 -3 -3  5  4  7  3 -9 \n",
      "-3  2  8 -7  7 -5 -4 -4  9 \n",
      " 2 -1  9 -1  5 -9 -2 -4  5 \n",
      "-3 -3 -9  2  8  2 -6  6  4 \n",
      "-5  9  1 -1 -6  4 -7  5 -8 \n",
      "-3 -9  3  8  4 -2  0 -8  3 \n",
      "-7  7 -5 -6 -4 -2  7 -6 -7 \n",
      "([2, 8], [4, 8])\n"
     ]
    }
   ],
   "source": [
    "def IndexMinMaxMatrix(M):\n",
    "    \"\"\"Matritsaning min va max qiymatlar indekslarini aniqlaw\"\"\"\n",
    "    temp=[min(i) for i in M]\n",
    "    mini=min(temp) # matritsaning min qiymati\n",
    "    minX=temp.index(mini) # min qiymatning satr indeksi\n",
    "    minY=M[minX].index(mini) # min qiymatning ustun indeksi\n",
    "    temp=[max(i) for i in M]\n",
    "    maxi=max(temp) # matritsaning max qiymati\n",
    "    maxX=temp.index(maxi) # max qiymatning satr indeksi\n",
    "    maxY=M[maxX].index(maxi) # max qiymatning ustun indeksi\n",
    "    return [minX,minY],[maxX,maxY]\n",
    "M=CreatRandomMatrix(10,9)\n",
    "PrintMatrix(M)\n",
    "print(IndexMinMaxMatrix(M))"
   ]
  },
  {
   "cell_type": "code",
   "execution_count": 6,
   "id": "980d9dda-2c82-4290-913c-bb50b3180c82",
   "metadata": {
    "tags": []
   },
   "outputs": [
    {
     "name": "stdout",
     "output_type": "stream",
     "text": [
      "-2 -9 -9  4  8  0 -5 -4 \n",
      "-7  2  2 -1 -6  9 -2  0 \n",
      " 7  6  2 -8 -3  0  6 -5 \n",
      "-4 -6 -8 -5  3 -9  9  4 \n",
      " 4 -6  8  4 -9  7  1 -5 \n",
      "-6 -7 -1 -4  6  7  3  3 \n",
      " 0 -6 -4  6  0 -6  2 -2 \n",
      " 1 -3  0  3 -7  9  4 -3 \n",
      " 7 -8 -4 -9 -4 -2 -7  3 \n",
      " 9  7  9  0  5 -4  8 -5 \n",
      "\n",
      " 9  7  9  0  5 -4  8 -5 \n",
      "-7  2  2 -1 -6  9 -2  0 \n",
      " 7  6  2 -8 -3  0  6 -5 \n",
      "-4 -6 -8 -5  3 -9  9  4 \n",
      " 4 -6  8  4 -9  7  1 -5 \n",
      "-6 -7 -1 -4  6  7  3  3 \n",
      " 0 -6 -4  6  0 -6  2 -2 \n",
      " 1 -3  0  3 -7  9  4 -3 \n",
      " 7 -8 -4 -9 -4 -2 -7  3 \n",
      "-2 -9 -9  4  8  0 -5 -4 \n"
     ]
    }
   ],
   "source": [
    "#  47\n",
    "def shiftRows(M,k1,k2):\n",
    "    \"\"\"\"Matritsaning k1 va k2 satrlar elementlrini almawtiriw\"\"\"\n",
    "    if M:\n",
    "        M[k1],M[k2]=M[k2],M[k1]\n",
    "    return M\n",
    "M=CreatRandomMatrix(10,8)\n",
    "PrintMatrix(M)\n",
    "print()\n",
    "shiftRows(M,0,-1)\n",
    "PrintMatrix(M)"
   ]
  },
  {
   "cell_type": "code",
   "execution_count": 7,
   "id": "a698e08f-c0dd-4155-bbb4-9a6b26a5b01b",
   "metadata": {
    "tags": []
   },
   "outputs": [
    {
     "name": "stdout",
     "output_type": "stream",
     "text": [
      " 4  0  8 -8 -6  0 \n",
      " 8  1 -6 -3  1 -4 \n",
      " 2  3  1  1 -5 -8 \n",
      "-9 -7 -8 -7  6 -5 \n",
      " 2 -9 -3  6 -3  2 \n",
      "\n",
      " 4  0  8 -8  0 -6 \n",
      " 8  1 -6 -3 -4  1 \n",
      " 2  3  1  1 -8 -5 \n",
      "-9 -7 -8 -7 -5  6 \n",
      " 2 -9 -3  6  2 -3 \n"
     ]
    }
   ],
   "source": [
    "def shiftColumns(M,k1,k2):\n",
    "    \"\"\"Matritsaning k1 va k2 ustunlar elementlrini almawtiriw\"\"\"\n",
    "    if M:\n",
    "        for i in range(len(M)):\n",
    "            M[i][k1],M[i][k2]=M[i][k2],M[i][k1]\n",
    "    return M\n",
    "M=CreatRandomMatrix(5,6)\n",
    "PrintMatrix(M)\n",
    "print()\n",
    "shiftColumns(M,-2,-1)\n",
    "PrintMatrix(M)"
   ]
  },
  {
   "cell_type": "code",
   "execution_count": 9,
   "id": "389843e4-a812-496c-a2ba-009ad52ae479",
   "metadata": {},
   "outputs": [
    {
     "name": "stdout",
     "output_type": "stream",
     "text": [
      "-3  6 -7  5 -5  2 -8  9 \n",
      " 7 -2  1 -6  7  3 -1  8 \n",
      "-2 -1  3 -9  5 -9  2  2 \n",
      " 8 -4 -4  8 -5 -1  0  1 \n",
      "-1  5  3 -1 -1  3 -8 -7 \n",
      "-8  5 -8 -4  3  1  7  0 \n",
      "-2  5 -3  7 -3  4 -3  3 \n",
      "-2 -8  6  2  9 -5 -7 -9 \n",
      " 2  8 -2 -6  0  0  3  6 \n",
      "-6 -2 -9  8  7  0  7 -1 \n",
      "\n",
      "-3  6 -7  5 -5  2  9 -8 \n",
      " 7 -2  1  8  7  3 -1 -6 \n",
      "-2 -1  3  5 -9 -9  2  2 \n",
      "-5 -4 -4  8  8 -1  0  1 \n",
      "-1 -8  3 -1 -1  3  5 -7 \n",
      " 7  5 -8 -4  3  1 -8  0 \n",
      "-2  5  7 -3 -3  4 -3  3 \n",
      "-2 -8  6  2 -9 -5 -7  9 \n",
      " 2 -6 -2  8  0  0  3  6 \n",
      "-6 -2  8 -9  7  0  7 -1 \n"
     ]
    }
   ],
   "source": [
    "# 49\n",
    "\"\"\"Matritsaning har bir satrdagi eng katta kicik element orinlarini almawtiriw\"\"\"\n",
    "M=CreatRandomMatrix(10,8)\n",
    "PrintMatrix(M)\n",
    "print()\n",
    "for i in M:\n",
    "    x=i.index(min(i))\n",
    "    y=i.index(max(i))\n",
    "    if i:\n",
    "        i[x],i[y]=i[y],i[x]\n",
    "PrintMatrix(M)"
   ]
  },
  {
   "cell_type": "code",
   "execution_count": 10,
   "id": "a3f771e6-f9b7-4794-a0e1-a9642a07876e",
   "metadata": {
    "tags": []
   },
   "outputs": [
    {
     "name": "stdout",
     "output_type": "stream",
     "text": [
      " 4  8  8 -6 -1  1  4  4 \n",
      "-5 -1  0 -6  1 -7  2 -5 \n",
      "-1  7 -9  8  3  9 -8  8 \n",
      "-9  8  8  8  5  8 -3  9 \n",
      " 6  8  6  4  9  0  8 -7 \n",
      " 0  9  8 -1  9 -8 -5  2 \n",
      " 8  8 -2  0 -8  5  3  2 \n",
      " 9 -1 -6  5 -4  3 -8 -7 \n",
      " 5  9 -3 -3  7 -2  8 -3 \n",
      "-3  1  1 -2  4 -6  9  4 \n",
      "\n",
      " 4  8 -9  8 -1  1  4  4 \n",
      "-5  9  0 -6  1 -7  2 -5 \n",
      "-1  7  8 -6  3 -8  9  8 \n",
      " 9  8  8  8  5  8 -3 -7 \n",
      " 6  8  6  4 -8  0  8  9 \n",
      " 0 -1  8 -1  9  9 -5  2 \n",
      " 8  8 -2  0  9  5  3  2 \n",
      "-9 -1 -6  5 -4  3 -8 -7 \n",
      " 5  9 -3 -3  7 -2  8 -3 \n",
      "-3  1  1 -2  4 -6 -8  4 \n"
     ]
    }
   ],
   "source": [
    "# 50\n",
    "\"\"\"Matritsaning har bir ustunidagi eng katta kicik element orinlarini almawtiriw\"\"\"\n",
    "M=CreatRandomMatrix(10,8)\n",
    "PrintMatrix(M)\n",
    "print()\n",
    "for column in range(len(M[0])):\n",
    "    temp=[]\n",
    "    for row in range(len(M)):      \n",
    "        temp.append(M[row][column])\n",
    "    x=temp.index(min(temp))\n",
    "    y=temp.index(max(temp))\n",
    "    if temp:\n",
    "        M[x][column],M[y][column]=M[y][column],M[x][column]\n",
    "PrintMatrix(M)"
   ]
  },
  {
   "cell_type": "code",
   "execution_count": 14,
   "id": "26e17d15-8584-4de7-981d-36fd5fe377ee",
   "metadata": {
    "tags": []
   },
   "outputs": [
    {
     "name": "stdout",
     "output_type": "stream",
     "text": [
      "-4  8  3 -7  0 -8  1 \n",
      " 2 -4 -9 -8 -7 -4  1 \n",
      " 6 -5 -1  9  1  7 -3 \n",
      "-3  9 -2  4 -1 -6 -7 \n",
      "-9  4 -3 -8 -9 -1  2 \n",
      " 6  4  4 -3 -8  3 -9 \n",
      "\n",
      "([1, 2], [2, 3])\n",
      "\n",
      "-4  8  3 -7  0 -8  1 \n",
      " 6 -5 -1  9  1  7 -3 \n",
      " 2 -4 -9 -8 -7 -4  1 \n",
      "-3  9 -2  4 -1 -6 -7 \n",
      "-9  4 -3 -8 -9 -1  2 \n",
      " 6  4  4 -3 -8  3 -9 \n"
     ]
    }
   ],
   "source": [
    "# 51\n",
    "\"\"\"Matritsaning eng katta va eng kicik elementlari joylawgan satrlarni orinlarini almawtiriw\"\"\"\n",
    "M=CreatRandomMatrix(6,7)\n",
    "PrintMatrix(M)\n",
    "print()\n",
    "mini,maxi=IndexMinMaxMatrix(M) # matritsaning min va max lari indekslari \n",
    "x=mini[0] # min ning satr indeksi\n",
    "y=maxi[0] # max ning satr indeksi\n",
    "print(IndexMinMaxMatrix(M))\n",
    "print()\n",
    "shiftRows(M,x,y)\n",
    "PrintMatrix(M)"
   ]
  },
  {
   "cell_type": "code",
   "execution_count": 13,
   "id": "8869be2d-d476-4d75-9888-23bcd56cf7da",
   "metadata": {
    "tags": []
   },
   "outputs": [
    {
     "name": "stdout",
     "output_type": "stream",
     "text": [
      " 4  9 -8 -2 -9  7 -6 \n",
      " 1 -5  8 -3  9  4  0 \n",
      "-3  2 -5 -7  4  4  1 \n",
      "-6 -6 -1 -4 -1 -4  8 \n",
      "-7 -2 -2  9  5  6  3 \n",
      " 7  1  2  0  8  3 -5 \n",
      "\n",
      "([0, 4], [0, 1])\n",
      "\n",
      " 4 -9 -8 -2  9  7 -6 \n",
      " 1  9  8 -3 -5  4  0 \n",
      "-3  4 -5 -7  2  4  1 \n",
      "-6 -1 -1 -4 -6 -4  8 \n",
      "-7  5 -2  9 -2  6  3 \n",
      " 7  8  2  0  1  3 -5 \n"
     ]
    }
   ],
   "source": [
    "# 52\n",
    "\"\"\"Matritsaning eng katta va eng kicik elementlari joylawgan ustunlarni orinlarini almawtiriw\"\"\"\n",
    "M=CreatRandomMatrix(6,7)\n",
    "PrintMatrix(M)\n",
    "print()\n",
    "mini,maxi=IndexMinMaxMatrix(M) # matritsaning min va max lari indekslari \n",
    "print(IndexMinMaxMatrix(M))\n",
    "print()\n",
    "x=mini[1] # min ning ustun indeksi\n",
    "y=maxi[1] # max ning ustun indeksi\n",
    "shiftColumns(M,x,y)\n",
    "PrintMatrix(M)"
   ]
  },
  {
   "cell_type": "code",
   "execution_count": 12,
   "id": "84f0a33d-5c9e-43f4-acf6-42486f0d6607",
   "metadata": {},
   "outputs": [
    {
     "name": "stdout",
     "output_type": "stream",
     "text": [
      "-4  6 -5 -1 -4  9 -1 \n",
      "-9  3 -9  3 -7  8  9 \n",
      "-6  8  4  7  3  3 -2 \n",
      "-6  9  4 -3  3  5 -6 \n",
      "-8  6 -3  1  9  6  7 \n",
      " 7  3  5  2  8  3  0 \n",
      "\n",
      " 9  6 -5 -1 -4 -4 -1 \n",
      " 8  3 -9  3 -7 -9  9 \n",
      " 3  8  4  7  3 -6 -2 \n",
      " 5  9  4 -3  3 -6 -6 \n",
      " 6  6 -3  1  9 -8  7 \n",
      " 3  3  5  2  8  7  0 \n"
     ]
    }
   ],
   "source": [
    "# 53\n",
    "\"\"\"Matritsaning dastlabki ustuni bilan faqat musbat elementlardan iborat oxirgi  ustun bilan almawtiriw\"\"\"\n",
    "M=[[-4, 6, -5, -1, -4, 9, -1],\n",
    "   [-9, 3, -9, 3, -7, 8, 9],\n",
    "   [-6, 8, 4, 7, 3, 3, -2],\n",
    "   [-6, 9, 4, -3, 3, 5, -6],\n",
    "   [-8, 6, -3, 1, 9, 6, 7],\n",
    "   [7, 3, 5, 2, 8, 3, 0]]\n",
    "PrintMatrix(M)\n",
    "print()\n",
    "for column in range(-1,-len(M[0]),-1): #loop kamroq aylaniwi u-n range() ni oxiridan aylanttirdik.\n",
    "    for row in range(len(M)):\n",
    "        if M[row][column]>0: # teskari tartibda ustun elementlarini musbatga tekwiriw\n",
    "            pass\n",
    "        else:\n",
    "            break\n",
    "    else:\n",
    "        shiftColumns(M,0,column)\n",
    "        break\n",
    "PrintMatrix(M)"
   ]
  },
  {
   "cell_type": "code",
   "execution_count": 10,
   "id": "1b82ae09-3541-4b24-a726-592c43f5eac1",
   "metadata": {},
   "outputs": [
    {
     "name": "stdout",
     "output_type": "stream",
     "text": [
      "-4  6 -5 -1 -4  9 -1 \n",
      "-9  3 -9  3 -7  8  9 \n",
      "-6  8 -4  7  3  3 -2 \n",
      "-6  9 -4 -3  3  5 -6 \n",
      "-8  6 -3  1  9  6  7 \n",
      " 7  3 -5 -2  8  3  0 \n",
      "\n",
      "-4  6 -1 -1 -4  9 -5 \n",
      "-9  3  9  3 -7  8 -9 \n",
      "-6  8 -2  7  3  3 -4 \n",
      "-6  9 -6 -3  3  5 -4 \n",
      "-8  6  7  1  9  6 -3 \n",
      " 7  3  0 -2  8  3 -5 \n"
     ]
    }
   ],
   "source": [
    "# 54\n",
    "\"\"\"Matritsaning oxirgi ustuni bilan faqat manfiy elementlardan iborat dastlabki  ustun bilan almawtiriw\"\"\"\n",
    "M=[[-4, 6, -5, -1, -4, 9, -1],\n",
    "   [-9, 3, -9, 3, -7, 8, 9],\n",
    "   [-6, 8, -4, 7, 3, 3, -2],\n",
    "   [-6, 9, -4, -3, 3, 5, -6],\n",
    "   [-8, 6, -3, 1, 9, 6, 7],\n",
    "   [7, 3, -5, -2, 8, 3, 0]]\n",
    "PrintMatrix(M)\n",
    "print()\n",
    "for column in range(len(M[0])-1): #loop karoq aylaniwi u-n range() ni oxiridan aylanttirdik.\n",
    "    for row in range(len(M)):\n",
    "        if M[row][column]<0: # teskari tartibda ustun elementlarini musbatga tekwiriw\n",
    "            pass\n",
    "        else:\n",
    "            break\n",
    "    else:\n",
    "        shiftColumns(M,-1,column)\n",
    "        break\n",
    "PrintMatrix(M)"
   ]
  },
  {
   "cell_type": "code",
   "execution_count": 9,
   "id": "cddf5252-5865-44ab-a09d-a0652c21cd4d",
   "metadata": {
    "tags": []
   },
   "outputs": [
    {
     "name": "stdin",
     "output_type": "stream",
     "text": [
      "Matritsaning satrlar soni(JUFT BOLGAN)ni kiriting:  6\n",
      "Matritsaning ustunlar sonini kiriting:  5\n"
     ]
    },
    {
     "name": "stdout",
     "output_type": "stream",
     "text": [
      " 4 -9  1  5  3 \n",
      " 4  5  3 -6 -1 \n",
      " 6 -9  8 -4  1 \n",
      "-1 -9 -8  7 -9 \n",
      " 8  7  5  2  8 \n",
      " 2 -3  2 -4  0 \n",
      "\n",
      "-1 -9 -8  7 -9 \n",
      " 8  7  5  2  8 \n",
      " 2 -3  2 -4  0 \n",
      " 4 -9  1  5  3 \n",
      " 4  5  3 -6 -1 \n",
      " 6 -9  8 -4  1 \n"
     ]
    }
   ],
   "source": [
    "# 55\n",
    "\"\"\"mxn (m-juft son) matritsaning yuqori yarmi bilan pastki yarmini elementlarini almawtiriw\"\"\"\n",
    "m=int(input(\"Matritsaning satrlar soni(JUFT BOLGAN)ni kiriting: \"))\n",
    "n=int(input(\"Matritsaning ustunlar sonini kiriting: \"))\n",
    "M=CreatRandomMatrix(m,n)\n",
    "PrintMatrix(M)\n",
    "print()\n",
    "if M and m%2==0:\n",
    "    for i in range(m//2):\n",
    "        shiftRows(M,i,m//2+i)\n",
    "PrintMatrix(M)    "
   ]
  },
  {
   "cell_type": "code",
   "execution_count": 32,
   "id": "bba4b866-f091-4825-a83e-c52f65b59f02",
   "metadata": {},
   "outputs": [
    {
     "name": "stdin",
     "output_type": "stream",
     "text": [
      "Matritsaning satrlar sonini kiriting:  5\n",
      "Matritsaning ustunlar soni(JUFT BOLGAN)ni kiriting:  6\n"
     ]
    },
    {
     "name": "stdout",
     "output_type": "stream",
     "text": [
      "-1  7 -9 -3 -5 -2 \n",
      "-8  9 -8 -2  6  1 \n",
      "-7  7  4  3  9  5 \n",
      " 5  3 -5  8  1  7 \n",
      "-4  0 -1 -6  5  6 \n",
      "\n",
      "-3 -5 -2 -1  7 -9 \n",
      "-2  6  1 -8  9 -8 \n",
      " 3  9  5 -7  7  4 \n",
      " 8  1  7  5  3 -5 \n",
      "-6  5  6 -4  0 -1 \n"
     ]
    }
   ],
   "source": [
    "# 56\n",
    "\"\"\"mxn (n-juft son) matritsaning cap yarmi bilan ong yarmini elementlarini almawtiriw\"\"\"\n",
    "m=int(input(\"Matritsaning satrlar sonini kiriting: \"))\n",
    "n=int(input(\"Matritsaning ustunlar soni(JUFT BOLGAN)ni kiriting: \"))\n",
    "M=CreatRandomMatrix(m,n)\n",
    "PrintMatrix(M)\n",
    "print()\n",
    "if M and n%2==0:\n",
    "    for column in range(n//2):\n",
    "        for row in range(len(M)):\n",
    "            shiftColumns(M,column,n//2+column)\n",
    "PrintMatrix(M)"
   ]
  },
  {
   "cell_type": "code",
   "execution_count": 17,
   "id": "c92c4a6c-db26-476a-aaa9-0669545deda5",
   "metadata": {
    "tags": []
   },
   "outputs": [
    {
     "name": "stdin",
     "output_type": "stream",
     "text": [
      "Matritsaning satrlar soni(JUFT BOlGAN)ni kiriting:  8\n",
      "Matritsaning ustunlar soni(JUFT BOlGAN)ni kiriting:  10\n"
     ]
    },
    {
     "name": "stdout",
     "output_type": "stream",
     "text": [
      " 6 -9  5  9 -3  1  0  7  4 -9 \n",
      " 5 -3 -1  0 -3  2  3 -6  8  1 \n",
      " 9 -1 -4 -8  1 -5  0 -6  2  6 \n",
      " 3  3  4 -2  9  7 -6 -8  9  6 \n",
      "-2  4 -5 -1 -1 -5  5  7  1 -5 \n",
      " 3 -5 -6  6 -7 -4  0 -7  2  2 \n",
      "-1  4 -9 -5 -4  5 -5 -9  5  2 \n",
      "-3 -3  7 -3 -1  1 -1 -1 -4 -5 \n",
      "\n",
      "-5  5  7  1 -5  1  0  7  4 -9 \n",
      "-4  0 -7  2  2  2  3 -6  8  1 \n",
      " 5 -5 -9  5  2 -5  0 -6  2  6 \n",
      " 1 -1 -1 -4 -5  7 -6 -8  9  6 \n",
      "-2  4 -5 -1 -1  6 -9  5  9 -3 \n",
      " 3 -5 -6  6 -7  5 -3 -1  0 -3 \n",
      "-1  4 -9 -5 -4  9 -1 -4 -8  1 \n",
      "-3 -3  7 -3 -1  3  3  4 -2  9 \n"
     ]
    }
   ],
   "source": [
    "# 57\n",
    "\"\"\"mxn (m va n-juft son) matritsaning yuqori cap yarmi bilan pastki ong yarmini elementlarini almawtiriw\"\"\"\n",
    "m=int(input(\"Matritsaning satrlar soni(JUFT BOlGAN)ni kiriting: \"))\n",
    "n=int(input(\"Matritsaning ustunlar soni(JUFT BOlGAN)ni kiriting: \"))\n",
    "M=CreatRandomMatrix(m,n)\n",
    "PrintMatrix(M)\n",
    "print()\n",
    "if M:\n",
    "    for row in range(m//2):\n",
    "        M[row][:n//2],M[m//2+row][n//2:]=M[m//2+row][n//2:],M[row][:n//2]\n",
    "PrintMatrix(M)   "
   ]
  },
  {
   "cell_type": "code",
   "execution_count": 18,
   "id": "439b5c5c-274a-4c1e-9e17-6d52bbc85600",
   "metadata": {
    "tags": []
   },
   "outputs": [
    {
     "name": "stdin",
     "output_type": "stream",
     "text": [
      "Matritsaning satrlar soni(JUFT BOlGAN)ni kiriting:  8\n",
      "Matritsaning ustunlar soni(JUFT BOlGAN)ni kiriting:  10\n"
     ]
    },
    {
     "name": "stdout",
     "output_type": "stream",
     "text": [
      "-2 -6 -4  9 -6  5  7  3  5 -7 \n",
      " 3  6  6 -7 -3  9  3 -8 -8  0 \n",
      " 1  6 -6  5  4  9  9  4  1  5 \n",
      " 3 -9 -3 -7  9  9  1  6  3 -8 \n",
      " 3 -9  7  5 -1  7 -3  1 -8  0 \n",
      " 2  5  4  1  9  0  7  5  2 -4 \n",
      " 8 -3  1 -4 -9  5 -7 -4  1 -2 \n",
      " 4 -9  7 -8 -2  1 -9  9 -2  1 \n",
      "\n",
      "-2 -6 -4  9 -6  3 -9  7  5 -1 \n",
      " 3  6  6 -7 -3  2  5  4  1  9 \n",
      " 1  6 -6  5  4  8 -3  1 -4 -9 \n",
      " 3 -9 -3 -7  9  4 -9  7 -8 -2 \n",
      " 5  7  3  5 -7  7 -3  1 -8  0 \n",
      " 9  3 -8 -8  0  0  7  5  2 -4 \n",
      " 9  9  4  1  5  5 -7 -4  1 -2 \n",
      " 9  1  6  3 -8  1 -9  9 -2  1 \n"
     ]
    }
   ],
   "source": [
    "# 58\n",
    "\"\"\"mxn (m va n-juft son) matritsaning yuqori ong yarmi bilan pastki cap yarmini elementlarini almawtiriw\"\"\"\n",
    "m=int(input(\"Matritsaning satrlar soni(JUFT BOlGAN)ni kiriting: \"))\n",
    "n=int(input(\"Matritsaning ustunlar soni(JUFT BOlGAN)ni kiriting: \"))\n",
    "M=CreatRandomMatrix(m,n)\n",
    "PrintMatrix(M)\n",
    "print()\n",
    "if M:\n",
    "    for row in range(m//2):\n",
    "        M[row][n//2:],M[m//2+row][:n//2]=M[m//2+row][:n//2],M[row][n//2:]\n",
    "PrintMatrix(M) "
   ]
  },
  {
   "cell_type": "code",
   "execution_count": 30,
   "id": "63cb0199-e2be-4c33-a47a-c971c47a05b4",
   "metadata": {
    "tags": []
   },
   "outputs": [
    {
     "name": "stdin",
     "output_type": "stream",
     "text": [
      "Matritsaning satrlar sonini kiriting:  5\n",
      "Matritsaning ustunlar sonini kiriting:  6\n"
     ]
    },
    {
     "name": "stdout",
     "output_type": "stream",
     "text": [
      " 2  1  3 -8  1  1 \n",
      "-9 -7  8  4  0  2 \n",
      " 5  6 -1 -4 -1  0 \n",
      " 3 -3 -4 -3 -4  6 \n",
      " 3 -4 -9 -4 -1 -4 \n",
      "\n",
      " 3 -4 -9 -4 -1 -4 \n",
      " 3 -3 -4 -3 -4  6 \n",
      " 5  6 -1 -4 -1  0 \n",
      "-9 -7  8  4  0  2 \n",
      " 2  1  3 -8  1  1 \n"
     ]
    }
   ],
   "source": [
    "# 59\n",
    "\"\"\"mxn matritsaning 1 va m-1, 2 va m-2 satrlar elementlarini almawtiriw\"\"\"\n",
    "m=int(input(\"Matritsaning satrlar sonini kiriting: \"))\n",
    "n=int(input(\"Matritsaning ustunlar sonini kiriting: \"))\n",
    "M=CreatRandomMatrix(m,n)\n",
    "PrintMatrix(M)\n",
    "print()\n",
    "if M:\n",
    "    for i in range(m//2):\n",
    "        shiftRows(M,i,(m-1)-i)\n",
    "PrintMatrix(M)  "
   ]
  },
  {
   "cell_type": "code",
   "execution_count": 29,
   "id": "bb29a82a-41cb-46d1-b401-b7e9aab14e21",
   "metadata": {},
   "outputs": [
    {
     "name": "stdin",
     "output_type": "stream",
     "text": [
      "Matritsaning satrlar sonini kiriting:  5\n",
      "Matritsaning ustunlar sonini kiriting:  6\n"
     ]
    },
    {
     "name": "stdout",
     "output_type": "stream",
     "text": [
      "-5  5 -9 -7  0 -3 \n",
      " 8  7 -7 -8  1  4 \n",
      "-5  2 -2  1  4 -8 \n",
      " 4 -4 -3  2  5 -2 \n",
      " 2  8 -7 -7  0  9 \n",
      "\n",
      "-3  0 -7 -9  5 -5 \n",
      " 4  1 -8 -7  7  8 \n",
      "-8  4  1 -2  2 -5 \n",
      "-2  5  2 -3 -4  4 \n",
      " 9  0 -7 -7  8  2 \n"
     ]
    }
   ],
   "source": [
    "# 60\n",
    "\"\"\"mxn (n-juft son) matritsaning 1 va n-1, 2 va n-2 ustunlar elementlarini almawtiriw\"\"\"\n",
    "m=int(input(\"Matritsaning satrlar sonini kiriting: \"))\n",
    "n=int(input(\"Matritsaning ustunlar sonini kiriting: \"))\n",
    "M=CreatRandomMatrix(m,n)\n",
    "PrintMatrix(M)\n",
    "print()\n",
    "if M:\n",
    "    for column in range(n//2):\n",
    "        for row in range(m):\n",
    "            shiftColumns(M,column,(n-1)-column)\n",
    "PrintMatrix(M)"
   ]
  },
  {
   "cell_type": "code",
   "execution_count": 21,
   "id": "67668f0a-0029-47e2-a717-6cbf477396ad",
   "metadata": {
    "tags": []
   },
   "outputs": [
    {
     "name": "stdout",
     "output_type": "stream",
     "text": [
      " 3  8 -9  8  8 \n",
      "-3  9 -8 -4  5 \n",
      " 3  5  4  4 -7 \n",
      " 6  8  0  6 -3 \n",
      "\n",
      " 3  8 -9  8  8 \n",
      " 3  5  4  4 -7 \n",
      " 6  8  0  6 -3 \n"
     ]
    }
   ],
   "source": [
    "# 61\n",
    "def popRowMatrix(M,k):\n",
    "    \"\"\"Matritsaning k-satrini ociriw\"\"\"\n",
    "    M.pop(k)\n",
    "    return M\n",
    "M=CreatRandomMatrix(4,5)\n",
    "PrintMatrix(M)\n",
    "print()\n",
    "popRowMatrix(M,1)\n",
    "PrintMatrix(M)"
   ]
  },
  {
   "cell_type": "code",
   "execution_count": 22,
   "id": "7468baeb-3703-4c54-a98c-5149e36f7d18",
   "metadata": {
    "tags": []
   },
   "outputs": [
    {
     "name": "stdout",
     "output_type": "stream",
     "text": [
      "-9  6  4  6  1 -7 \n",
      " 9  8  2  6 -2  2 \n",
      " 3  2 -3  7  7  2 \n",
      "-7  3  4  9 -5 -9 \n",
      " 4  2  3 -3 -6  4 \n",
      "\n",
      "-9  4  6  1 -7 \n",
      " 9  2  6 -2  2 \n",
      " 3 -3  7  7  2 \n",
      "-7  4  9 -5 -9 \n",
      " 4  3 -3 -6  4 \n"
     ]
    }
   ],
   "source": [
    "# 62\n",
    "def popColumnMatrix(M,k):\n",
    "    \"\"\"Matritsaning k-ustunini ociriw\"\"\"\n",
    "    for i in M:\n",
    "        i.pop(k)\n",
    "    return M\n",
    "M=CreatRandomMatrix(5,6)\n",
    "PrintMatrix(M)\n",
    "print()\n",
    "popColumnMatrix(M,1)\n",
    "PrintMatrix(M)"
   ]
  },
  {
   "cell_type": "code",
   "execution_count": 23,
   "id": "78c87402-4c8a-4c7f-a0c7-08ae16b30cdd",
   "metadata": {
    "tags": []
   },
   "outputs": [
    {
     "name": "stdout",
     "output_type": "stream",
     "text": [
      " 9  8  0 -7 -7 \n",
      "-7 -1  0 -3 -1 \n",
      "-1  3  7 -1 -1 \n",
      "-9 -1  1  5  7 \n",
      "\n",
      "Matritsaning min qiymati:  [3, 0]\n",
      " 9  8  0 -7 -7 \n",
      "-7 -1  0 -3 -1 \n",
      "-1  3  7 -1 -1 \n"
     ]
    }
   ],
   "source": [
    "# 63\n",
    "\"\"\"Matritsaning eng kicik element joylawgan satrni ociriw\"\"\"\n",
    "M=CreatRandomMatrix(4,5)\n",
    "PrintMatrix(M)\n",
    "print()\n",
    "mini=IndexMinMaxMatrix(M)[0] # min qiymatning satr va ustun boyica joylawuvini qaytaruvci funksiya\n",
    "print(\"Matritsaning min qiymati: \",mini)\n",
    "row=mini[0] # min ning satr boyica orni\n",
    "popRowMatrix(M,row) # k-satrni ociruvci funksiya\n",
    "PrintMatrix(M)"
   ]
  },
  {
   "cell_type": "code",
   "execution_count": 24,
   "id": "4a86a16b-819c-45d3-95d4-d8dce5b520fc",
   "metadata": {
    "tags": []
   },
   "outputs": [
    {
     "name": "stdout",
     "output_type": "stream",
     "text": [
      "-8 -6  7  8 -7 \n",
      " 7  5 -7 -5 -9 \n",
      "-9 -6 -1  4  9 \n",
      "-1 -3 -8 -3 -6 \n",
      "\n",
      "Matritsaning max qiymati:  [2, 4]\n",
      "-8 -6  7  8 \n",
      " 7  5 -7 -5 \n",
      "-9 -6 -1  4 \n",
      "-1 -3 -8 -3 \n"
     ]
    }
   ],
   "source": [
    "# 64\n",
    "\"\"\"Matritsaning eng katta element joylawgan ustunni ociriw\"\"\"\n",
    "M=CreatRandomMatrix(4,5)\n",
    "PrintMatrix(M)\n",
    "print()\n",
    "maxi=IndexMinMaxMatrix(M)[1] # max qiymatning satr va ustun boyica joylawuvini qaytaruvci funksiya\n",
    "print(\"Matritsaning max qiymati: \",maxi)\n",
    "column=maxi[1] # max ning ustun boyica orni\n",
    "popColumnMatrix(M,column) # k-ustunni ociruvci funksiya\n",
    "PrintMatrix(M)"
   ]
  },
  {
   "cell_type": "code",
   "execution_count": 25,
   "id": "599bd7fe-fa63-4c19-81e5-64edfd417773",
   "metadata": {},
   "outputs": [
    {
     "name": "stdout",
     "output_type": "stream",
     "text": [
      "-5  3 -6  3 -4 \n",
      " 0  3  8  7  6 \n",
      "-4  9  8  2  7 \n",
      "-3  5 -7 -5 -1 \n",
      "\n",
      "-5 -6  3 -4 \n",
      " 0  8  7  6 \n",
      "-4  8  2  7 \n",
      "-3 -7 -5 -1 \n"
     ]
    }
   ],
   "source": [
    "# 65\n",
    "\"\"\"Matritsaning faqat musbat elementlardan iborat dastlabki ustunini ociriw\"\"\"\n",
    "# M=CreatRandomMatrix(4,5)\n",
    "M=[[-5, 3, -6, 3, -4], [0, 3, 8, 7, 6], [-4, 9, 8, 2, 7], [-3, 5, -7, -5, -1]]\n",
    "PrintMatrix(M)\n",
    "print()\n",
    "for column in range(len(M[0])):\n",
    "    for row in range(len(M)):\n",
    "        if M[row][column]>0:\n",
    "            pass\n",
    "        else:\n",
    "            break # ustunda musbat ketma-ketlik buzilsa loop break qilinadi.\n",
    "    else:\n",
    "        popColumnMatrix(M,column) # k-ustunni ociruvci funksiya caqirildi.\n",
    "        break\n",
    "PrintMatrix(M) # matritsa koriniwida ciqaruvci funksiya caqirildi."
   ]
  },
  {
   "cell_type": "code",
   "execution_count": 26,
   "id": "872a3c7e-04f1-4c0e-8db8-f9ac0cc65305",
   "metadata": {
    "tags": []
   },
   "outputs": [
    {
     "name": "stdout",
     "output_type": "stream",
     "text": [
      " 2  4 -5  0 -9  6 -4 \n",
      " 8  2 -7 -7 -9  9  1 \n",
      "-6  1 -1 -1 -3  3 -6 \n",
      "-1  2 -6  0 -6  6  7 \n",
      "\n",
      " 2  4 -5  0  6 -4 \n",
      " 8  2 -7 -7  9  1 \n",
      "-6  1 -1 -1  3 -6 \n",
      "-1  2 -6  0  6  7 \n"
     ]
    }
   ],
   "source": [
    "# 66\n",
    "\"\"\"Matritsaning faqat manfiy elementlardan iborat oxirgi ustunini ociriw\"\"\"\n",
    "# M=CreatRandomMatrix(4,8)\n",
    "M=[[2, 4, -5, 0, -9, 6, -4],\n",
    "   [8, 2, -7, -7, -9, 9, 1],\n",
    "   [-6, 1, -1, -1, -3, 3, -6],\n",
    "   [-1, 2, -6, 0, -6, 6, 7]]\n",
    "PrintMatrix(M)\n",
    "print()\n",
    "for column in range(-1,-len(M[0])-1,-1):\n",
    "    for row in range(len(M)):\n",
    "        if M[row][column]<0:\n",
    "            pass\n",
    "        else:\n",
    "            break\n",
    "    else:\n",
    "        popColumnMatrix(M,column)\n",
    "        break\n",
    "PrintMatrix(M)"
   ]
  },
  {
   "cell_type": "code",
   "execution_count": 27,
   "id": "2c61b687-4593-4158-9ed9-933ca028e638",
   "metadata": {
    "tags": []
   },
   "outputs": [
    {
     "name": "stdout",
     "output_type": "stream",
     "text": [
      " 2  4 -5  0 -9  6 -4 \n",
      " 8  2 -7 -7 -9  9  1 \n",
      "-6  1 -1 -1 -3  3 -6 \n",
      "-1  2 -6  0 -6  6  7 \n",
      "\n",
      " 2 -5  0 -9 -4 \n",
      " 8 -7 -7 -9  1 \n",
      "-6 -1 -1 -3 -6 \n",
      "-1 -6  0 -6  7 \n"
     ]
    }
   ],
   "source": [
    "# 67\n",
    "\"\"\"Matritsaning faqat musbat elementlardan iborat barca ustunlarini ociriw\"\"\"\n",
    "# M=CreatRandomMatrix(4,5)\n",
    "M=[[2, 4, -5, 0, -9, 6, -4],\n",
    "   [8, 2, -7, -7, -9, 9, 1],\n",
    "   [-6, 1, -1, -1, -3, 3, -6],\n",
    "   [-1, 2, -6, 0, -6, 6, 7]]\n",
    "PrintMatrix(M)\n",
    "print()\n",
    "column=0\n",
    "while column<len(M[0]):\n",
    "    for row in range(len(M)):\n",
    "        if M[row][column]>0:\n",
    "            pass\n",
    "        else:\n",
    "            break # ustunda musbat ketma-ketlik buzilsa loop break qilinadi.\n",
    "    else:\n",
    "        popColumnMatrix(M,column) # k-ustunni ociruvci funksiya caqirildi.\n",
    "        column -= 1\n",
    "    column += 1\n",
    "PrintMatrix(M) # matritsa koriniwida ciqaruvci funksiya caqirildi."
   ]
  },
  {
   "cell_type": "code",
   "execution_count": 28,
   "id": "f8e27735-2007-4856-a4e9-ecd4e54a3be5",
   "metadata": {
    "tags": []
   },
   "outputs": [],
   "source": [
    "def addRowToMatrix(Matrix,row,value):\n",
    "    \"\"\"Matritsaning k-satridan oldin elementlari bir hil qiymatli satr qowiw\"\"\"\n",
    "    Matrix.insert(row,[value for i in range(len(Matrix[0]))])\n",
    "    return Matrix"
   ]
  },
  {
   "cell_type": "code",
   "execution_count": 29,
   "id": "7b15351d-8131-431b-b669-9ceebbf09a6f",
   "metadata": {
    "tags": []
   },
   "outputs": [
    {
     "name": "stdout",
     "output_type": "stream",
     "text": [
      " 3 -3  3  8  8 -4 -6 \n",
      " 7 -3 -6  6 -5 -7 -2 \n",
      " 3  4  2  4 -1  3  6 \n",
      " 5 -5  5  2 -5 -1 -9 \n",
      " 5 -1  8  5 -9  4 -5 \n",
      " 2 -9 -9 -4  4  1  6 \n",
      " 3 -9  9  0 -8 -3  7 \n",
      " 7 -2 -9  3  2  1  3 \n",
      "\n",
      " 3 -3  3  8  8 -4 -6 \n",
      " 0  0  0  0  0  0  0 \n",
      " 7 -3 -6  6 -5 -7 -2 \n",
      " 3  4  2  4 -1  3  6 \n",
      " 5 -5  5  2 -5 -1 -9 \n",
      " 5 -1  8  5 -9  4 -5 \n",
      " 2 -9 -9 -4  4  1  6 \n",
      " 3 -9  9  0 -8 -3  7 \n",
      " 7 -2 -9  3  2  1  3 \n"
     ]
    }
   ],
   "source": [
    "# 68\n",
    "\"\"\"Matritsaning k-satr oldidan elementlari nolga teng satr qowiw\"\"\"\n",
    "Matrix=CreatRandomMatrix(8,7)\n",
    "PrintMatrix(Matrix)\n",
    "print()\n",
    "addRowToMatrix(Matrix,1,0)\n",
    "PrintMatrix(Matrix)"
   ]
  },
  {
   "cell_type": "code",
   "execution_count": 30,
   "id": "baea6781-f7a1-4e32-9a59-a6a5b31daf76",
   "metadata": {
    "tags": []
   },
   "outputs": [],
   "source": [
    "def addColumnToMatrix(Matrix,column,value):\n",
    "    \"\"\"Matritsaning k-ustunidan oldin elementlari bir hil qiymatli ustun qowiw\"\"\"\n",
    "    for row in range(len(Matrix)):\n",
    "        Matrix[row].insert(column,value)\n",
    "    return Matrix"
   ]
  },
  {
   "cell_type": "code",
   "execution_count": 31,
   "id": "d8718d50-51b7-4380-b98f-8a5584cda03b",
   "metadata": {
    "tags": []
   },
   "outputs": [
    {
     "name": "stdout",
     "output_type": "stream",
     "text": [
      " 3 -9 -6 -1  5  1  1 \n",
      "-7  1 -4 -5  6  2 -6 \n",
      " 9  5 -2 -6  3 -3 -1 \n",
      " 8  9 -5 -5  4  0  8 \n",
      "-8  0  0 -5  9  9 -3 \n",
      "-9 -6 -7  9 -4  1 -3 \n",
      "-8 -7 -1 -8 -1  0  2 \n",
      " 8 -6 -8 -5  1 -9  9 \n",
      "\n",
      " 3 -9  1 -6 -1  5  1  1 \n",
      "-7  1  1 -4 -5  6  2 -6 \n",
      " 9  5  1 -2 -6  3 -3 -1 \n",
      " 8  9  1 -5 -5  4  0  8 \n",
      "-8  0  1  0 -5  9  9 -3 \n",
      "-9 -6  1 -7  9 -4  1 -3 \n",
      "-8 -7  1 -1 -8 -1  0  2 \n",
      " 8 -6  1 -8 -5  1 -9  9 \n"
     ]
    }
   ],
   "source": [
    "# 69\n",
    "\"\"\"Matritsaning k-ustunidan oldin elementlari 1 ga teng ustun qowiw\"\"\"\n",
    "Matrix=CreatRandomMatrix(8,7)\n",
    "PrintMatrix(Matrix)\n",
    "print()\n",
    "k=1 # k-ustundan keyin ustun uchun value=k+1\n",
    "addColumnToMatrix(Matrix,2,1)\n",
    "PrintMatrix(Matrix)"
   ]
  },
  {
   "cell_type": "code",
   "execution_count": 32,
   "id": "696d8def-0fb0-45d0-8088-cf7230c3166d",
   "metadata": {
    "tags": []
   },
   "outputs": [
    {
     "name": "stdout",
     "output_type": "stream",
     "text": [
      "-4 -2 -2  2 -6 -5  3 \n",
      "-5  5  2  5  2 -6  9 \n",
      "-3  9 -4  6  1 -9  0 \n",
      " 3  4 -7 -4 -6 -3 -2 \n",
      "-2 -4  5  4  2 -3 -1 \n",
      " 3 -9 -8 -1  7  1  2 \n",
      " 3  9 -1 -1  6  4 -3 \n",
      "-1 -3  2 -8  3  1 -7 \n",
      "\n",
      "Maxi indeksi:  [1, 6]\n",
      "-4 -2 -2  2 -6 -5  3 \n",
      "-5  5  2  5  2 -6  9 \n",
      "-5  5  2  5  2 -6  9 \n",
      "-3  9 -4  6  1 -9  0 \n",
      " 3  4 -7 -4 -6 -3 -2 \n",
      "-2 -4  5  4  2 -3 -1 \n",
      " 3 -9 -8 -1  7  1  2 \n",
      " 3  9 -1 -1  6  4 -3 \n",
      "-1 -3  2 -8  3  1 -7 \n"
     ]
    }
   ],
   "source": [
    "# 70\n",
    "\"\"\"Matritsaning maxi si joylawgan satrdan song huddi wunday satr qowiw\"\"\"\n",
    "M=CreatRandomMatrix(8,7)\n",
    "PrintMatrix(M)\n",
    "print()\n",
    "maxi=IndexMinMaxMatrix(M)[1]\n",
    "print(\"Maxi indeksi: \",maxi)\n",
    "maxiRow=maxi[0]\n",
    "M.insert(maxiRow+1,[M[maxiRow][column] for column in range(len(M[0]))])\n",
    "PrintMatrix(M)"
   ]
  },
  {
   "cell_type": "code",
   "execution_count": 33,
   "id": "0102fdbd-31d8-4ec4-9552-d389a4385e61",
   "metadata": {},
   "outputs": [
    {
     "name": "stdout",
     "output_type": "stream",
     "text": [
      " 4  1  3  7 -4  0  1 \n",
      " 3  3 -8  7  6  4 -1 \n",
      " 1  9 -6 -7  3  0 -6 \n",
      " 4  7  0  1  9  3 -2 \n",
      "-8  9  3  1  7  8 -3 \n",
      "-1  7  0  1 -6 -9  6 \n",
      " 9 -3 -5  4 -2 -7 -9 \n",
      " 7  0  4  8  3 -3 -8 \n",
      "\n",
      "Mini indeksi:  [5, 5]\n",
      " 4  1  3  7 -4  0  0  1 \n",
      " 3  3 -8  7  6  4  4 -1 \n",
      " 1  9 -6 -7  3  0  0 -6 \n",
      " 4  7  0  1  9  3  3 -2 \n",
      "-8  9  3  1  7  8  8 -3 \n",
      "-1  7  0  1 -6 -9 -9  6 \n",
      " 9 -3 -5  4 -2 -7 -7 -9 \n",
      " 7  0  4  8  3 -3 -3 -8 \n"
     ]
    }
   ],
   "source": [
    "# 71\n",
    "\"\"\"Matritsaning mini si joylawgan ustundan song huddi wunday ustun qowiw\"\"\"\n",
    "M=CreatRandomMatrix(8,7)\n",
    "PrintMatrix(M)\n",
    "print()\n",
    "mini=IndexMinMaxMatrix(M)[0]\n",
    "print(\"Mini indeksi: \",mini)\n",
    "miniColumn=mini[1]\n",
    "for row in range(len(M)):\n",
    "    M[row].insert(miniColumn+1,M[row][miniColumn])\n",
    "PrintMatrix(M)"
   ]
  },
  {
   "cell_type": "code",
   "execution_count": 34,
   "id": "b9e5d020-334b-439f-bd6b-7aee69d8172e",
   "metadata": {
    "tags": []
   },
   "outputs": [
    {
     "name": "stdout",
     "output_type": "stream",
     "text": [
      "-5  3 -6  3 -4 \n",
      " 0  3  8  7  6 \n",
      "-4  9  8  2  7 \n",
      "-3  5 -7 -5 -1 \n",
      "\n",
      "-5  1  3 -6  3 -4 \n",
      " 0  1  3  8  7  6 \n",
      "-4  1  9  8  2  7 \n",
      "-3  1  5 -7 -5 -1 \n"
     ]
    }
   ],
   "source": [
    "# 72\n",
    "\"\"\"Matritsaning faqat musbat elementlaridan iborat dastlabki ustundan oldin elementlari 1 ga teng ustun qowiw\"\"\"\n",
    "M=[[-5, 3, -6, 3, -4], \n",
    "   [0, 3, 8, 7, 6], \n",
    "   [-4, 9, 8, 2, 7], \n",
    "   [-3, 5, -7, -5, -1]]\n",
    "PrintMatrix(M)\n",
    "print()\n",
    "for column in range(len(M[0])):\n",
    "    for row in range(len(M)):\n",
    "        if M[row][column]>0:\n",
    "            pass\n",
    "        else:\n",
    "            break\n",
    "    else:\n",
    "        addColumnToMatrix(M,column,1)\n",
    "        break\n",
    "PrintMatrix(M)"
   ]
  },
  {
   "cell_type": "code",
   "execution_count": 35,
   "id": "da4675f2-9a44-461e-ad65-4e3d0c8b9fea",
   "metadata": {
    "tags": []
   },
   "outputs": [
    {
     "name": "stdout",
     "output_type": "stream",
     "text": [
      " 2  4 -5  0 -9  6 -4 \n",
      " 8  2 -7 -7 -9  9  1 \n",
      "-6  1 -1 -1 -3  3 -6 \n",
      "-1  2 -6  0 -6  6  7 \n",
      "\n",
      " 2  4 -5  0 -9  0  6 -4 \n",
      " 8  2 -7 -7 -9  0  9  1 \n",
      "-6  1 -1 -1 -3  0  3 -6 \n",
      "-1  2 -6  0 -6  0  6  7 \n"
     ]
    }
   ],
   "source": [
    "# 73\n",
    "\"\"\"Matritsaning faqat manfiy elementlaridan iborat songi ustundan keyin elementlari 0 ga teng ustun qowiw\"\"\"\n",
    "# M=CreatRandomMatrix(4,8)\n",
    "M=[[2, 4, -5, 0, -9, 6, -4],\n",
    "   [8, 2, -7, -7, -9, 9, 1],\n",
    "   [-6, 1, -1, -1, -3, 3, -6],\n",
    "   [-1, 2, -6, 0, -6, 6, 7]]\n",
    "PrintMatrix(M)\n",
    "print()\n",
    "for column in range(-1,-len(M[0])-1,-1):\n",
    "    for row in range(len(M)):\n",
    "        if M[row][column]<0:\n",
    "            pass\n",
    "        else:\n",
    "            break\n",
    "    else:\n",
    "        addColumnToMatrix(M,column+1,0)\n",
    "        break\n",
    "PrintMatrix(M)"
   ]
  },
  {
   "cell_type": "code",
   "execution_count": 25,
   "id": "1b98b27e-87a2-417f-a0e3-0d807560aa54",
   "metadata": {
    "tags": []
   },
   "outputs": [
    {
     "name": "stdin",
     "output_type": "stream",
     "text": [
      "m=  10\n",
      "n=  12\n"
     ]
    },
    {
     "name": "stdout",
     "output_type": "stream",
     "text": [
      "-2 -5 -9 -4 -1 -2  0  8  6  5 -7 -3 \n",
      " 9  3 -2  0 -8 -5  0  9  0  7  0 -3 \n",
      " 7 -4 -5 -6  0 -1  9 -3 -6  3  2 -1 \n",
      " 3  7 -9 -7 -7 -5 -9 -7  0 -5  6 -8 \n",
      " 6 -9  3  8  8  4  8 -9 -2  5  5 -5 \n",
      " 9 -7 -4  0 -4  6 -5 -2  0 -7 -7 -5 \n",
      "-4 -5  5  8 -9 -7  0 -1 -8 -2 -7  1 \n",
      " 2 -2  1  4  4  0  8 -2  2 -7 -2 -1 \n",
      " 0  5 -5  8  8 -9 -4 -7  9 -5  0  5 \n",
      " 3 -8  9 -5 -1 -8 -6 -4  8 -4 -4  8 \n",
      "\n",
      "-2 -5  0 -4 -1 -2  0  8  6  5  0 -3 \n",
      " 9  3 -2  0  0 -5  0  9  0  7  0 -3 \n",
      " 7 -4 -5 -6  0 -1  9 -3  0  3  2 -1 \n",
      " 3  7  0 -7 -7 -5  0 -7  0  0  6  0 \n",
      " 6  0  3  8  8  4  8  0 -2  5  5 -5 \n",
      " 9 -7 -4  0 -4  6  0 -2  0 -7 -7 -5 \n",
      "-4 -5  5  8  0 -7  0 -1  0 -2 -7  1 \n",
      " 2 -2  1  4  4  0  8 -2  2  0 -2 -1 \n",
      " 0  5  0  8  8  0 -4  0  9 -5  0  5 \n",
      " 3  0  9  0 -1 -8 -6 -4  8 -4 -4  8 \n"
     ]
    }
   ],
   "source": [
    "# 74\n",
    "import copy\n",
    "\"\"\"Matritsaning barca lokal minimumlarning qiymatlarini 0 ga aylantiriw\"\"\"\n",
    "m=int(input(\"m= \"))\n",
    "n=int(input(\"n= \"))\n",
    "M=CreatRandomMatrix(m,n)\n",
    "PrintMatrix(M)\n",
    "print()\n",
    "A=copy.deepcopy(M)\n",
    "for row in range(m-1):\n",
    "    for column in range(n-1):\n",
    "        if M[row-1][column]>M[row][column]<M[row+1][column] and M[row][column-1]>M[row][column]<M[row][column+1]:\n",
    "            A[row][column]=0\n",
    "for row in range(m-1):\n",
    "    if M[row-1][-1]>M[row][-1]<M[row+1][-1] and M[row][-1]<M[row][-2]:\n",
    "            A[row][-1]=0    \n",
    "for column in range(n-1):\n",
    "    if M[-1][column-1]>M[-1][column]<M[-1][column+1] and M[-1][column]<M[-2][column]:\n",
    "            A[-1][column]=0   \n",
    "if M[m-1][n-2]>M[m-1][n-1]<M[m-2][n-1]:\n",
    "            A[m-1][n-1]=0   \n",
    "PrintMatrix(A)"
   ]
  },
  {
   "cell_type": "code",
   "execution_count": 26,
   "id": "6efb8c24-8f45-4565-8fda-a046075fcd45",
   "metadata": {
    "tags": []
   },
   "outputs": [
    {
     "name": "stdin",
     "output_type": "stream",
     "text": [
      "m=  10\n",
      "n=  12\n"
     ]
    },
    {
     "name": "stdout",
     "output_type": "stream",
     "text": [
      " 6  0 -6 -4  4  3 -2 -8 -5 -1  7  8 \n",
      " 8 -8  4  0  9 -7  5 -5  5  6 -2 -2 \n",
      "-6 -8 -5 -3  2 -5  9  0  8 -5 -3  7 \n",
      "-4  1  9 -3  6 -8  9 -9  9  8 -5  1 \n",
      " 1  7  8 -8 -6 -8 -7  5  5  6 -4 -5 \n",
      "-4 -6  8  6  4  7  9  0  8 -3  3  3 \n",
      " 8 -8  2  0  3  5  0 -8  6  6 -7  2 \n",
      " 8 -6  7 -5  9  5 -5  7  8  0 -3 -8 \n",
      "-9  4  0  5 -8 -3 -7 -2  9  9  4  6 \n",
      " 7 -7 -1  6 -2  7  8 -4  7  1 -1  3 \n",
      "\n",
      " 6  0 -6 -4  4  3 -2 -8 -5 -1  7  0 \n",
      " 0 -8  0  0  0 -7  5 -5  5  0 -2 -2 \n",
      "-6 -8 -5 -3  2 -5  9  0  8 -5 -3  0 \n",
      "-4  1  0 -3  0 -8  9 -9  0  8 -5  1 \n",
      " 1  7  8 -8 -6 -8 -7  5  5  6 -4 -5 \n",
      "-4 -6  8  6  4  7  0  0  0 -3  3  3 \n",
      " 8 -8  2  0  3  5  0 -8  6  6 -7  2 \n",
      " 8 -6  0 -5  0  5 -5  7  8  0 -3 -8 \n",
      "-9  0  0  5 -8 -3 -7 -2  9  9  4  0 \n",
      " 0 -7 -1  0 -2  7  0 -4  7  1 -1  3 \n"
     ]
    }
   ],
   "source": [
    "# 75\n",
    "import copy\n",
    "\"\"\"Matritsaning barca lokal maksimumlarning qiymatlarini 0 ga aylantiriw\"\"\"\n",
    "m=int(input(\"m= \"))\n",
    "n=int(input(\"n= \"))\n",
    "M=CreatRandomMatrix(m,n)\n",
    "PrintMatrix(M)\n",
    "print()\n",
    "A=copy.deepcopy(M)\n",
    "for row in range(m-1):\n",
    "    for column in range(n-1):\n",
    "        if M[row-1][column]<M[row][column]>M[row+1][column] and M[row][column-1]<M[row][column]>M[row][column+1]:\n",
    "            A[row][column]=0\n",
    "for row in range(m-1):\n",
    "    if M[row-1][-1]<M[row][-1]>M[row+1][-1] and M[row][-1]>M[row][-2]:\n",
    "            A[row][-1]=0    \n",
    "for column in range(n-1):\n",
    "    if M[-1][column-1]<M[-1][column]>M[-1][column+1] and M[-1][column]>M[-2][column]:\n",
    "            A[-1][column]=0   \n",
    "if M[m-1][n-2]<M[m-1][n-1]>M[m-2][n-1]:\n",
    "            A[m-1][n-1]=0   \n",
    "PrintMatrix(A)"
   ]
  },
  {
   "cell_type": "code",
   "execution_count": 28,
   "id": "58e58516-0dec-49be-8eec-af923b6349e9",
   "metadata": {
    "tags": []
   },
   "outputs": [
    {
     "name": "stdout",
     "output_type": "stream",
     "text": [
      "-3 -3  7  0 -5  5 -3  9 \n",
      " 3  5 -9 -8 -5  7  2  0 \n",
      " 5 -3 -4 -4  5  7  5 -7 \n",
      "-5 -8 -4  8 -7 -6 -3 -4 \n",
      " 6 -1 -2  4  8 -8  6 -4 \n",
      " 9 -8  9  7  2 -1 -3 -9 \n",
      "-7  6 -3  5  2  9  3  1 \n",
      "-9 -3  1  5  0  1 -4 -9 \n",
      "-3 -6 -4  2 -4 -3 -8 -5 \n",
      "\n",
      "-9 -3  1  5  0  1 -4 -9 \n",
      "-7  6 -3  5  2  9  3  1 \n",
      "-5 -8 -4  8 -7 -6 -3 -4 \n",
      "-3 -3  7  0 -5  5 -3  9 \n",
      "-3 -6 -4  2 -4 -3 -8 -5 \n",
      " 3  5 -9 -8 -5  7  2  0 \n",
      " 5 -3 -4 -4  5  7  5 -7 \n",
      " 6 -1 -2  4  8 -8  6 -4 \n",
      " 9 -8  9  7  2 -1 -3 -9 \n"
     ]
    }
   ],
   "source": [
    "# 76\n",
    "\"\"\"Matritsaning satrlarining ornini ozgartiriw orqali 0-ustun elementlarini osiw tartibida joylawtiriw\"\"\"\n",
    "M=CreatRandomMatrix(9,8)\n",
    "PrintMatrix(M)\n",
    "print()\n",
    "# M.sort() # sort() funksiya orqali ham bajariw mumkin.\n",
    "for i in range(len(M)-1):\n",
    "    for j in range(i+1,len(M)):\n",
    "        if M[i][0]>M[j][0]:\n",
    "            shiftRows(M,i,j)\n",
    "PrintMatrix(M)"
   ]
  },
  {
   "cell_type": "code",
   "execution_count": 27,
   "id": "3577f144-38d0-4541-a565-12bbea42883e",
   "metadata": {},
   "outputs": [
    {
     "name": "stdout",
     "output_type": "stream",
     "text": [
      "-4 -1 -8 -5 -5 -5  8 -6 \n",
      "-9  0  6  5  3  9 -2  0 \n",
      "-6  2 -1 -7 -2 -5 -9  2 \n",
      " 8 -8  3  9 -2 -4 -4 -3 \n",
      " 2  8 -1 -4  9  9 -8  4 \n",
      "-9  9 -1 -6 -7  5 -2 -4 \n",
      "-4  4  6  5 -9 -2  8 -2 \n",
      "-2  4 -2  2 -2  3 -3  0 \n",
      " 3  2  8 -5  4 -1 -2  9 \n",
      "\n",
      "-5  8 -5 -1 -4 -5 -8 -6 \n",
      " 5 -2  9  0 -9  3  6  0 \n",
      "-7 -9 -5  2 -6 -2 -1  2 \n",
      " 9 -4 -4 -8  8 -2  3 -3 \n",
      "-4 -8  9  8  2  9 -1  4 \n",
      "-6 -2  5  9 -9 -7 -1 -4 \n",
      " 5  8 -2  4 -4 -9  6 -2 \n",
      " 2 -3  3  4 -2 -2 -2  0 \n",
      "-5 -2 -1  2  3  4  8  9 \n"
     ]
    }
   ],
   "source": [
    "# 77\n",
    "\"\"\"Matritsaning ustunlaring ornini ozgartiriw orqali songi satrning elementlarini kamayiw tartibida joylawtiriw\"\"\"\n",
    "M=CreatRandomMatrix(9,8)\n",
    "PrintMatrix(M)\n",
    "print()\n",
    "# oxirgi satrning har bir elementi qolgan elementlarning eng kicigi bn qiymati almawadi\n",
    "for i in range(len(M[0])-1): # satrning xar bir elementi\n",
    "    for j in range(i+1,len(M[0])): # qolgan elementlar icidan eng kicik qiymatlisini saralaw \n",
    "        if M[-1][i]>M[-1][j]:\n",
    "            # natija mos holatda ustunlar elementlarini alamawtiriw\n",
    "            shiftColumns(M,i,j)\n",
    "PrintMatrix(M)"
   ]
  },
  {
   "cell_type": "code",
   "execution_count": 64,
   "id": "83632621-2d3f-4886-97ed-c0e6b1c3004d",
   "metadata": {
    "tags": []
   },
   "outputs": [
    {
     "name": "stdout",
     "output_type": "stream",
     "text": [
      " 6 -6 -7  2 -7 -1 -2  6 \n",
      "-1 -7 -2  7  2  5 -9 -9 \n",
      " 5 -5  9 -9  2  5 -4 -7 \n",
      " 2  2 -7  1 -1  9  8 -1 \n",
      "-9 -8  6  4  1 -9 -7  0 \n",
      " 9 -9  2  9  7  2  7 -8 \n",
      "-9 -8 -3  2 -3 -6 -9  6 \n",
      "-9  8 -7 -5  7  0 -1  2 \n",
      " 4 -2  1  3 -2  8 -8  0 \n",
      "\n",
      " 6 -6 -7  2 -7 -1 -2  6 \n",
      " 2  2 -7  1 -1  9  8 -1 \n",
      " 4 -2  1  3 -2  8 -8  0 \n",
      "-1 -7 -2  7  2  5 -9 -9 \n",
      " 5 -5  9 -9  2  5 -4 -7 \n",
      "-9 -8  6  4  1 -9 -7  0 \n",
      " 9 -9  2  9  7  2  7 -8 \n",
      "-9 -8 -3  2 -3 -6 -9  6 \n",
      "-9  8 -7 -5  7  0 -1  2 \n"
     ]
    }
   ],
   "source": [
    "# 78\n",
    "\"\"\"Matritsaning satrlarining ornini ozgartiriw orqali  satrlarning min lari kamayiw tartibida joylawtiriw\"\"\"\n",
    "M=CreatRandomMatrix(9,8)\n",
    "PrintMatrix(M)\n",
    "print()\n",
    "M.sort(key=lambda x:min(x),reverse=True)\n",
    "PrintMatrix(M)"
   ]
  },
  {
   "cell_type": "code",
   "execution_count": 26,
   "id": "06b9ef02-30aa-456f-90f1-271d17e6edf4",
   "metadata": {
    "tags": []
   },
   "outputs": [
    {
     "name": "stdout",
     "output_type": "stream",
     "text": [
      " 5 -2 -1 -5  8 -4 \n",
      " 5 -9  2 -5 -2  2 \n",
      " 5 -8 -7 -7  1  2 \n",
      " 4  9 -5  6  0 -5 \n",
      "-1  9  0  5  7 -4 \n",
      "\n",
      "-1 -4  5 -5  8 -2 \n",
      " 2  2  5 -5 -2 -9 \n",
      "-7  2  5 -7  1 -8 \n",
      "-5 -5  4  6  0  9 \n",
      " 0 -4 -1  5  7  9 \n"
     ]
    }
   ],
   "source": [
    "# 79\n",
    "\"\"\"Matritsaning ustunlarining ornini ozgartiriw orqali  ustunlarning max lari osiw tartibida joylawtiriw\"\"\"\n",
    "M=CreatRandomMatrix(5,6)\n",
    "PrintMatrix(M)\n",
    "print()\n",
    "A=[] # har bir ustunning max qiymatlaridan iborat massiv\n",
    "# har bir ustun boyica max qiymatlarni oliw va A massiv ga yuklaw\n",
    "for column in range(len(M[0])):\n",
    "    temp=[] # har bir ustunning elementlaridan iborat massiv\n",
    "    for row in range(len(M)):\n",
    "        temp.append(M[row][column])\n",
    "    A.append(max(temp))\n",
    "# A massiv elementlarini osiw tartibida joylaw orqali ustunlarni almaytiriw \n",
    "for i in range(len(A)-1):\n",
    "    for j in range(i+1,len(A)):\n",
    "        if A[i]>A[j]:\n",
    "            shiftRows(A,i,j) # satrlarni almawtiruvci funk\n",
    "            shiftColumns(M,i,j) # # ustunlarni almawtiruvci funk\n",
    "PrintMatrix(M)"
   ]
  },
  {
   "cell_type": "code",
   "execution_count": null,
   "id": "939d9aad-c14a-44fe-9dcb-73236afa7faa",
   "metadata": {},
   "outputs": [],
   "source": []
  }
 ],
 "metadata": {
  "kernelspec": {
   "display_name": "Python 3 (ipykernel)",
   "language": "python",
   "name": "python3"
  },
  "language_info": {
   "codemirror_mode": {
    "name": "ipython",
    "version": 3
   },
   "file_extension": ".py",
   "mimetype": "text/x-python",
   "name": "python",
   "nbconvert_exporter": "python",
   "pygments_lexer": "ipython3",
   "version": "3.11.1"
  }
 },
 "nbformat": 4,
 "nbformat_minor": 5
}
