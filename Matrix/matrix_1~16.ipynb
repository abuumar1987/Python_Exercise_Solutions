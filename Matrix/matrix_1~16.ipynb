{
 "cells": [
  {
   "cell_type": "code",
   "execution_count": 1,
   "id": "6de2774b-a372-4cb2-802d-0d49e9cb87d1",
   "metadata": {},
   "outputs": [],
   "source": [
    "# >>>Matrix<<<"
   ]
  },
  {
   "cell_type": "code",
   "execution_count": 2,
   "id": "eeb4eb61-2c78-4a4a-a2f2-ac22d2e52c8f",
   "metadata": {
    "tags": []
   },
   "outputs": [],
   "source": [
    "import random"
   ]
  },
  {
   "cell_type": "code",
   "execution_count": 3,
   "id": "92775150-a041-4c31-a15d-e068bfe98b1f",
   "metadata": {
    "tags": []
   },
   "outputs": [],
   "source": [
    "def PrintMatrix(M):\n",
    "    for row in range(len(M)):\n",
    "        for column in range(len(M[0])):\n",
    "            print(\"%3d\"%M[row][column],end=(\" \"))\n",
    "        print()"
   ]
  },
  {
   "cell_type": "code",
   "execution_count": 4,
   "id": "886cde20-82e2-4c00-b4dc-61a6df024b4f",
   "metadata": {
    "tags": []
   },
   "outputs": [],
   "source": [
    "def CreatRandomMatrix(m,n):    \n",
    "    matrix=[[random.randint(1,9) for i in range(n)] for j in range(m)]\n",
    "    return matrix"
   ]
  },
  {
   "cell_type": "code",
   "execution_count": 5,
   "id": "fb7aaea3-5419-4d2b-a61d-6753c411ccaf",
   "metadata": {
    "tags": []
   },
   "outputs": [],
   "source": [
    "def CreatSimpleMatrix(m,n):    \n",
    "    matrix=[[i for i in range(1,n+1)] for j in range(1,m+1)]\n",
    "    return matrix"
   ]
  },
  {
   "cell_type": "code",
   "execution_count": 6,
   "id": "8d73dc33-1982-4fe8-bdf7-5762f9b1e624",
   "metadata": {
    "tags": []
   },
   "outputs": [
    {
     "name": "stdout",
     "output_type": "stream",
     "text": [
      "  0  10  20  30 \n",
      "  0  10  20  30 \n",
      "  0  10  20  30 \n",
      "  0  10  20  30 \n",
      "  0  10  20  30 \n"
     ]
    }
   ],
   "source": [
    "# 1\n",
    "# Matritsani yaratiw\n",
    "def Matrix1(m,n):\n",
    "    \"\"\"Matritsani har bir satr elementi 10*j dan iborat bolsin\"\"\"\n",
    "    matrix=[[10*i for i in range(n)]]*m\n",
    "    return matrix\n",
    "M=Matrix1(5,4)\n",
    "# Matritsani cop etiw\n",
    "PrintMatrix(M) "
   ]
  },
  {
   "cell_type": "code",
   "execution_count": 17,
   "id": "13e9709f-79a0-43f9-a7fe-9838614af926",
   "metadata": {},
   "outputs": [
    {
     "name": "stdout",
     "output_type": "stream",
     "text": [
      "  0   0   0   0   0 \n",
      "  5   5   5   5   5 \n",
      " 10  10  10  10  10 \n",
      " 15  15  15  15  15 \n",
      " 20  20  20  20  20 \n",
      " 25  25  25  25  25 \n"
     ]
    }
   ],
   "source": [
    "# 2\n",
    "def Matrix2(m,n):\n",
    "    \"\"\"Matritsani har bir ustun elementi 5*j dan iborat bolsin\"\"\"\n",
    "    matrix=[[5*j]*n for j in range(m)]\n",
    "    return matrix\n",
    "M=Matrix2(6,5)\n",
    "PrintMatrix(M)"
   ]
  },
  {
   "cell_type": "code",
   "execution_count": 8,
   "id": "da36715f-9ca8-492b-997f-1a388595ab9f",
   "metadata": {
    "tags": []
   },
   "outputs": [
    {
     "name": "stdout",
     "output_type": "stream",
     "text": [
      "Input: [2, 4, 1, 4, 3, 6]\n",
      "Output:\n",
      "  2   2   2   2   2   2 \n",
      "  4   4   4   4   4   4 \n",
      "  1   1   1   1   1   1 \n",
      "  4   4   4   4   4   4 \n",
      "  3   3   3   3   3   3 \n",
      "  6   6   6   6   6   6 \n"
     ]
    }
   ],
   "source": [
    "# 3\n",
    "import random\n",
    "def Matrix3(m,n):\n",
    "    \"\"\" Matritsani har bir ustuni kiritilgan m ta sonlar toplamidan iborat bolsin\"\"\"\n",
    "    A=[random.randint(1,9) for i in range(m)] # m ta sonlardan iborat toplam\n",
    "    print(\"Input:\",A)\n",
    "    matrix=[[A[i]]*m for i in range(n)]\n",
    "    return matrix\n",
    "M=Matrix3(6,6)\n",
    "print(\"Output:\")\n",
    "PrintMatrix(M)   "
   ]
  },
  {
   "cell_type": "code",
   "execution_count": 20,
   "id": "840a5169-964a-4c84-9eaf-8cc9cb0fc4f8",
   "metadata": {
    "tags": []
   },
   "outputs": [
    {
     "name": "stdout",
     "output_type": "stream",
     "text": [
      "Input: [2, 5, 6, 2, 1, 8, 6]\n",
      "Output:\n",
      "  2   5   6   2   1   8   6 \n",
      "  2   5   6   2   1   8   6 \n",
      "  2   5   6   2   1   8   6 \n",
      "  2   5   6   2   1   8   6 \n",
      "  2   5   6   2   1   8   6 \n",
      "  2   5   6   2   1   8   6 \n",
      "  2   5   6   2   1   8   6 \n"
     ]
    }
   ],
   "source": [
    "# 4\n",
    "def Matrix4(m,n):\n",
    "    \"\"\" Matritsani har bir satri kiritilgan m ta sonlar toplamidan iborat bolsin\"\"\"\n",
    "    A=[random.randint(1,9) for i in range(n)] # n ta sonlardan iborat toplam\n",
    "    print(\"Input:\",A)\n",
    "    matrix=[A]*m\n",
    "    return matrix\n",
    "M=Matrix4(7,7)\n",
    "print(\"Output:\")\n",
    "PrintMatrix(M)"
   ]
  },
  {
   "cell_type": "code",
   "execution_count": 32,
   "id": "7792c570-44cd-4e3f-b5c0-6429ef8cb90a",
   "metadata": {
    "tags": []
   },
   "outputs": [
    {
     "name": "stdout",
     "output_type": "stream",
     "text": [
      "Input: [4, 9, 7, 5, 9, 2, 4]\n",
      "Output:\n",
      "  4   6   8  10  12  14  16 \n",
      "  9  11  13  15  17  19  21 \n",
      "  7   9  11  13  15  17  19 \n",
      "  5   7   9  11  13  15  17 \n",
      "  9  11  13  15  17  19  21 \n",
      "  2   4   6   8  10  12  14 \n",
      "  4   6   8  10  12  14  16 \n"
     ]
    }
   ],
   "source": [
    "# 5\n",
    "def Matrix5(m,n,d):\n",
    "    \"\"\" Matritsani 1-ustuni m ta sonlar toplamidan qolgan ustun elementi <j+d> iborat bolsin\n",
    "    (Arifmetik progressiya xosil qilinsin)\"\"\"\n",
    "    A=[random.randint(1,9) for i in range(m)] # m ta sonlardan iborat toplam\n",
    "    print(\"Input:\",A)\n",
    "    matrix=[[A[j]+d*i for i in range(n)] for j in range(m)]\n",
    "    return matrix\n",
    "M=Matrix5(7,7,2)\n",
    "print(\"Output:\")\n",
    "PrintMatrix(M)"
   ]
  },
  {
   "cell_type": "code",
   "execution_count": 31,
   "id": "d7473a97-414c-4c8f-b588-0416bde9eb15",
   "metadata": {
    "tags": []
   },
   "outputs": [
    {
     "name": "stdout",
     "output_type": "stream",
     "text": [
      "Input: [9, 6, 6, 4, 4, 9, 6]\n",
      "Output:\n",
      "  9  18  36  72 144 288 576 \n",
      "  6  12  24  48  96 192 384 \n",
      "  6  12  24  48  96 192 384 \n",
      "  4   8  16  32  64 128 256 \n",
      "  4   8  16  32  64 128 256 \n",
      "  9  18  36  72 144 288 576 \n",
      "  6  12  24  48  96 192 384 \n"
     ]
    }
   ],
   "source": [
    "# 6\n",
    "def Matrix6(m,n,q):\n",
    "    \"\"\" Matritsani 1-ustuni m ta sonlar toplamidan qolgan ustun elementi <j*q> iborat bolsin\n",
    "    (Geometrik progressiya xosil qilinsin)\"\"\"\n",
    "    A=[random.randint(1,9) for i in range(m)] # m ta sonlardan iborat toplam\n",
    "    print(\"Input:\",A)\n",
    "    matrix=[[A[j]*q**i for i in range(n)] for j in range(m)]\n",
    "    return matrix\n",
    "M=Matrix6(7,7,2)\n",
    "print(\"Output:\")\n",
    "PrintMatrix(M)"
   ]
  },
  {
   "cell_type": "code",
   "execution_count": 27,
   "id": "5887cd4f-b1f1-4959-a18a-00b564e4af6a",
   "metadata": {
    "tags": []
   },
   "outputs": [
    {
     "name": "stdout",
     "output_type": "stream",
     "text": [
      "  4   7   9   9 \n",
      "  3   7   9   3 \n",
      "  2   3   6   9 \n",
      "  9   2   2   4 \n"
     ]
    },
    {
     "name": "stdin",
     "output_type": "stream",
     "text": [
      "k=  3\n"
     ]
    },
    {
     "name": "stdout",
     "output_type": "stream",
     "text": [
      "Output:\n",
      "[9, 2, 2, 4]\n"
     ]
    }
   ],
   "source": [
    "# 7\n",
    "\"\"\" Matritsaning k-satrini ciqariw\"\"\"\n",
    "M=CreatRandomMatrix(4,4)\n",
    "PrintMatrix(M)\n",
    "k=int(input(\"k= \"))\n",
    "print(\"Output:\")\n",
    "print(M[k])\n",
    "# for i in range(len(M[k])):\n",
    "#     print(M[k][i],end=(\" \"))"
   ]
  },
  {
   "cell_type": "code",
   "execution_count": 13,
   "id": "00355146-e72c-4fb9-a7b6-dcd4d1c9af3a",
   "metadata": {
    "tags": []
   },
   "outputs": [
    {
     "name": "stdout",
     "output_type": "stream",
     "text": [
      "  7   6   3   8 \n",
      "  4   5   4   7 \n",
      "  8   9   8   9 \n",
      "  3   7   6   9 \n"
     ]
    },
    {
     "name": "stdin",
     "output_type": "stream",
     "text": [
      "k=  3\n"
     ]
    },
    {
     "name": "stdout",
     "output_type": "stream",
     "text": [
      "Output:\n",
      "8\n",
      "7\n",
      "9\n",
      "9\n"
     ]
    }
   ],
   "source": [
    "# 8\n",
    "\"\"\" Matritsaning k-ustunini ciqariw\"\"\"\n",
    "M=CreatRandomMatrix(4,4)\n",
    "PrintMatrix(M)\n",
    "k=int(input(\"k= \"))\n",
    "print(\"Output:\")\n",
    "for i in range(len(M)):\n",
    "    print(M[i][k]) "
   ]
  },
  {
   "cell_type": "code",
   "execution_count": 30,
   "id": "6ed2f3ae-0bb1-4245-a146-344297f4d67e",
   "metadata": {
    "tags": []
   },
   "outputs": [
    {
     "name": "stdout",
     "output_type": "stream",
     "text": [
      "  8   8   6   4   4   4   9 \n",
      "  3   2   5   1   5   3   8 \n",
      "  8   3   5   5   2   8   7 \n",
      "  2   9   8   7   8   6   4 \n",
      "  2   9   8   2   8   8   9 \n",
      "  7   6   2   4   3   9   9 \n",
      "  9   2   1   5   8   5   8 \n",
      "Output:\n",
      "  8   8   6   4   4   4   9 \n",
      "  8   3   5   5   2   8   7 \n",
      "  2   9   8   2   8   8   9 \n",
      "  9   2   1   5   8   5   8 \n"
     ]
    }
   ],
   "source": [
    "# 9\n",
    "\"\"\" Matritsaning 2 ga karrali satrlarini ciqariw\"\"\"\n",
    "M=CreatRandomMatrix(7,7)\n",
    "PrintMatrix(M)\n",
    "print(\"Output:\")\n",
    "PrintMatrix(M[::2])"
   ]
  },
  {
   "cell_type": "code",
   "execution_count": 15,
   "id": "d990dfb6-8b69-4343-a601-18704f6749a7",
   "metadata": {
    "tags": []
   },
   "outputs": [
    {
     "name": "stdout",
     "output_type": "stream",
     "text": [
      "  9   3   2   4   4   6   9 \n",
      "  5   8   8   6   2   4   4 \n",
      "  8   3   8   7   6   6   5 \n",
      "  1   5   1   2   6   4   4 \n",
      "  5   7   8   3   9   6   7 \n",
      "  6   2   1   2   7   6   4 \n",
      "  7   2   9   1   2   9   7 \n",
      "Output:\n",
      "3 4 6 \n",
      "8 6 4 \n",
      "3 7 6 \n",
      "5 2 4 \n",
      "7 3 6 \n",
      "2 2 6 \n",
      "2 1 9 \n"
     ]
    }
   ],
   "source": [
    "# 10\n",
    "\"\"\" Matritsaning toq indeksli ustunlarini ciqariw\"\"\"\n",
    "M=CreatRandomMatrix(7,7)\n",
    "PrintMatrix(M)\n",
    "print(\"Output:\")\n",
    "for i in range(len(M)):\n",
    "    for j in range(1,len(M[0]),2):\n",
    "        print(M[i][j],end=(\" \"))\n",
    "    print()        "
   ]
  },
  {
   "cell_type": "code",
   "execution_count": 16,
   "id": "3120e59f-c743-43e8-af3e-4de2f4431ae7",
   "metadata": {
    "tags": []
   },
   "outputs": [
    {
     "name": "stdout",
     "output_type": "stream",
     "text": [
      "  6   3   8   7   4   3   8 \n",
      "  1   7   2   2   2   2   7 \n",
      "  7   8   9   4   7   7   6 \n",
      "  3   4   7   9   5   1   7 \n",
      "  5   9   3   7   8   6   4 \n",
      "  1   6   7   3   1   7   6 \n",
      "  4   6   2   7   6   2   5 \n",
      "Output:\n",
      "6 3 8 7 4 3 8 \n",
      "7 2 2 2 2 7 1 \n",
      "7 8 9 4 7 7 6 \n",
      "7 1 5 9 7 4 3 \n",
      "5 9 3 7 8 6 4 \n",
      "6 7 1 3 7 6 1 \n",
      "4 6 2 7 6 2 5 \n"
     ]
    }
   ],
   "source": [
    "# 11\n",
    "\"\"\" Matritsaning 0-satri capdan onga 1-satri ongdan capga....koriniwda ciqariw\"\"\"\n",
    "M=CreatRandomMatrix(7,7)\n",
    "PrintMatrix(M)\n",
    "print(\"Output:\")\n",
    "for i in range(len(M)):\n",
    "    for j in range(len(M[0])):\n",
    "        if i%2!=0:\n",
    "            print(M[i][-(j+1)],end=(\" \"))\n",
    "        else:\n",
    "            print(M[i][j],end=(\" \"))\n",
    "    print()"
   ]
  },
  {
   "cell_type": "code",
   "execution_count": 17,
   "id": "431d4a26-6689-4252-bc34-36f9046fb91b",
   "metadata": {
    "tags": []
   },
   "outputs": [
    {
     "name": "stdout",
     "output_type": "stream",
     "text": [
      "  3   6   9   4   3   6   2 \n",
      "  5   3   4   6   5   1   5 \n",
      "  9   8   9   7   9   4   1 \n",
      "  5   1   8   3   5   4   4 \n",
      "  4   5   9   1   9   8   8 \n",
      "  3   2   7   8   1   3   4 \n",
      "  7   5   2   3   1   1   7 \n",
      "Output:\n",
      "3 5 9 3 3 1 2 \n",
      "5 2 4 8 5 3 5 \n",
      "9 5 9 1 9 8 1 \n",
      "5 1 8 3 5 4 4 \n",
      "4 8 9 7 9 4 8 \n",
      "3 3 7 6 1 1 4 \n",
      "7 6 2 4 1 6 7 \n"
     ]
    }
   ],
   "source": [
    "# 12\n",
    "\"\"\" Matritsaning 0-ustuni tepadan pastga 1-ustuni pastdan tepaga...koriniwda ciqariw\"\"\"\n",
    "M=CreatRandomMatrix(7,7)\n",
    "PrintMatrix(M)\n",
    "print(\"Output:\")\n",
    "for i in range(len(M)):\n",
    "    for j in range(len(M[0])):\n",
    "        if j%2!=0:\n",
    "            print(M[-(i+1)][j],end=(\" \"))\n",
    "        else:\n",
    "            print(M[i][j],end=(\" \"))\n",
    "    print()"
   ]
  },
  {
   "cell_type": "code",
   "execution_count": 18,
   "id": "95820c1e-25e8-473b-a64c-d97fc5b43550",
   "metadata": {},
   "outputs": [
    {
     "name": "stdout",
     "output_type": "stream",
     "text": [
      "  5   7   1   4   7   8   2 \n",
      "  6   8   5   4   9   5   7 \n",
      "  3   8   1   9   3   5   6 \n",
      "  7   8   1   5   9   6   5 \n",
      "  3   8   3   2   3   1   7 \n",
      "  3   4   7   9   3   4   7 \n",
      "  5   7   2   9   4   8   2 \n",
      "Output:\n",
      "5714782\n",
      "      7\n",
      "      6\n",
      "      5\n",
      "      7\n",
      "      7\n",
      "      2\n",
      "\n",
      "685495\n",
      "     5\n",
      "     6\n",
      "     1\n",
      "     4\n",
      "     8\n",
      "\n",
      "38193\n",
      "    9\n",
      "    3\n",
      "    3\n",
      "    4\n",
      "\n",
      "7815\n",
      "   2\n",
      "   9\n",
      "   9\n",
      "\n",
      "383\n",
      "  7\n",
      "  2\n",
      "\n",
      "34\n",
      " 7\n",
      "\n",
      "5\n",
      "\n"
     ]
    }
   ],
   "source": [
    "# 13\n",
    "\"\"\" Matritsaning 1 satr va ustunini burcak koriniwida ciqariw\"\"\"\n",
    "M=CreatRandomMatrix(7,7)\n",
    "PrintMatrix(M)\n",
    "print(\"Output:\")\n",
    "for i in range(len(M)):\n",
    "    for column in range(len(M)-i):\n",
    "        print(M[i][column],end=(\"\")) #har bir satrni  len(M)-i-indeksigaca bolgan ementlarini qaytariw\n",
    "    print()\n",
    "    for row in range(i+1,len(M[0])):\n",
    "        emptyspace=\" \"\n",
    "        emptyspace *= (len(M[0])-i-2)\n",
    "        print(emptyspace,M[row][-1-i]) #  \"len(M[0])-i-2\" uzunlikdagi bow joydan song, har bir satrning songi elementini qaytariw \n",
    "    print()"
   ]
  },
  {
   "cell_type": "code",
   "execution_count": 19,
   "id": "17fed335-aba2-40b4-98f0-ff3b295e25c2",
   "metadata": {
    "tags": []
   },
   "outputs": [
    {
     "name": "stdout",
     "output_type": "stream",
     "text": [
      "  9   1   8   2   8   4   3 \n",
      "  6   8   1   4   1   9   6 \n",
      "  3   5   2   6   7   6   8 \n",
      "  1   7   2   7   1   6   4 \n",
      "  4   2   4   6   5   8   8 \n",
      "  1   5   8   2   1   4   4 \n",
      "  2   9   3   6   8   2   2 \n",
      "Output:\n",
      "9\n",
      "6\n",
      "3\n",
      "1\n",
      "4\n",
      "1\n",
      "2 9 3 6 8 2 2 \n",
      "\n",
      "1\n",
      "8\n",
      "5\n",
      "7\n",
      "2\n",
      "5 8 2 1 4 4 \n",
      "\n",
      "8\n",
      "1\n",
      "2\n",
      "2\n",
      "4 6 5 8 8 \n",
      "\n",
      "2\n",
      "4\n",
      "6\n",
      "7 1 6 4 \n",
      "\n",
      "8\n",
      "1\n",
      "7 6 8 \n",
      "\n",
      "4\n",
      "9 6 \n",
      "\n",
      "3 \n",
      "\n"
     ]
    }
   ],
   "source": [
    "# 14\n",
    "\"\"\" Matritsaning 1-ustun va songi satrini burcak koriniwida ciqariw\"\"\"\n",
    "M=CreatRandomMatrix(7,7)\n",
    "PrintMatrix(M)\n",
    "print(\"Output:\")\n",
    "for i in range(len(M)):\n",
    "    for row in range(len(M)-1-i):\n",
    "        print(M[row][i]) #  har bir ustunning \"len(M)-1-i\"-indeksigaca bolgan elementlarini qaytariw \n",
    "    for column in range(i,len(M)):\n",
    "        print(M[-1-i][column],end=(\" \")) # har bir satrning i-indeksidan bowlab barca elementlarini qaytariw\n",
    "    print()\n",
    "    print()"
   ]
  },
  {
   "cell_type": "code",
   "execution_count": 12,
   "id": "21b876c7-77a9-4350-bb50-27916c73af7c",
   "metadata": {
    "tags": []
   },
   "outputs": [
    {
     "name": "stdout",
     "output_type": "stream",
     "text": [
      "Output:\n",
      "  1   2   3   4   5   6   7   8   9  10  11 \n",
      " 40  41  42  43  44  45  46  47  48  49  12 \n",
      " 39  72  73  74  75  76  77  78  79  50  13 \n",
      " 38  71  96  97  98  99 100 101  80  51  14 \n",
      " 37  70  95 112 113 114 115 102  81  52  15 \n",
      " 36  69  94 111 120 121 116 103  82  53  16 \n",
      " 35  68  93 110 119 118 117 104  83  54  17 \n",
      " 34  67  92 109 108 107 106 105  84  55  18 \n",
      " 33  66  91  90  89  88  87  86  85  56  19 \n",
      " 32  65  64  63  62  61  60  59  58  57  20 \n",
      " 31  30  29  28  27  26  25  24  23  22  21 \n"
     ]
    }
   ],
   "source": [
    "# 15\n",
    "\"\"\"Soat strelkasi yonaliwi boyica 1,2,3,...,N^2 sonlarni ozlawtiruvci matritsa yasalsin\"\"\"\n",
    "print(\"Output:\")\n",
    "M=CreatSimpleMatrix(11,11) # Ixtiyoriy NxN matritsa yaratilib olindi\n",
    "a=M[0][0]\n",
    "m=0\n",
    "for i in range(len(M)):\n",
    "    for column in range(i,len(M[0])-1-i): # ----->>> yonaliwda ilk satr elementlarini qaytariw (uwbu qism 13-misoldan foy-di)\n",
    "        M[i][column]=a+m\n",
    "        m += 1\n",
    "    a=M[i][column]\n",
    "    m=1\n",
    "    for row in range(i,len(M)-1-i): # yuqoridan pastga ustun elementlarini qaytariw (uwbu qism 13-misoldan foy-di)\n",
    "        M[row][-1-i]=a+m\n",
    "        m += 1\n",
    "    a=M[row][-1-i]\n",
    "    m=1\n",
    "    for column in range(-1-i,-len(M[0])+i,-1): # <<<<----- yonaliwda songi satr elementlarini qaytariw (uwbu qism 14-misoldan foy-di)\n",
    "        M[-1-i][column]=a+m\n",
    "        m += 1\n",
    "    a=M[-1-i][column]\n",
    "    m=1\n",
    "    for row in range(-1-i,-len(M)+i,-1): # pastdan yuqoriga ustun elementlarini qaytariw (uwbu qism 14-misoldan foy-di)\n",
    "        M[row][i]=a+m\n",
    "        m += 1\n",
    "    a=M[row][i]\n",
    "    m=1\n",
    "if len(M)%2!=0:\n",
    "    M[len(M)//2][len(M)//2]=len(M)**2 # Azizbekni tavsiyasi bilan togrilandi(toq son ucun)\n",
    "PrintMatrix(M)"
   ]
  },
  {
   "cell_type": "code",
   "execution_count": 13,
   "id": "7af0f2a6-683f-4d32-a268-2c99b0423c30",
   "metadata": {
    "tags": []
   },
   "outputs": [
    {
     "name": "stdout",
     "output_type": "stream",
     "text": [
      "Output:\n",
      "  1  32  31  30  29  28  27  26  25 \n",
      "  2  33  56  55  54  53  52  51  24 \n",
      "  3  34  57  72  71  70  69  50  23 \n",
      "  4  35  58  73  80  79  68  49  22 \n",
      "  5  36  59  74  81  78  67  48  21 \n",
      "  6  37  60  75  76  77  66  47  20 \n",
      "  7  38  61  62  63  64  65  46  19 \n",
      "  8  39  40  41  42  43  44  45  18 \n",
      "  9  10  11  12  13  14  15  16  17 \n"
     ]
    }
   ],
   "source": [
    "# 16\n",
    "\"\"\"Soat strelkasi yonaliwi qarama-qarwi 1,2,3,...,N^2 sonlarni ozlawtiruvci matritsa yasalsin\"\"\"\n",
    "print(\"Output:\")\n",
    "M=CreatSimpleMatrix(9,9) # Ixtiyoriy NxN matritsa yaratilib olindi\n",
    "a=M[0][0]\n",
    "m=0\n",
    "for i in range(len(M)):\n",
    "    for row in range(i,len(M)-1-i): # yuqoridan pastga ustun elementlarini qaytariw (uwbu qism 14-misoldan foy-di) \n",
    "        M[row][i]=a+m\n",
    "        m += 1\n",
    "    a=M[row][i]\n",
    "    m=1\n",
    "    for column in range(i,len(M[0])-1-i): # --->>> yonaliwda songi satr elementlarini qaytariw (uwbu qism 14-misoldan foy-di) \n",
    "        M[-1-i][column]=a+m\n",
    "        m += 1\n",
    "    a=M[-1-i][column]\n",
    "    m=1\n",
    "    for row in range(-1-i,-len(M)+i,-1): # pastdan yuqoriga ustun elementlarini qaytariw (uwbu qism 13-misoldan foy-di)\n",
    "        M[row][-1-i]=a+m\n",
    "        m += 1\n",
    "    a=M[row][-1-i]\n",
    "    m=1\n",
    "    for column in range(-1-i,-len(M[0])+i,-1): # <<<--- yonaliwda ilk satr elementlarini qaytariw (uwbu qism 13-misoldan foy-di)\n",
    "        M[i][column]=a+m\n",
    "        m += 1\n",
    "    a=M[i][column]\n",
    "    m=1\n",
    "if len(M)%2!=0:\n",
    "    M[len(M)//2][len(M)//2]=len(M)**2 # Azizbekni tavsiyasi bilan togrilandi(toq son ucun)\n",
    "PrintMatrix(M)"
   ]
  },
  {
   "cell_type": "code",
   "execution_count": null,
   "id": "1040e62d-2794-4068-a3f0-a2f53badad22",
   "metadata": {},
   "outputs": [],
   "source": []
  }
 ],
 "metadata": {
  "kernelspec": {
   "display_name": "Python 3 (ipykernel)",
   "language": "python",
   "name": "python3"
  },
  "language_info": {
   "codemirror_mode": {
    "name": "ipython",
    "version": 3
   },
   "file_extension": ".py",
   "mimetype": "text/x-python",
   "name": "python",
   "nbconvert_exporter": "python",
   "pygments_lexer": "ipython3",
   "version": "3.11.1"
  }
 },
 "nbformat": 4,
 "nbformat_minor": 5
}
