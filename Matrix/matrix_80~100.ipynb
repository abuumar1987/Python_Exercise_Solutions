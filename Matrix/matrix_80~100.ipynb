{
 "cells": [
  {
   "cell_type": "code",
   "execution_count": 166,
   "id": "6d3b7560-3ffd-4e88-b854-6dc16c97a6a3",
   "metadata": {},
   "outputs": [],
   "source": [
    "# KVADRAT MATRITSANING DIOGINALLARI"
   ]
  },
  {
   "cell_type": "code",
   "execution_count": 1,
   "id": "086f4072-7aa6-4cf4-a38e-963f4bbb7320",
   "metadata": {
    "tags": []
   },
   "outputs": [],
   "source": [
    "import random"
   ]
  },
  {
   "cell_type": "code",
   "execution_count": 2,
   "id": "c8d11e25-bdcc-439a-bb0b-bdb3b283075d",
   "metadata": {
    "tags": []
   },
   "outputs": [],
   "source": [
    "def PrintMatrix(M):\n",
    "    for row in range(len(M)):\n",
    "        for column in range(len(M[0])):\n",
    "            print(\"%2d\"%M[row][column],end=(\" \")) # modulo operatori bn output qiliw\n",
    "        print()"
   ]
  },
  {
   "cell_type": "code",
   "execution_count": 3,
   "id": "7bf47017-007d-46e7-bd5a-c829d6789bdb",
   "metadata": {
    "tags": []
   },
   "outputs": [],
   "source": [
    "def CreatRandomMatrix(m,n):    \n",
    "    matrix=[[random.randint(1,9) for i in range(n)] for j in range(m)]\n",
    "    return matrix"
   ]
  },
  {
   "cell_type": "code",
   "execution_count": 4,
   "id": "6499ad53-46c8-4c52-a3fd-34bdfe3c4a9b",
   "metadata": {
    "tags": []
   },
   "outputs": [],
   "source": [
    "def CreatSimpleMatrix(m,n):    \n",
    "    matrix=[[i for i in range(1,n+1)] for j in range(1,m+1)]\n",
    "    return matrix"
   ]
  },
  {
   "cell_type": "code",
   "execution_count": 5,
   "id": "98497098-afbb-4fcc-8957-e9878054b9ff",
   "metadata": {
    "tags": []
   },
   "outputs": [],
   "source": [
    "def IndexMinMaxMatrix(M):\n",
    "    \"\"\"Matritsaning min va max qiymatlar indekslarini aniqlaw\"\"\"\n",
    "    temp=[min(i) for i in M]\n",
    "    mini=min(temp) # matritsaning min qiymati\n",
    "    minX=temp.index(mini) # min qiymatning satr indeksi\n",
    "    minY=M[minX].index(mini) # min qiymatning ustun indeksi\n",
    "    temp=[max(i) for i in M]\n",
    "    maxi=max(temp) # matritsaning max qiymati\n",
    "    maxX=temp.index(maxi) # max qiymatning satr indeksi\n",
    "    maxY=M[maxX].index(maxi) # max qiymatning ustun indeksi\n",
    "    return [minX,minY],[maxX,maxY]\n",
    "# M=CreatRandomMatrix(10,9)\n",
    "# PrintMatrix(M)\n",
    "# print(IndexMinMaxMatrix(M))"
   ]
  },
  {
   "cell_type": "code",
   "execution_count": 93,
   "id": "44c34c1c-41c1-4df7-a7b1-d6cb0ec2a121",
   "metadata": {
    "tags": []
   },
   "outputs": [
    {
     "name": "stdout",
     "output_type": "stream",
     "text": [
      " 1  1  7  1  5  7  4  9 \n",
      " 1  9  9  5  2  1  4  1 \n",
      " 5  7  4  6  6  1  2  6 \n",
      " 5  2  4  3  3  3  5  9 \n",
      " 3  3  2  3  2  9  2  7 \n",
      " 7  4  7  2  5  5  2  5 \n",
      " 6  8  7  5  1  6  3  7 \n",
      " 5  5  3  6  9  1  5  4 \n",
      "\n",
      "[1, 9, 6, 3, 9, 2, 7]\n",
      "37\n"
     ]
    }
   ],
   "source": [
    "# 80\n",
    "def mainDiogMatrix(M,indDiog):\n",
    "    \"\"\" Kvadrat matritsaning asosiy dioganalining elementlarini ciqiriw\"\"\"\n",
    "    temp=[]\n",
    "    for row in range(len(M)):\n",
    "        for column in range(len(M[0])):\n",
    "            if column-row==indDiog:\n",
    "                temp.append(M[row][column])            \n",
    "    return temp\n",
    "M=CreatRandomMatrix(8,8)\n",
    "PrintMatrix(M)\n",
    "print()\n",
    "D=mainDiogMatrix(M,1) # togri(musbat) indekslaw boyica indDiog=0 da asosiy dioganal olinadi.\n",
    "print(D)\n",
    "print(sum(D)) # asosiy dioganal elementlarining yigindisi."
   ]
  },
  {
   "cell_type": "code",
   "execution_count": 82,
   "id": "43a1f81a-23ff-48e8-8023-f404c463b81e",
   "metadata": {
    "tags": []
   },
   "outputs": [
    {
     "name": "stdout",
     "output_type": "stream",
     "text": [
      " 7  8  8  8  9  6  8  6  7  1 \n",
      " 9  7  1  6  5  7  2  5  6  6 \n",
      " 9  3  4  3  4  6  9  4  4  4 \n",
      " 1  5  1  4  6  8  3  8  2  2 \n",
      " 1  2  6  5  8  2  1  7  7  6 \n",
      " 1  5  9  2  4  3  9  7  2  2 \n",
      " 2  8  2  6  3  1  2  8  1  2 \n",
      " 7  2  9  4  7  2  5  3  3  6 \n",
      " 7  9  6  1  6  5  5  1  1  4 \n",
      " 6  3  6  8  2  3  7  5  4  9 \n",
      "\n",
      "[6, 9, 9, 6, 4, 2, 3, 4, 6, 1]\n",
      "5.0\n"
     ]
    }
   ],
   "source": [
    "# 81\n",
    "def secondDiogMatrix(M,indDiog):\n",
    "    \"\"\" Kvadrat matritsaning yordamci dioganalining elementlarini ciqiriw\"\"\"\n",
    "    temp=[]\n",
    "    for row in range(len(M)):\n",
    "        for column in range(len(M[0])):\n",
    "            if row+column==(len(M)-1)+indDiog:\n",
    "                temp.append(M[row][column])\n",
    "    temp.reverse()\n",
    "    return temp\n",
    "M=CreatRandomMatrix(10,10)\n",
    "PrintMatrix(M)\n",
    "print()\n",
    "A=secondDiogMatrix(M,0) # teskari(manfiy) indekslaw boyica indDiog=-1 da yordamci dioganal olinadi.\n",
    "print(A)\n",
    "print(round(sum(A)/len(M),2)) # yordamci doiganal orta arifmetigi"
   ]
  },
  {
   "cell_type": "code",
   "execution_count": 8,
   "id": "31166a8e-58eb-45a9-a1f3-31b19298ccb7",
   "metadata": {
    "tags": []
   },
   "outputs": [
    {
     "name": "stdout",
     "output_type": "stream",
     "text": [
      " 5  2  4  8  3  7  9  6  7  5 \n",
      " 6  1  6  2  7  9  2  2  9  5 \n",
      " 6  4  6  1  1  5  1  8  2  8 \n",
      " 1  1  8  1  6  4  6  7  7  3 \n",
      " 7  9  6  4  7  1  5  3  1  3 \n",
      " 6  4  7  2  5  4  8  4  3  6 \n",
      " 9  5  8  3  3  9  8  9  9  2 \n",
      " 9  7  9  5  7  1  5  9  4  9 \n",
      " 1  4  6  6  8  7  3  3  1  7 \n",
      " 6  3  2  4  4  9  8  6  9  8 \n",
      "\n",
      "[5] ===>> 5\n",
      "[7, 5] ===>> 12\n",
      "[6, 9, 8] ===>> 23\n",
      "[9, 2, 2, 3] ===>> 16\n",
      "[7, 2, 8, 7, 3] ===>> 27\n",
      "[3, 9, 1, 7, 1, 6] ===>> 27\n",
      "[8, 7, 5, 6, 3, 3, 2] ===>> 34\n",
      "[4, 2, 1, 4, 5, 4, 9, 9] ===>> 38\n",
      "[2, 6, 1, 6, 1, 8, 9, 4, 7] ===>> 44\n",
      "[6, 4, 8, 4, 5, 9, 5, 3, 9] ===>> 53\n",
      "[6, 1, 6, 2, 3, 1, 3, 6] ===>> 28\n",
      "[1, 9, 7, 3, 7, 7, 8] ===>> 42\n",
      "[7, 4, 8, 5, 8, 9] ===>> 41\n",
      "[6, 5, 9, 6, 4] ===>> 30\n",
      "[9, 7, 6, 4] ===>> 26\n",
      "[9, 4, 2] ===>> 15\n",
      "[1, 3] ===>> 4\n",
      "[6] ===>> 6\n"
     ]
    }
   ],
   "source": [
    "# 82\n",
    "\"\"\" Kvadrat matritsaning asosiy dioganaliga parallel bolgan barca dioganallar elementlarini yigindisini ciqiriw (A(o,m-1) dan bowlab)\"\"\"\n",
    "M=CreatRandomMatrix(10,10)\n",
    "PrintMatrix(M)\n",
    "print()\n",
    "for i in range(len(M)-1,0,-1): # asosiy diog ga nisbatan tepada yotgan barca parallel diog lar \"+\" indeks boyica olindi.\n",
    "    x=mainDiogMatrix(M,i) \n",
    "    print(x,\"===>>\",sum(x))  \n",
    "for i in range(-1,-len(M),-1): # asosiy diog ga nisbatan pastda yotgan barca parallel diog lar \"-\" indeks boyica olindi.\n",
    "    x=mainDiogMatrix(M,i) \n",
    "    print(x,\"===>>\",sum(x)) "
   ]
  },
  {
   "cell_type": "code",
   "execution_count": 88,
   "id": "945d0a3d-201e-4034-a7ef-c99e1a921b1e",
   "metadata": {
    "tags": []
   },
   "outputs": [
    {
     "name": "stdout",
     "output_type": "stream",
     "text": [
      " 9  3  1  7  1  5  6  8  9  5 \n",
      " 3  8  2  2  6  6  9  1  6  8 \n",
      " 2  4  8  7  3  7  4  5  6  8 \n",
      " 3  2  1  3  3  9  5  6  4  1 \n",
      " 7  1  5  1  7  4  6  2  2  2 \n",
      " 9  5  5  5  8  5  3  3  2  1 \n",
      " 4  4  7  6  8  4  2  3  5  7 \n",
      " 2  9  1  2  3  9  4  5  3  7 \n",
      " 9  4  2  4  1  9  9  6  6  7 \n",
      " 6  7  8  3  1  7  7  1  6  3 \n",
      "\n",
      "[9] ===>> 9\n",
      "[3, 3] ===>> 6\n",
      "[2, 8, 1] ===>> 11\n",
      "[3, 4, 2, 7] ===>> 16\n",
      "[7, 2, 8, 2, 1] ===>> 20\n",
      "[9, 1, 1, 7, 6, 5] ===>> 29\n",
      "[4, 5, 5, 3, 3, 6, 6] ===>> 32\n",
      "[2, 4, 5, 1, 3, 7, 9, 8] ===>> 39\n",
      "[9, 9, 7, 5, 7, 9, 4, 1, 9] ===>> 60\n",
      "[7, 2, 2, 8, 5, 6, 6, 6, 8] ===>> 50\n",
      "[8, 4, 3, 4, 3, 2, 4, 8] ===>> 36\n",
      "[3, 1, 9, 2, 3, 2, 1] ===>> 21\n",
      "[1, 9, 4, 3, 2, 2] ===>> 21\n",
      "[7, 9, 5, 5, 1] ===>> 27\n",
      "[7, 6, 3, 7] ===>> 23\n",
      "[1, 6, 7] ===>> 14\n",
      "[6, 7] ===>> 13\n",
      "[3] ===>> 3\n"
     ]
    }
   ],
   "source": [
    "# 83\n",
    "\"\"\" Kvadrat matritsaning yordamci dioganaliga parallel bolgan barca dioganallar elementlarini yigindisini ciqiriw (A(o,o) dan bowlab)\"\"\"\n",
    "M=CreatRandomMatrix(10,10)\n",
    "PrintMatrix(M)\n",
    "print()\n",
    "for i in range(-len(M)+1,0): # yordamci diog ga nisbatan tepada yotgan barca parallel diog lar \"-\" indeks boyica olindi.\n",
    "    x=secondDiogMatrix(M,i) \n",
    "    print(x,\"===>>\",sum(x))\n",
    "for i in range(1,len(M)): # yordamci diog ga nisbatan pastda yotgan barca parallel diog lar \"+\" indeks boyica olindi.\n",
    "    x=secondDiogMatrix(M,i) \n",
    "    print(x,\"===>>\",sum(x))   "
   ]
  },
  {
   "cell_type": "code",
   "execution_count": 94,
   "id": "2cd45648-bfcd-4bf0-b69f-2bef3c89ed54",
   "metadata": {
    "tags": []
   },
   "outputs": [
    {
     "name": "stdout",
     "output_type": "stream",
     "text": [
      " 4  2  6  9  3  4  6  6  4  1 \n",
      " 4  2  6  5  7  8  8  7  7  6 \n",
      " 2  9  3  3  5  1  4  3  8  1 \n",
      " 9  2  3  1  3  7  2  8  3  3 \n",
      " 9  4  9  6  1  6  1  7  9  4 \n",
      " 8  4  8  8  6  9  1  9  7  8 \n",
      " 1  7  1  2  5  3  4  8  3  3 \n",
      " 8  4  5  7  7  7  8  5  7  6 \n",
      " 4  7  8  6  2  2  7  8  6  3 \n",
      " 1  1  9  7  3  4  2  9  7  5 \n",
      "\n",
      "[1] ===>> 1.0\n",
      "[4, 6] ===>> 5.0\n",
      "[6, 7, 1] ===>> 4.67\n",
      "[6, 7, 8, 3] ===>> 6.0\n",
      "[4, 8, 3, 3, 4] ===>> 4.4\n",
      "[3, 8, 4, 8, 9, 8] ===>> 6.67\n",
      "[9, 7, 1, 2, 7, 7, 3] ===>> 5.14\n",
      "[6, 5, 5, 7, 1, 9, 3, 6] ===>> 5.25\n",
      "[2, 6, 3, 3, 6, 1, 8, 7, 3] ===>> 4.33\n",
      "[4, 9, 3, 6, 6, 3, 8, 8, 7] ===>> 6.0\n",
      "[2, 2, 9, 8, 5, 7, 7, 9] ===>> 6.12\n",
      "[9, 4, 8, 2, 7, 2, 2] ===>> 4.86\n",
      "[9, 4, 1, 7, 2, 4] ===>> 4.5\n",
      "[8, 7, 5, 6, 3] ===>> 5.8\n",
      "[1, 4, 8, 7] ===>> 5.0\n",
      "[8, 7, 9] ===>> 8.0\n",
      "[4, 1] ===>> 2.5\n",
      "[1] ===>> 1.0\n"
     ]
    }
   ],
   "source": [
    "# 84\n",
    "\"\"\" Kvadrat matritsaning asosiy dioganaliga parallel bolgan barca dioganallar elementlarini orta arifmatigi ciqiriw (A(o,m-1) dan bowlab)\"\"\"\n",
    "M=CreatRandomMatrix(10,10)\n",
    "PrintMatrix(M)\n",
    "print()\n",
    "for i in range(len(M)-1,0,-1): # asosiy diog ga nisbatan tepada yotgan barca parallel diog lar \"+\" indeks boyica olindi.\n",
    "    x=mainDiogMatrix(M,i) # misol ucun asosiy diog ni teppasida 1-diog ga i=1 boladi.\n",
    "    print(x,\"===>>\",round(sum(x)/len(x),2))  \n",
    "for i in range(-1,-len(M),-1): # asosiy diog ga nisbatan pastda yotgan barca parallel diog lar \"-\" indeks boyica olindi.\n",
    "    x=mainDiogMatrix(M,i)\n",
    "    print(x,\"===>>\",round(sum(x)/len(x),2))"
   ]
  },
  {
   "cell_type": "code",
   "execution_count": 97,
   "id": "e545ce23-ee17-40e9-8b5d-e6fbd2902dee",
   "metadata": {
    "tags": []
   },
   "outputs": [
    {
     "name": "stdout",
     "output_type": "stream",
     "text": [
      " 7  6  2  3  8  6  3  4  8  2 \n",
      " 8  7  3  8  6  8  9  6  3  9 \n",
      " 1  5  8  6  4  9  8  9  2  8 \n",
      " 8  9  8  2  1  2  5  4  7  3 \n",
      " 5  7  1  5  1  2  7  6  4  8 \n",
      " 1  1  3  7  6  3  7  7  9  1 \n",
      " 5  6  2  7  8  5  7  9  2  2 \n",
      " 6  8  3  6  3  5  2  1  5  7 \n",
      " 8  4  1  7  8  3  6  2  1  9 \n",
      " 9  5  5  1  4  5  2  8  7  7 \n",
      "\n",
      "[7] ===>> 7.0\n",
      "[8, 6] ===>> 7.0\n",
      "[1, 7, 2] ===>> 3.33\n",
      "[8, 5, 3, 3] ===>> 4.75\n",
      "[5, 9, 8, 8, 8] ===>> 7.6\n",
      "[1, 7, 8, 6, 6, 6] ===>> 5.67\n",
      "[5, 1, 1, 2, 4, 8, 3] ===>> 3.43\n",
      "[6, 6, 3, 5, 1, 9, 9, 4] ===>> 5.38\n",
      "[8, 8, 2, 7, 1, 2, 8, 6, 8] ===>> 5.56\n",
      "[5, 1, 6, 8, 3, 7, 4, 2, 9] ===>> 5.0\n",
      "[5, 7, 3, 5, 7, 6, 7, 8] ===>> 6.0\n",
      "[1, 8, 5, 7, 7, 4, 3] ===>> 5.0\n",
      "[4, 3, 2, 9, 9, 8] ===>> 5.83\n",
      "[5, 6, 1, 2, 1] ===>> 3.0\n",
      "[2, 2, 5, 2] ===>> 2.75\n",
      "[8, 1, 7] ===>> 5.33\n",
      "[7, 9] ===>> 8.0\n",
      "[7] ===>> 7.0\n"
     ]
    }
   ],
   "source": [
    "# 85\n",
    "\"\"\" Kvadrat matritsaning yordamci dioganaliga parallel bolgan barca dioganallar elementlarini orta arifmatigi ciqiriw (A(o,0) dan bowlab)\"\"\"\n",
    "M=CreatRandomMatrix(10,10)\n",
    "PrintMatrix(M)\n",
    "print()\n",
    "for i in range(-len(M)+1,0):\n",
    "    x=secondDiogMatrix(M,i)\n",
    "    print(x,\"===>>\",round(sum(x)/len(x),2)) \n",
    "for i in range(1,len(M)): \n",
    "    x=secondDiogMatrix(M,i) \n",
    "    print(x,\"===>>\",round(sum(x)/len(x),2)) "
   ]
  },
  {
   "cell_type": "code",
   "execution_count": 98,
   "id": "53f73756-3ded-4c92-b524-6f781ee52c6d",
   "metadata": {
    "tags": []
   },
   "outputs": [
    {
     "name": "stdout",
     "output_type": "stream",
     "text": [
      " 6  1  9  4  6  7  6  9  8  6 \n",
      " 6  8  1  5  5  5  6  7  9  2 \n",
      " 9  5  8  2  2  8  1  2  8  6 \n",
      " 4  7  1  4  8  6  5  4  6  5 \n",
      " 1  7  6  7  4  2  4  1  8  8 \n",
      " 2  4  6  8  5  4  9  6  2  9 \n",
      " 7  6  9  1  2  3  2  4  3  4 \n",
      " 1  8  5  7  9  1  4  6  1  1 \n",
      " 2  5  9  3  5  2  7  9  2  4 \n",
      " 8  9  8  6  4  2  3  2  2  8 \n",
      "\n",
      "[6] ===>> 6\n",
      "[8, 2] ===>> 2\n",
      "[9, 9, 6] ===>> 6\n",
      "[6, 7, 8, 5] ===>> 5\n",
      "[7, 6, 2, 6, 8] ===>> 2\n",
      "[6, 5, 1, 4, 8, 9] ===>> 1\n",
      "[4, 5, 8, 5, 1, 2, 4] ===>> 1\n",
      "[9, 5, 2, 6, 4, 6, 3, 1] ===>> 1\n",
      "[1, 1, 2, 8, 2, 9, 4, 1, 4] ===>> 1\n",
      "[6, 5, 1, 7, 5, 3, 4, 9, 2] ===>> 1\n",
      "[9, 7, 6, 8, 2, 1, 7, 2] ===>> 1\n",
      "[4, 7, 6, 1, 9, 2, 3] ===>> 1\n",
      "[1, 4, 9, 7, 5, 2] ===>> 1\n",
      "[2, 6, 5, 3, 4] ===>> 2\n",
      "[7, 8, 9, 6] ===>> 6\n",
      "[1, 5, 8] ===>> 1\n",
      "[2, 9] ===>> 2\n",
      "[8] ===>> 8\n"
     ]
    }
   ],
   "source": [
    "# 86\n",
    "\"\"\" Kvadrat matritsaning asosiy dioganaliga parallel bolgan barca dioganallar eng kicik elementini ciqariw (A(o,m-1) dan bowlab)\"\"\"\n",
    "M=CreatRandomMatrix(10,10)\n",
    "PrintMatrix(M)\n",
    "print()\n",
    "for i in range(len(M)-1,0,-1): # asosiy diog ga nisbatan tepada yotgan barca parallel diog lar \"+\" indeks boyica olindi.\n",
    "    x=mainDiogMatrix(M,i) \n",
    "    print(x,\"===>>\",min(x))  \n",
    "for i in range(-1,-len(M),-1): # asosiy diog ga nisbatan pastda yotgan barca parallel diog lar \"-\" indeks boyica olindi.\n",
    "    x=mainDiogMatrix(M,i)\n",
    "    print(x,\"===>>\",min(x)) "
   ]
  },
  {
   "cell_type": "code",
   "execution_count": 102,
   "id": "cdeff092-d2ae-439a-b9f6-186d4c84a12c",
   "metadata": {
    "tags": []
   },
   "outputs": [
    {
     "name": "stdout",
     "output_type": "stream",
     "text": [
      " 6  9  2  9  9  7  3  6  8  4 \n",
      " 5  7  2  5  9  9  5  9  6  3 \n",
      " 5  2  1  2  5  6  8  9  7  5 \n",
      " 9  4  4  2  5  1  9  1  8  6 \n",
      " 3  4  7  5  4  5  9  8  1  3 \n",
      " 5  2  8  4  8  8  4  3  3  6 \n",
      " 3  2  3  7  3  4  3  7  4  7 \n",
      " 7  3  5  4  5  1  9  8  8  9 \n",
      " 4  9  3  2  2  8  4  4  2  8 \n",
      " 6  1  4  7  1  2  5  6  4  2 \n",
      "\n",
      "[6] ===>> 6\n",
      "[5, 9] ===>> 9\n",
      "[5, 7, 2] ===>> 7\n",
      "[9, 2, 2, 9] ===>> 9\n",
      "[3, 4, 1, 5, 9] ===>> 9\n",
      "[5, 4, 4, 2, 9, 7] ===>> 9\n",
      "[3, 2, 7, 2, 5, 9, 3] ===>> 9\n",
      "[7, 2, 8, 5, 5, 6, 5, 6] ===>> 8\n",
      "[4, 3, 3, 4, 4, 1, 8, 9, 8] ===>> 9\n",
      "[1, 3, 4, 3, 8, 9, 1, 7, 3] ===>> 9\n",
      "[4, 2, 5, 4, 4, 8, 8, 5] ===>> 8\n",
      "[7, 2, 1, 3, 3, 1, 6] ===>> 7\n",
      "[1, 8, 9, 7, 3, 3] ===>> 9\n",
      "[2, 4, 8, 4, 6] ===>> 8\n",
      "[5, 4, 8, 7] ===>> 8\n",
      "[6, 2, 9] ===>> 9\n",
      "[4, 8] ===>> 8\n",
      "[2] ===>> 2\n"
     ]
    }
   ],
   "source": [
    "# 87\n",
    "\"\"\" Kvadrat matritsaning yordamci dioganaliga parallel bolgan barca dioganallar eng katta elementini ciqariw (A(o,o) dan bowlab)\"\"\"\n",
    "M=CreatRandomMatrix(10,10)\n",
    "PrintMatrix(M)\n",
    "print()\n",
    "for i in range(-len(M)+1,0,1): # yoordamci doig ga nisbatan tepada yotgan barca parallel diog lar \"-\" indeks boyica olindi.\n",
    "    x=secondDiogMatrix(M,i)\n",
    "    print(x,\"===>>\",max(x))  \n",
    "for i in range(1,len(M)): # yoordamci doig ga nisbatan pastda yotgan barca parallel diog lar \"+\" indeks boyica olindi.\n",
    "    x=secondDiogMatrix(M,i) # misol ucun yordamci diog ni pastida 1-diog ga i=1 boladi.\n",
    "    print(x,\"===>>\",max(x)) "
   ]
  },
  {
   "cell_type": "code",
   "execution_count": 100,
   "id": "472fdf64-f593-47fb-8f15-ef8777f9dd23",
   "metadata": {
    "tags": []
   },
   "outputs": [
    {
     "name": "stdout",
     "output_type": "stream",
     "text": [
      " 8  1  5  3  6  2  2  3  1  7 \n",
      " 1  7  4  5  2  1  9  6  7  1 \n",
      " 1  2  4  7  7  1  2  5  5  1 \n",
      " 9  8  8  9  8  6  4  8  6  3 \n",
      " 4  7  5  6  5  4  2  3  3  3 \n",
      " 9  8  4  5  5  1  3  7  1  9 \n",
      " 6  9  8  7  9  5  7  9  5  5 \n",
      " 7  5  9  6  4  7  2  5  6  1 \n",
      " 2  7  4  3  9  4  4  2  2  9 \n",
      " 3  7  6  8  7  3  1  6  6  4 \n",
      "\n",
      " 0  1  5  3  6  2  2  3  1  7 \n",
      " 0  0  4  5  2  1  9  6  7  1 \n",
      " 0  0  0  7  7  1  2  5  5  1 \n",
      " 0  0  0  0  8  6  4  8  6  3 \n",
      " 0  0  0  0  0  4  2  3  3  3 \n",
      " 0  0  0  0  0  0  3  7  1  9 \n",
      " 0  0  0  0  0  0  0  9  5  5 \n",
      " 0  0  0  0  0  0  0  0  6  1 \n",
      " 0  0  0  0  0  0  0  0  0  9 \n",
      " 0  0  0  0  0  0  0  0  0  0 \n"
     ]
    }
   ],
   "source": [
    "# 88\n",
    "\"\"\" Kvadrat matritsaning asosiy dioganalida va undan pastdagi parallel bolgan barca dioganallar elementilarini nolga aylantiriw\"\"\"\n",
    "M=CreatRandomMatrix(10,10)\n",
    "PrintMatrix(M)\n",
    "print()\n",
    "for row in range(len(M)):\n",
    "        for column in range(row+1):\n",
    "            M[row][column]=0\n",
    "PrintMatrix(M)"
   ]
  },
  {
   "cell_type": "code",
   "execution_count": 82,
   "id": "6accc1c8-945b-4448-bf86-82aa3125beea",
   "metadata": {
    "tags": []
   },
   "outputs": [
    {
     "name": "stdout",
     "output_type": "stream",
     "text": [
      " 7  4  5  7  9  4  5  6  5  1 \n",
      " 7  6  2  9  2  2  8  6  7  8 \n",
      " 6  1  7  6  6  2  2  5  8  2 \n",
      " 5  2  7  4  7  2  2  4  2  3 \n",
      " 8  2  1  6  1  3  3  1  3  1 \n",
      " 7  6  4  7  1  1  9  7  8  3 \n",
      " 1  5  2  8  8  4  4  4  9  9 \n",
      " 8  1  7  7  8  2  9  5  2  9 \n",
      " 4  9  8  7  3  1  3  5  8  5 \n",
      " 2  5  7  3  9  9  8  2  7  4 \n",
      "\n",
      " 0  0  0  0  0  0  0  0  0  0 \n",
      " 0  0  0  0  0  0  0  0  0  8 \n",
      " 0  0  0  0  0  0  0  0  8  2 \n",
      " 0  0  0  0  0  0  0  4  2  3 \n",
      " 0  0  0  0  0  0  3  1  3  1 \n",
      " 0  0  0  0  0  1  9  7  8  3 \n",
      " 0  0  0  0  8  4  4  4  9  9 \n",
      " 0  0  0  7  8  2  9  5  2  9 \n",
      " 0  0  8  7  3  1  3  5  8  5 \n",
      " 0  5  7  3  9  9  8  2  7  4 \n"
     ]
    }
   ],
   "source": [
    "# 89\n",
    "\"\"\" Kvadrat matritsaning yordamci dioganalida va undan yuqorida parallel bolgan barca dioganallar elementilarini nolga aylantiriw\"\"\"\n",
    "M=CreatRandomMatrix(10,10)\n",
    "PrintMatrix(M)\n",
    "print()\n",
    "for row in range(len(M)):\n",
    "        for column in range(len(M[0])-row):\n",
    "            M[row][column]=0\n",
    "PrintMatrix(M)"
   ]
  },
  {
   "cell_type": "code",
   "execution_count": 107,
   "id": "aed73906-65d9-4807-bcbd-dc7c0eb1eee5",
   "metadata": {
    "tags": []
   },
   "outputs": [
    {
     "name": "stdout",
     "output_type": "stream",
     "text": [
      " 6  8  5  7  7  1  6  8  5  6 \n",
      " 9  8  2  4  6  9  5  8  3  6 \n",
      " 2  5  1  1  2  2  4  6  9  6 \n",
      " 6  7  2  3  9  3  5  9  1  8 \n",
      " 9  5  9  3  8  1  3  7  1  6 \n",
      " 8  9  1  4  2  1  7  5  6  8 \n",
      " 8  7  4  9  3  4  6  5  4  3 \n",
      " 6  6  3  7  3  7  6  2  7  1 \n",
      " 9  1  1  7  6  4  1  2  8  9 \n",
      " 4  4  6  5  2  1  6  3  7  7 \n",
      "\n",
      " 6  8  5  7  7  1  6  8  5  0 \n",
      " 9  8  2  4  6  9  5  8  0  0 \n",
      " 2  5  1  1  2  2  4  0  0  0 \n",
      " 6  7  2  3  9  3  0  0  0  0 \n",
      " 9  5  9  3  8  0  0  0  0  0 \n",
      " 8  9  1  4  0  0  0  0  0  0 \n",
      " 8  7  4  0  0  0  0  0  0  0 \n",
      " 6  6  0  0  0  0  0  0  0  0 \n",
      " 9  0  0  0  0  0  0  0  0  0 \n",
      " 0  0  0  0  0  0  0  0  0  0 \n"
     ]
    }
   ],
   "source": [
    "# 90\n",
    "\"\"\" Kvadrat matritsaning yordamci dioganalida va undan pastda parallel bolgan barca dioganallar elementilarini nolga aylantiriw\"\"\"\n",
    "M=CreatRandomMatrix(10,10)\n",
    "PrintMatrix(M)\n",
    "print()\n",
    "for row in range(len(M)):\n",
    "        for column in range(-1,-(row+1)-1,-1):\n",
    "            M[row][column]=0\n",
    "PrintMatrix(M)"
   ]
  },
  {
   "cell_type": "code",
   "execution_count": 83,
   "id": "7a55bc51-ee7b-48ae-b312-bc29bff60108",
   "metadata": {
    "tags": []
   },
   "outputs": [
    {
     "name": "stdout",
     "output_type": "stream",
     "text": [
      " 4  6  8  5  9  5  6  7  8  4 \n",
      " 1  4  4  6  9  8  2  1  3  8 \n",
      " 7  3  1  6  9  3  3  7  3  8 \n",
      " 7  6  4  6  4  5  5  6  2  4 \n",
      " 7  3  3  1  3  3  4  7  9  7 \n",
      " 9  1  1  6  3  6  8  7  1  3 \n",
      " 4  1  8  9  9  2  4  5  9  6 \n",
      " 4  5  4  1  3  8  2  8  3  7 \n",
      " 6  8  6  8  1  7  8  5  9  3 \n",
      " 1  4  2  6  9  6  3  1  6  5 \n",
      "\n",
      " 0  0  0  0  0  0  0  0  0  0 \n",
      " 1  0  0  0  0  0  0  0  0  0 \n",
      " 7  3  0  0  0  0  0  0  0  0 \n",
      " 7  6  4  0  0  0  0  0  0  0 \n",
      " 7  3  3  1  0  0  0  0  0  0 \n",
      " 9  1  1  6  3  0  0  0  0  0 \n",
      " 4  1  8  9  9  2  0  0  0  0 \n",
      " 4  5  4  1  3  8  2  0  0  0 \n",
      " 6  8  6  8  1  7  8  5  0  0 \n",
      " 1  4  2  6  9  6  3  1  6  0 \n"
     ]
    }
   ],
   "source": [
    "# 91\n",
    "\"\"\" Kvadrat matritsaning asosiy dioganalida va undan yuqorida parallel bolgan barca dioganallar elementilarini nolga aylantiriw\"\"\"\n",
    "M=CreatRandomMatrix(10,10)\n",
    "PrintMatrix(M)\n",
    "print()\n",
    "for row in range(len(M)):\n",
    "        for column in range(row,len(M[0])):\n",
    "            M[row][column]=0\n",
    "PrintMatrix(M)"
   ]
  },
  {
   "cell_type": "code",
   "execution_count": 121,
   "id": "768ec23b-d977-417c-b942-1d51df89c143",
   "metadata": {
    "tags": []
   },
   "outputs": [
    {
     "name": "stdout",
     "output_type": "stream",
     "text": [
      " 6  8  2  3  9  8  3  4  7  5 \n",
      " 5  8  4  8  8  2  5  6  6  9 \n",
      " 7  5  8  5  9  2  6  1  7  6 \n",
      " 5  9  6  1  4  6  2  8  2  6 \n",
      " 5  4  5  7  6  9  3  4  1  1 \n",
      " 9  1  4  8  7  8  5  9  8  4 \n",
      " 7  9  2  8  6  9  4  3  5  8 \n",
      " 3  7  4  5  3  7  9  9  4  2 \n",
      " 7  7  8  1  2  3  7  5  7  6 \n",
      " 8  1  1  9  4  7  3  6  2  1 \n",
      "\n",
      " 0  0  0  0  0  0  0  0  0  0 \n",
      " 5  0  0  0  0  0  0  0  0  9 \n",
      " 7  5  0  0  0  0  0  0  7  6 \n",
      " 5  9  6  0  0  0  0  8  2  6 \n",
      " 5  4  5  7  0  0  3  4  1  1 \n",
      " 9  1  4  8  7  8  5  9  8  4 \n",
      " 7  9  2  8  6  9  4  3  5  8 \n",
      " 3  7  4  5  3  7  9  9  4  2 \n",
      " 7  7  8  1  2  3  7  5  7  6 \n",
      " 8  1  1  9  4  7  3  6  2  1 \n"
     ]
    }
   ],
   "source": [
    "# 92\n",
    "\"\"\" Kvadrat matritsaning asosiy va yordamci dioganallarida va ularndan yuqorida barca elementilarni nolga aylantiriw\"\"\"\n",
    "M=CreatRandomMatrix(10,10)\n",
    "PrintMatrix(M)\n",
    "print()\n",
    "for row in range(len(M)//2):\n",
    "        for column in range(row,len(M[0])//2):\n",
    "            M[row][column]=0\n",
    "        for column in range(len(M[0])//2,len(M[0])-row):\n",
    "            M[row][column]=0\n",
    "PrintMatrix(M)"
   ]
  },
  {
   "cell_type": "code",
   "execution_count": 19,
   "id": "6967e31d-0c3f-4f2c-8fcd-737111ea3b33",
   "metadata": {
    "tags": []
   },
   "outputs": [
    {
     "name": "stdout",
     "output_type": "stream",
     "text": [
      " 9  6  1  7  7  4  5 \n",
      " 1  2  6  7  4  1  8 \n",
      " 5  6  3  6  5  8  7 \n",
      " 2  4  1  1  9  3  9 \n",
      " 2  1  3  9  6  2  1 \n",
      " 6  3  8  7  7  2  4 \n",
      " 6  1  7  8  9  3  7 \n",
      "\n",
      " 9  0  0  0  0  0  5 \n",
      " 1  2  0  0  0  1  8 \n",
      " 5  6  3  0  5  8  7 \n",
      " 2  4  1  1  9  3  9 \n",
      " 2  1  3  9  6  2  1 \n",
      " 6  3  8  7  7  2  4 \n",
      " 6  1  7  8  9  3  7 \n"
     ]
    }
   ],
   "source": [
    "# 92 (wart operatori bilan iwlangan)\n",
    "M=CreatRandomMatrix(7,7)\n",
    "PrintMatrix(M)\n",
    "print()\n",
    "temp=[]\n",
    "for i in range(len(M)):\n",
    "    for j in range(len(M)):\n",
    "        if i<j and i+j<len(M)-1:\n",
    "            M[i][j]=0\n",
    "PrintMatrix(M)"
   ]
  },
  {
   "cell_type": "code",
   "execution_count": 128,
   "id": "7dafc8ba-e157-48c0-a8e3-9c5a078550cf",
   "metadata": {},
   "outputs": [
    {
     "name": "stdout",
     "output_type": "stream",
     "text": [
      " 1  8  4  2  8  6  1  8  3  2 \n",
      " 6  3  8  7  4  2  6  4  5  5 \n",
      " 3  8  3  5  1  3  2  2  7  1 \n",
      " 9  4  7  8  4  5  5  3  3  4 \n",
      " 3  3  1  4  6  4  3  1  7  1 \n",
      " 1  1  2  2  1  4  9  9  1  2 \n",
      " 8  8  9  1  1  1  2  9  3  6 \n",
      " 5  5  7  8  1  2  4  4  6  3 \n",
      " 7  4  6  2  2  9  9  7  8  6 \n",
      " 3  9  7  6  8  3  8  9  4  6 \n",
      "\n",
      " 1  8  4  2  8  6  1  8  3  0 \n",
      " 6  3  8  7  4  2  6  4  0  0 \n",
      " 3  8  3  5  1  3  2  0  0  0 \n",
      " 9  4  7  8  4  5  0  0  0  0 \n",
      " 3  3  1  4  6  0  0  0  0  0 \n",
      " 1  1  2  2  1  0  0  0  0  0 \n",
      " 8  8  9  1  1  1  0  0  0  0 \n",
      " 5  5  7  8  1  2  4  0  0  0 \n",
      " 7  4  6  2  2  9  9  7  0  0 \n",
      " 3  9  7  6  8  3  8  9  4  0 \n"
     ]
    }
   ],
   "source": [
    "# 93 (wart operatori iwlatmasdan)\n",
    "\"\"\" Kvadrat matritsaning asosiy va yordamci dioganallarida va asosiyni yuqorigi qismi va yordamcini past qismilari \n",
    "orasinisidagi elementilarni nolga aylantiriw\"\"\"\n",
    "M=CreatRandomMatrix(10,10)\n",
    "PrintMatrix(M)\n",
    "print()\n",
    "for row in range(len(M)//2,len(M)):\n",
    "        for column in range(row,len(M[0])):\n",
    "            M[row][column]=0\n",
    "for row in range(len(M)//2):\n",
    "        for column in range(-1,-(row+1)-1,-1):\n",
    "            M[row][column]=0\n",
    "PrintMatrix(M)"
   ]
  },
  {
   "cell_type": "code",
   "execution_count": 139,
   "id": "90cbd26e-aaea-4e55-951d-d1dc2274a00c",
   "metadata": {
    "tags": []
   },
   "outputs": [
    {
     "name": "stdout",
     "output_type": "stream",
     "text": [
      " 2  4  5  5  9  3  6  5  7  4 \n",
      " 8  2  2  8  2  9  3  5  3  6 \n",
      " 3  1  1  1  1  1  4  4  2  1 \n",
      " 4  9  2  7  7  8  2  5  9  5 \n",
      " 9  9  6  1  6  6  1  9  1  5 \n",
      " 7  7  1  7  9  7  1  1  5  8 \n",
      " 1  5  4  6  7  4  3  9  4  8 \n",
      " 9  8  6  1  1  5  5  6  7  2 \n",
      " 4  2  7  3  5  7  1  7  8  8 \n",
      " 3  1  1  9  3  2  3  5  4  6 \n",
      "\n",
      " 0  4  5  5  9  3  6  5  7  4 \n",
      " 0  0  2  8  2  9  3  5  3  6 \n",
      " 0  0  0  1  1  1  4  4  2  1 \n",
      " 0  0  0  0  7  8  2  5  9  5 \n",
      " 0  0  0  0  0  6  1  9  1  5 \n",
      " 0  0  0  0  0  7  1  1  5  8 \n",
      " 0  0  0  0  7  4  3  9  4  8 \n",
      " 0  0  0  1  1  5  5  6  7  2 \n",
      " 0  0  7  3  5  7  1  7  8  8 \n",
      " 0  1  1  9  3  2  3  5  4  6 \n"
     ]
    }
   ],
   "source": [
    "# 94\n",
    "\"\"\"Asosiy va yordamci dioganalda, asosiyni pastki qismi va yordamcini yuqori qismlari orasidagi elementlarni nolga aylantiriw\"\"\"\n",
    "M=CreatRandomMatrix(10,10)\n",
    "PrintMatrix(M)\n",
    "print()\n",
    "for row in range(len(M)//2):\n",
    "        for column in range(row+1):\n",
    "            M[row][column]=0\n",
    "for row in range(len(M)//2,len(M)):\n",
    "        for column in range(len(M[0])-row):\n",
    "            M[row][column]=0\n",
    "PrintMatrix(M)"
   ]
  },
  {
   "cell_type": "code",
   "execution_count": 156,
   "id": "97981335-76bc-43db-ab9a-53173ba4b896",
   "metadata": {
    "tags": []
   },
   "outputs": [
    {
     "name": "stdout",
     "output_type": "stream",
     "text": [
      " 7  9  2  4  9  2  3  4  9 \n",
      " 1  6  3  6  4  1  2  8  7 \n",
      " 1  7  2  3  8  7  3  5  9 \n",
      " 5  8  5  6  9  1  1  7  7 \n",
      " 5  8  2  1  1  9  1  2  4 \n",
      " 1  1  2  4  7  3  8  2  5 \n",
      " 4  6  9  2  2  8  6  3  9 \n",
      " 5  8  8  2  6  5  5  1  7 \n",
      " 2  9  9  9  5  3  6  6  2 \n",
      "\n",
      " 7  9  2  4  9  2  3  4  9 \n",
      " 1  6  3  6  4  1  2  8  7 \n",
      " 1  7  2  3  8  7  3  5  9 \n",
      " 5  8  5  6  9  1  1  7  7 \n",
      " 5  8  2  1  0  9  1  2  4 \n",
      " 1  1  2  0  0  0  8  2  5 \n",
      " 4  6  0  0  0  0  0  3  9 \n",
      " 5  0  0  0  0  0  0  0  7 \n",
      " 0  0  0  0  0  0  0  0  0 \n"
     ]
    }
   ],
   "source": [
    "# 95\n",
    "\"\"\"Asosiy va yordamci dioganalda, asosiyni pastki qismi va yordamcini past qismlari orasidagi elementlarni nolga aylantiriw\"\"\"\n",
    "M=CreatRandomMatrix(9,9)\n",
    "PrintMatrix(M)\n",
    "print()\n",
    "for row in range(len(M)//2,len(M)):\n",
    "        for column in range(len(M[0])//2,row+1):\n",
    "            M[row][column]=0\n",
    "        for column in range(-len(M[0])//2-1,-(row+1)-1,-1):\n",
    "            M[row][column]=0\n",
    "PrintMatrix(M)"
   ]
  },
  {
   "cell_type": "code",
   "execution_count": 23,
   "id": "b0cdc0af-c68a-4d53-b535-54ec2e3246a4",
   "metadata": {
    "tags": []
   },
   "outputs": [
    {
     "name": "stdin",
     "output_type": "stream",
     "text": [
      "m=  5\n"
     ]
    },
    {
     "name": "stdout",
     "output_type": "stream",
     "text": [
      " 1  8  2  1  7 \n",
      " 6  8  1  5  4 \n",
      " 4  6  8  3  1 \n",
      " 5  6  2  4  1 \n",
      " 3  8  2  4  3 \n",
      "\n",
      " 1  6  4  5  3 \n",
      " 8  8  6  6  8 \n",
      " 2  1  8  2  2 \n",
      " 1  5  3  4  4 \n",
      " 7  4  1  1  3 \n"
     ]
    }
   ],
   "source": [
    "# 96\n",
    "def shiftByMainDiog(M):\n",
    "    \"\"\"Matritsaning elementlarini asosiy dioganalga nisbatan almawtiriw (asosiy dioganal elementlari ozgariwsiz qoldirilsin)\"\"\"\n",
    "    for row in range(len(M)):\n",
    "            for column in range(row+1):\n",
    "                if row != column: # nima ucun uwbu holat ucun row != column kod bajarilmadi.\n",
    "                    M[row][column],M[column][row]=M[column][row],M[row][column]\n",
    "    return M\n",
    "m=int(input(\"m= \"))\n",
    "M=CreatRandomMatrix(m,m)\n",
    "PrintMatrix(M)\n",
    "print()\n",
    "shiftByMainDiog(M)\n",
    "PrintMatrix(M)"
   ]
  },
  {
   "cell_type": "code",
   "execution_count": 24,
   "id": "c4efaea2-d790-486a-992e-24309ebe992b",
   "metadata": {
    "tags": []
   },
   "outputs": [
    {
     "name": "stdin",
     "output_type": "stream",
     "text": [
      "m=  6\n"
     ]
    },
    {
     "name": "stdout",
     "output_type": "stream",
     "text": [
      " 6  3  8  2  9  8 \n",
      " 5  4  2  5  3  8 \n",
      " 9  4  9  6  1  8 \n",
      " 7  3  9  1  5  7 \n",
      " 6  9  2  3  6  6 \n",
      " 5  2  7  7  6  3 \n",
      "\n",
      " 3  6  7  8  8  8 \n",
      " 6  6  5  1  3  9 \n",
      " 7  3  1  6  5  2 \n",
      " 7  2  9  9  2  8 \n",
      " 2  9  3  4  4  3 \n",
      " 5  6  7  9  5  6 \n"
     ]
    }
   ],
   "source": [
    "# 97\n",
    "def shiftBySecDiog(M):\n",
    "    \"\"\"Matritsaning elementlarini yordamci dioganalga nisbatan almawtiriw(yordamci dioganal elementlari ozgariwsiz qoldirilsin)\"\"\"\n",
    "    for row in range(m):\n",
    "            for column in range(m-row):\n",
    "                if row + column < m-1: # nima ucun uwbu holat ucun row != column kod bajarilmadi.\n",
    "                    M[row][column],M[(m-1)-column][(m-1)-row]=M[(m-1)-column][(m-1)-row],M[row][column]\n",
    "m=int(input(\"m= \"))\n",
    "M=CreatRandomMatrix(m,m)\n",
    "PrintMatrix(M)\n",
    "print()\n",
    "shiftBySecDiog(M)\n",
    "PrintMatrix(M)"
   ]
  },
  {
   "cell_type": "code",
   "execution_count": 12,
   "id": "0a55f9b3-acba-47fa-9f09-3d69d99f545b",
   "metadata": {},
   "outputs": [
    {
     "name": "stdin",
     "output_type": "stream",
     "text": [
      "m=  10\n"
     ]
    },
    {
     "name": "stdout",
     "output_type": "stream",
     "text": [
      " 2  8  1  5  6  2  1  1  7  2 \n",
      " 6  2  8  4  2  8  2  2  2  1 \n",
      " 9  9  7  8  7  8  7  7  9  3 \n",
      " 1  5  2  3  6  4  4  1  3  2 \n",
      " 4  1  1  9  4  3  8  7  4  8 \n",
      " 5  4  4  7  5  5  1  5  1  7 \n",
      " 6  1  8  7  6  5  2  1  9  2 \n",
      " 2  1  6  2  3  3  2  2  6  5 \n",
      " 7  5  5  4  4  7  5  5  7  3 \n",
      " 6  3  1  3  1  2  7  3  2  3 \n",
      "\n",
      " 3  2  3  7  2  1  3  1  3  6 \n",
      " 3  7  5  5  7  4  4  5  5  7 \n",
      " 5  6  2  2  3  3  2  6  1  2 \n",
      " 2  9  1  2  5  6  7  8  1  6 \n",
      " 7  1  5  1  5  5  7  4  4  5 \n",
      " 8  4  7  8  3  4  9  1  1  4 \n",
      " 2  3  1  4  4  6  3  2  5  1 \n",
      " 3  9  7  7  8  7  8  7  9  9 \n",
      " 1  2  2  2  8  2  4  8  2  6 \n",
      " 2  7  1  1  2  6  5  1  8  2 \n"
     ]
    }
   ],
   "source": [
    "# 98\n",
    "\"\"\"Matritsani 180 gradusga buriw\"\"\"\n",
    "m=int(input(\"m= \"))\n",
    "M=CreatRandomMatrix(m,m)\n",
    "PrintMatrix(M)\n",
    "print()\n",
    "for row in range(m//2):\n",
    "    M[row],M[(m-1)-row]=M[(m-1)-row],M[row]\n",
    "for row in M:\n",
    "    row.reverse()    \n",
    "PrintMatrix(M)"
   ]
  },
  {
   "cell_type": "code",
   "execution_count": 25,
   "id": "f7115426-d820-4347-bf0e-192646a42593",
   "metadata": {
    "tags": []
   },
   "outputs": [
    {
     "name": "stdin",
     "output_type": "stream",
     "text": [
      "m=  6\n"
     ]
    },
    {
     "name": "stdout",
     "output_type": "stream",
     "text": [
      " 4  3  3  9  1  1 \n",
      " 1  6  9  7  7  5 \n",
      " 2  7  4  3  8  2 \n",
      " 9  6  3  2  5  3 \n",
      " 4  1  8  6  1  6 \n",
      " 2  5  3  8  8  7 \n",
      "\n",
      " 1  5  2  3  6  7 \n",
      " 1  7  8  5  1  8 \n",
      " 9  7  3  2  6  8 \n",
      " 3  9  4  3  8  3 \n",
      " 3  6  7  6  1  5 \n",
      " 4  1  2  9  4  2 \n"
     ]
    }
   ],
   "source": [
    "# 99\n",
    "\"\"\"Matritsani soat strelkasiga qarwi 90 gradusga buriw\"\"\"\n",
    "m=int(input(\"m= \"))\n",
    "M=CreatRandomMatrix(m,m)\n",
    "PrintMatrix(M)\n",
    "print()\n",
    "# matritsani yuqori yarmi bilan pastki yarmini elementlarini almawtirildi\n",
    "for row in range(m//2):\n",
    "    M[row],M[(m-1)-row]=M[(m-1)-row],M[row]\n",
    "# matritsani yordamci diognaliga nisabatan yuqori va pastki qismlari almawtirildi\n",
    "shiftBySecDiog(M)       \n",
    "PrintMatrix(M)"
   ]
  },
  {
   "cell_type": "code",
   "execution_count": 26,
   "id": "0a869cc4-90d3-4c3c-bf81-dde6bdc750e9",
   "metadata": {},
   "outputs": [
    {
     "name": "stdin",
     "output_type": "stream",
     "text": [
      "m=  6\n"
     ]
    },
    {
     "name": "stdout",
     "output_type": "stream",
     "text": [
      " 8  2  7  3  9  4 \n",
      " 9  8  3  4  9  1 \n",
      " 8  9  3  7  8  1 \n",
      " 9  3  9  6  1  4 \n",
      " 5  2  4  7  7  4 \n",
      " 9  7  1  8  9  4 \n",
      "\n",
      " 9  5  9  8  9  8 \n",
      " 7  2  3  9  8  2 \n",
      " 1  4  9  3  3  7 \n",
      " 8  7  6  7  4  3 \n",
      " 9  7  1  8  9  9 \n",
      " 4  4  4  1  1  4 \n"
     ]
    }
   ],
   "source": [
    "# 100\n",
    "\"\"\"Matritsani soat strelkasi boylab 90 gradusga buriw\"\"\"\n",
    "m=int(input(\"m= \"))\n",
    "M=CreatRandomMatrix(m,m)\n",
    "PrintMatrix(M)\n",
    "print()\n",
    "# matritsani yuqori yarmi bilan pastki yarmini elementlarini almawtirildi\n",
    "for row in range(m//2):\n",
    "    M[row],M[(m-1)-row]=M[(m-1)-row],M[row]\n",
    "# matritsani asosiy diognaliga kora yuqori va pastki qismlari almawtirildi\n",
    "shiftByMainDiog(M)         \n",
    "PrintMatrix(M)"
   ]
  },
  {
   "cell_type": "code",
   "execution_count": null,
   "id": "63be9f7c-acdd-423a-9969-1ca2b454754f",
   "metadata": {},
   "outputs": [],
   "source": []
  }
 ],
 "metadata": {
  "kernelspec": {
   "display_name": "Python 3 (ipykernel)",
   "language": "python",
   "name": "python3"
  },
  "language_info": {
   "codemirror_mode": {
    "name": "ipython",
    "version": 3
   },
   "file_extension": ".py",
   "mimetype": "text/x-python",
   "name": "python",
   "nbconvert_exporter": "python",
   "pygments_lexer": "ipython3",
   "version": "3.11.1"
  }
 },
 "nbformat": 4,
 "nbformat_minor": 5
}
