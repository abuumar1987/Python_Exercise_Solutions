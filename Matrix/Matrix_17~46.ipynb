{
 "cells": [
  {
   "cell_type": "code",
   "execution_count": 1,
   "id": "5d212a9f-3d48-40bd-92a1-04a8d61b38c9",
   "metadata": {},
   "outputs": [],
   "source": [
    "# MATRITSA ELEMENTLARINI TAHLIL QILIW"
   ]
  },
  {
   "cell_type": "code",
   "execution_count": 1,
   "id": "aadf3b4c-1df6-40d7-bc30-5fa988746cac",
   "metadata": {
    "tags": []
   },
   "outputs": [],
   "source": [
    "import random"
   ]
  },
  {
   "cell_type": "code",
   "execution_count": 2,
   "id": "a6dfd694-d0ed-476e-84ef-35b96015858b",
   "metadata": {},
   "outputs": [],
   "source": [
    "def PrintMatrix(M):\n",
    "    for row in range(len(M)):\n",
    "        for column in range(len(M[0])):\n",
    "            print(\"%2d\"%M[row][column],end=(\" \")) # modulo operatori bn output qiliw\n",
    "        print()"
   ]
  },
  {
   "cell_type": "code",
   "execution_count": 3,
   "id": "5c8e2072-372b-41d3-a582-2d4e63e6f7f3",
   "metadata": {},
   "outputs": [],
   "source": [
    "def CreatRandomMatrix(m,n):    \n",
    "    matrix=[[random.randint(1,9) for i in range(n)] for j in range(m)]\n",
    "    return matrix"
   ]
  },
  {
   "cell_type": "code",
   "execution_count": 4,
   "id": "fc1b47cb-0d1b-454a-ab59-b6b9cc6da7f8",
   "metadata": {},
   "outputs": [],
   "source": [
    "def CreatSimpleMatrix(m,n):    \n",
    "    matrix=[[i for i in range(1,n+1)] for j in range(1,m+1)]\n",
    "    return matrix"
   ]
  },
  {
   "cell_type": "code",
   "execution_count": 5,
   "id": "283dcbb3-f531-43dc-9f02-701ed7eef3fb",
   "metadata": {
    "tags": []
   },
   "outputs": [
    {
     "name": "stdin",
     "output_type": "stream",
     "text": [
      "k=   2\n"
     ]
    },
    {
     "name": "stdout",
     "output_type": "stream",
     "text": [
      " 5  2  6  6  2  3  5 \n",
      " 5  9  5  3  4  2  5 \n",
      " 3  6  1  3  3  3  3 \n",
      " 3  7  4  2  1  1  1 \n",
      " 9  6  3  2  8  6  8 \n",
      " 5  6  4  1  1  2  6 \n",
      " 9  6  9  1  9  9  8 \n",
      " 1  1  9  1  4  6  1 \n",
      "22\n",
      "1458\n"
     ]
    }
   ],
   "source": [
    "# 17\n",
    "\"\"\"Matritsaning k-satrining elementlarinin yigindisi va kopaytmasini qaytariw\"\"\"\n",
    "M=CreatRandomMatrix(8,7)\n",
    "k=int(input(\"k=  \"))\n",
    "PrintMatrix(M)\n",
    "a=sum(M[k]) # k- satr elementlarining yigindisi\n",
    "b=1 # k-satr elementlarining kopaytmasi\n",
    "for i in M[k]:\n",
    "    b *= i\n",
    "print(a)\n",
    "print(b)"
   ]
  },
  {
   "cell_type": "code",
   "execution_count": 6,
   "id": "07592589-1b30-4cc2-a2c8-dfbac0847ba1",
   "metadata": {
    "tags": []
   },
   "outputs": [
    {
     "name": "stdin",
     "output_type": "stream",
     "text": [
      "k=   3\n"
     ]
    },
    {
     "name": "stdout",
     "output_type": "stream",
     "text": [
      " 1  3  2  2  4  3  8 \n",
      " 9  7  4  2  8  7  8 \n",
      " 3  4  4  3  1  1  3 \n",
      " 9  6  2  2  8  6  8 \n",
      " 7  6  8  6  6  1  8 \n",
      " 4  5  8  4  9  5  1 \n",
      " 9  2  5  9  7  7  9 \n",
      " 5  1  9  5  5  5  1 \n",
      "33\n",
      "25920\n"
     ]
    }
   ],
   "source": [
    "# 18\n",
    "\"\"\"Matritsaning k-ustunining elementlarinin yigindisi va kopaytmasini qaytariw\"\"\"\n",
    "M=CreatRandomMatrix(8,7)\n",
    "k=int(input(\"k=  \"))\n",
    "PrintMatrix(M)\n",
    "a=0 # k- satr elementlarining yigindisi\n",
    "b=1 # k-satr elementlarining kopaytmasi\n",
    "for i in range(len(M)):\n",
    "    a += M[i][k]\n",
    "    b *= M[i][k]\n",
    "print(a)\n",
    "print(b)"
   ]
  },
  {
   "cell_type": "code",
   "execution_count": 8,
   "id": "e5d8dda6-d0fd-4b62-b5ec-6c80d68d3cc7",
   "metadata": {
    "tags": []
   },
   "outputs": [
    {
     "name": "stdout",
     "output_type": "stream",
     "text": [
      " 8  7  1  9  3  1  7 \n",
      " 9  7  1  2  2  2  5 \n",
      " 9  6  8  6  6  5  7 \n",
      " 2  8  8  5  2  8  3 \n",
      " 2  7  1  7  9  1  8 \n",
      " 4  4  8  6  8  3  1 \n",
      "\n",
      "36 28 47 36 35 34 "
     ]
    }
   ],
   "source": [
    "# 19\n",
    "\"\"\"Matritsaning har bir satrining elementlarining yigindisi qaytariw\"\"\"\n",
    "M=CreatRandomMatrix(6,7)\n",
    "PrintMatrix(M)\n",
    "print()\n",
    "for i in range(len(M)):\n",
    "    print(sum(M[i]),end=(\" \"))"
   ]
  },
  {
   "cell_type": "code",
   "execution_count": 9,
   "id": "bef11f4c-6857-4fe9-a6ad-e2e466b4f668",
   "metadata": {
    "tags": []
   },
   "outputs": [
    {
     "name": "stdout",
     "output_type": "stream",
     "text": [
      " 1  7  9  9  5  6  7 \n",
      " 6  7  6  3  8  1  6 \n",
      " 6  5  1  4  2  1  5 \n",
      " 1  3  2  8  7  7  8 \n",
      " 8  8  3  1  9  4  3 \n",
      " 8  6  4  9  6  2  1 \n",
      "\n",
      "2304 35280 1296 7776 30240 336 5040 "
     ]
    }
   ],
   "source": [
    "# 20\n",
    "\"\"\"Matritsaning har bir ustunining elementlarining kopaytmalarini qaytariw\"\"\"\n",
    "M=CreatRandomMatrix(6,7)\n",
    "PrintMatrix(M)\n",
    "print()\n",
    "for column in range(len(M[0])):\n",
    "    a=1\n",
    "    for row in range(len(M)):\n",
    "        a *= M[row][column]\n",
    "    print(a,end=(\" \"))"
   ]
  },
  {
   "cell_type": "code",
   "execution_count": 10,
   "id": "c9437417-574a-470b-afb9-e6aa02eb6745",
   "metadata": {
    "tags": []
   },
   "outputs": [
    {
     "name": "stdout",
     "output_type": "stream",
     "text": [
      " 9  1  3  6  5  4  7 \n",
      " 5  1  5  2  3  5  1 \n",
      " 9  5  4  8  1  2  2 \n",
      " 6  7  1  7  1  2  4 \n",
      " 5  8  4  2  2  6  8 \n",
      " 4  3  9  5  2  4  2 \n",
      "\n",
      "3.67 2.67 5.0 5.33 5.33 4.0 "
     ]
    }
   ],
   "source": [
    "# 21\n",
    "\"\"\"Matritsaning har bir satrining toq indeksli ustun elementlarining orta arifmetigini qaytariw\"\"\"\n",
    "M=CreatRandomMatrix(6,7)\n",
    "PrintMatrix(M)\n",
    "print()\n",
    "for row in range(len(M)):\n",
    "    a=sum(M[row][1::2])/len(M[1::2])\n",
    "    print(round(a,2),end=(\" \"))"
   ]
  },
  {
   "cell_type": "code",
   "execution_count": 11,
   "id": "5ff0d05b-778a-41fc-981d-51a327293411",
   "metadata": {
    "tags": []
   },
   "outputs": [
    {
     "name": "stdout",
     "output_type": "stream",
     "text": [
      " 4  1  2  2  9  2  8 \n",
      " 2  7  6  1  8  9  2 \n",
      " 7  4  1  3  6  2  1 \n",
      " 9  1  4  2  1  2  4 \n",
      " 4  7  9  1  1  9  8 \n",
      " 3  4  3  5  4  7  2 \n",
      "\n",
      "15 12 12 6 16 13 17 "
     ]
    }
   ],
   "source": [
    "# 22\n",
    "\"\"\"Matritsaning har bir ustunning 2ga karrali satr elementlarining yigindisini qaytariw\"\"\"\n",
    "M=CreatRandomMatrix(6,7)\n",
    "PrintMatrix(M)\n",
    "print()\n",
    "for column in range(len(M[0])):\n",
    "    a=0\n",
    "    for row in range(0,len(M),2): # har bir ustunning 2 ga karrali satlarining indekslari\n",
    "        a += M[row][column]\n",
    "    print(a,end=(\" \"))"
   ]
  },
  {
   "cell_type": "code",
   "execution_count": 12,
   "id": "a8b8ddf1-87ef-45e9-a0b7-9eea7cd2198e",
   "metadata": {
    "tags": []
   },
   "outputs": [
    {
     "name": "stdout",
     "output_type": "stream",
     "text": [
      " 9  3  9  1  2  5  6 \n",
      " 9  4  5  4  9  1  2 \n",
      " 1  4  6  7  8  8  6 \n",
      " 1  8  5  9  1  3  6 \n",
      " 6  3  5  4  3  2  5 \n",
      " 9  4  5  2  8  5  2 \n",
      "\n",
      "1 1 1 1 2 2 "
     ]
    }
   ],
   "source": [
    "# 23\n",
    "\"\"\"Matritsaning har bir satrining eng kicik elementini qaytariw\"\"\"\n",
    "M=CreatRandomMatrix(6,7)\n",
    "PrintMatrix(M)\n",
    "print()\n",
    "for i in range(len(M)):\n",
    "    print(min(M[i]),end=(\" \"))"
   ]
  },
  {
   "cell_type": "code",
   "execution_count": 13,
   "id": "16bb8822-4922-40d8-aa96-cd015188bef3",
   "metadata": {
    "tags": []
   },
   "outputs": [
    {
     "name": "stdout",
     "output_type": "stream",
     "text": [
      " 8  5  4  9  3  7  5 \n",
      " 4  1  3  2  4  4  9 \n",
      " 5  5  2  9  1  2  5 \n",
      " 4  5  4  4  5  1  6 \n",
      " 8  2  7  9  3  7  6 \n",
      " 7  5  8  3  6  8  8 \n",
      "\n",
      "8 5 8 9 6 8 9 "
     ]
    }
   ],
   "source": [
    "# 24\n",
    "\"\"\"Matritsaning har bir ustunining eng katta elementini qaytariw\"\"\"\n",
    "M=CreatRandomMatrix(6,7)\n",
    "PrintMatrix(M)\n",
    "print()\n",
    "maxColumn=M[0][0]\n",
    "for column in range(len(M[0])):\n",
    "    A=[]\n",
    "    for row in range(len(M)):\n",
    "        temp=M[row][column]\n",
    "        A.append(temp)\n",
    "        if max(A)==temp:\n",
    "            maxColumn=temp\n",
    "    print(maxColumn,end=(\" \"))"
   ]
  },
  {
   "cell_type": "code",
   "execution_count": 14,
   "id": "9e6da559-0ed8-4c15-bea4-a261084f4dc8",
   "metadata": {
    "tags": []
   },
   "outputs": [
    {
     "name": "stdout",
     "output_type": "stream",
     "text": [
      " 5  6  1  6  8  1  7 \n",
      " 5  2  2  6  6  5  4 \n",
      " 2  2  5  9  2  2  4 \n",
      " 6  1  4  9  5  8  3 \n",
      " 7  1  4  9  7  2  2 \n",
      " 5  1  7  7  7  4  5 \n",
      "\n",
      "5 36\n"
     ]
    }
   ],
   "source": [
    "# 25\n",
    "\"\"\"Matritsaning elementlari yigindisi eng katta bolgan satrning indeksi va elementlar yigindisini qaytariw\"\"\"\n",
    "M=CreatRandomMatrix(6,7)\n",
    "PrintMatrix(M)\n",
    "print()\n",
    "A=[] # har bir satrning elementlarining yigindisini ozida jamlagan massiv\n",
    "maxRowInd=0\n",
    "for row in range(len(M)):\n",
    "    temp=sum(M[row])\n",
    "    A.append(temp)\n",
    "    if max(A)==temp:\n",
    "        maxRowInd=row\n",
    "print(maxRowInd,max(A))\n",
    "        "
   ]
  },
  {
   "cell_type": "code",
   "execution_count": 15,
   "id": "9062af04-94a2-4648-bffa-8a9b39c318a7",
   "metadata": {
    "tags": []
   },
   "outputs": [
    {
     "name": "stdout",
     "output_type": "stream",
     "text": [
      " 8  8  6  4  8  1  2 \n",
      " 7  2  9  9  6  4  6 \n",
      " 1  5  1  7  8  7  4 \n",
      " 8  7  7  5  7  7  7 \n",
      " 3  4  8  4  9  2  3 \n",
      " 5  2  6  1  3  4  9 \n",
      "\n",
      "5 1568\n"
     ]
    }
   ],
   "source": [
    "# 26\n",
    "\"\"\"Matritsaning elementlari kopaytmasi eng kicik bolgan ustunning indeksi va elementlar kopaytmasini qaytariw\"\"\"\n",
    "M=CreatRandomMatrix(6,7)\n",
    "PrintMatrix(M)\n",
    "print()\n",
    "A=[]\n",
    "minColumnInd=0\n",
    "for column in range(len(M[0])):\n",
    "    temp=1\n",
    "    for row in range(len(M)):\n",
    "        temp *= M[row][column]\n",
    "    A.append(temp)\n",
    "    if min(A)==temp:\n",
    "        minColumnInd=column\n",
    "print(minColumnInd,min(A))"
   ]
  },
  {
   "cell_type": "code",
   "execution_count": 16,
   "id": "8e2290aa-5c67-4c72-b9d1-32fdd869fe5b",
   "metadata": {
    "tags": []
   },
   "outputs": [
    {
     "name": "stdout",
     "output_type": "stream",
     "text": [
      " 6  7  7  8  8  2  5 \n",
      " 5  7  1  4  8  9  3 \n",
      " 6  6  7  3  9  5  6 \n",
      " 1  3  7  5  2  5  8 \n",
      " 3  5  9  8  6  5  2 \n",
      " 9  1  9  1  9  1  9 \n",
      "\n",
      "8\n"
     ]
    }
   ],
   "source": [
    "# 27\n",
    "\"\"\"Matritsaning elementlari yigindisi eng kicik bolgan satrning eng katta elementini qaytariw\"\"\"\n",
    "M=CreatRandomMatrix(6,7)\n",
    "PrintMatrix(M)\n",
    "print()\n",
    "A=[] # har bir satrning elementlarining yigindilarini ozida jamlagan massiv\n",
    "for row in range(len(M)):\n",
    "    temp=sum(M[row])\n",
    "    A.append(temp)\n",
    "    if min(A)==temp:\n",
    "        maxRow=max(M[row]) # yigindisi eng kicik bolgan satrning maxi elementi\n",
    "print(maxRow)"
   ]
  },
  {
   "cell_type": "code",
   "execution_count": 17,
   "id": "07ff97c0-e0dc-43e0-bae0-85c474b9d090",
   "metadata": {
    "tags": []
   },
   "outputs": [
    {
     "name": "stdout",
     "output_type": "stream",
     "text": [
      " 7  3  4  4  2  3  9 \n",
      " 6  2  1  5  5  4  6 \n",
      " 5  4  6  6  6  5  9 \n",
      " 5  8  2  5  2  2  7 \n",
      " 5  4  5  5  4  7  2 \n",
      " 7  4  8  6  3  3  6 \n",
      "\n",
      "2\n"
     ]
    }
   ],
   "source": [
    "# 28\n",
    "\"\"\"Matritsaning elementlari yigindisi eng katta bolgan ustunning eng kicik elementini qaytariw\"\"\"\n",
    "M=CreatRandomMatrix(6,7)\n",
    "PrintMatrix(M)\n",
    "print()\n",
    "A=[] # ustun elementlarining yigindilarini oz iciga olgan massiv\n",
    "for column in range(len(M[0])):\n",
    "    temp=[] # ustun elemntlarini oz iciga olgan massiv\n",
    "    for row in range(len(M)):\n",
    "        temp.append(M[row][column])\n",
    "    A.append(sum(temp))\n",
    "    if max(A)==sum(temp):\n",
    "        minColumn=min(temp) # aniqlaniwi kk bolgan eng kicik element\n",
    "print(minColumn)"
   ]
  },
  {
   "cell_type": "code",
   "execution_count": 18,
   "id": "64ecd9fb-98fd-4dca-8210-f5b4a97266c3",
   "metadata": {
    "tags": []
   },
   "outputs": [
    {
     "name": "stdout",
     "output_type": "stream",
     "text": [
      " 1  5  9  8  6  3  6 \n",
      " 6  1  6  8  4  4  2 \n",
      " 3  2  8  9  6  5  9 \n",
      " 5  1  9  2  3  8  7 \n",
      " 6  6  4  5  9  1  5 \n",
      " 2  4  2  9  4  5  5 \n",
      "\n",
      "3 4 3 3 4 4 "
     ]
    }
   ],
   "source": [
    "# 29\n",
    "\"\"\"Matritsaning har bir satrida satrning orta arifmetigidan kicik bolgan elementlar sonini qaytariw\"\"\"\n",
    "M=CreatRandomMatrix(6,7)\n",
    "PrintMatrix(M)\n",
    "print()\n",
    "for row in range(len(M)):\n",
    "    temp=sum(M[row])/len(M[row]) # satrning orta arifmetigi\n",
    "    a=0 # satrdagi elementlarining orta arifmetigidan kicik elementlar soni\n",
    "    for column in range(len(M[0])):\n",
    "        if M[row][column]<temp:\n",
    "            a += 1\n",
    "    print(a,end=(\" \"))"
   ]
  },
  {
   "cell_type": "code",
   "execution_count": 19,
   "id": "0dd3cc86-a52e-4220-990d-486d89c195f4",
   "metadata": {
    "tags": []
   },
   "outputs": [
    {
     "name": "stdout",
     "output_type": "stream",
     "text": [
      " 5  6  6  1  4  1  5 \n",
      " 5  5  1  6  9  1  8 \n",
      " 5  5  9  7  8  4  8 \n",
      " 8  3  4  1  3  3  8 \n",
      " 6  9  8  7  8  5  8 \n",
      " 9  8  2  9  2  3  7 \n",
      "\n",
      "2 2 3 4 3 4 4 "
     ]
    }
   ],
   "source": [
    "# 30\n",
    "\"\"\"Matritsaning har bir satrida satrning orta arifmetigidan kicik bolgan elementlar sonini qaytariw\"\"\"\n",
    "M=CreatRandomMatrix(6,7)\n",
    "PrintMatrix(M)\n",
    "print()\n",
    "for column in range(len(M[0])):\n",
    "    temp=[] # ustun elemntlarini oz iciga olgan massiv\n",
    "    a=0 # ustundagi elementlarining orta arifmetigidan kicik elementlar soni\n",
    "    for row in range(len(M)):\n",
    "        temp.append(M[row][column])\n",
    "    for i in temp:\n",
    "        if i>sum(temp)/len(temp):\n",
    "            a += 1\n",
    "    print(a,end=(\" \"))"
   ]
  },
  {
   "cell_type": "code",
   "execution_count": 20,
   "id": "f3c1f8f5-4a8b-4648-8499-7e936d47794c",
   "metadata": {},
   "outputs": [
    {
     "name": "stdout",
     "output_type": "stream",
     "text": [
      " 5  5  7  8  1  4  1 \n",
      " 1  5  8  7  9  9  2 \n",
      " 3  2  3  2  4  2  7 \n",
      " 7  8  5  2  5  8  2 \n",
      " 7  6  9  5  9  9  2 \n",
      " 9  4  4  6  4  8  2 \n",
      "\n",
      "9 4 4 6 4 8 2 \n",
      "1\n",
      "2\n",
      "7\n",
      "2\n",
      "2\n",
      "2\n"
     ]
    }
   ],
   "source": [
    "# 31\n",
    "\"\"\"Matritsaning orta arifmetigiga eng yaqin satr va ustunni qaytariw\"\"\"\n",
    "M=CreatRandomMatrix(6,7)\n",
    "PrintMatrix(M)\n",
    "print()\n",
    "# Matritsani orta arifmetigini hisoblaw\n",
    "MatrixMean=sum([sum(M[i]) for i in range(len(M))])/(len(M)*len(M[0]))\n",
    "# orta arifmetik boyica eng yaqin satrni aniqlaw \n",
    "A=[] # Matritsa va satr orta arifmetiklarining farqlari (massiv).\n",
    "for row in range(len(M)):\n",
    "    rowMean=sum(M[row])/len(M[row])\n",
    "    temp=abs(MatrixMean-rowMean) # orta arifmetiklarining farqi\n",
    "    A.append(temp)\n",
    "    if min(A)==temp:\n",
    "        closestRow=M[row] # orta arifmetigi eng yaqin satr\n",
    "for i in closestRow:\n",
    "    print(i,end=(\" \"))\n",
    "print()\n",
    "# orta arifmetik boyica eng yaqin ustunni aniqlaw\n",
    "for column in range(len(M[0])):\n",
    "    A=[] # Matritsa va ustun orta arifmetiklarining farqlari (massiv).\n",
    "    columSum=0\n",
    "    for row in range(len(M)):\n",
    "        columnSum =+ M[row][column]\n",
    "    temp=abs(MatrixMean-columnSum/len(M)) # orta arifmetiklarining farqi\n",
    "    A.append(temp)\n",
    "    if min(A)==temp:\n",
    "        ClosestColInd=column # orta arifmetigi eng yaqin ustun\n",
    "for i in range(len(M)):\n",
    "    print(M[i][ClosestColInd])"
   ]
  },
  {
   "cell_type": "code",
   "execution_count": 21,
   "id": "bb05fdba-814a-41ac-bb82-a97c2f7a7504",
   "metadata": {
    "tags": []
   },
   "outputs": [],
   "source": [
    "def CreatRandomMatrix2(m,n):    \n",
    "    matrix=[[random.randint(-9,9) for i in range(n)] for j in range(m)]\n",
    "    return matrix"
   ]
  },
  {
   "cell_type": "code",
   "execution_count": 22,
   "id": "a15a9139-6e8c-43fa-b94a-1b07ef6b96c0",
   "metadata": {
    "tags": []
   },
   "outputs": [
    {
     "name": "stdout",
     "output_type": "stream",
     "text": [
      "-8  9  9 -5 -9 -5  9 -6 -9  7 \n",
      "-3  9 -9  8 -2 -4  7 -4  2  5 \n",
      " 4 -6  4  7  8  4 -9  6 -4 -6 \n",
      " 0  8  8 -3  7 -7  4 -7  1 -6 \n",
      "-3  7 -4  8  1 -4  2 -8  2 -7 \n",
      " 3  0  2  6  9  1  2  3 -4  8 \n",
      "-1  4 -5  6 -2 -2 -5  9 -8 -1 \n",
      "-3 -4 -9 -5  3 -3 -1 -1 -2  3 \n",
      " 7 -3  6  7  4  2 -2 -9  0  6 \n",
      "-1  6 -9  0  8  8 -3  9  2  5 \n",
      "\n",
      "1\n"
     ]
    }
   ],
   "source": [
    "# 32\n",
    "\"\"\"Matritsaning musbat va manfiy elementlar soni teng bolgan 1-satr indeksini qaytariw\"\"\"\n",
    "M=CreatRandomMatrix2(10,10)\n",
    "PrintMatrix(M)\n",
    "print()\n",
    "for row in range(len(M)):\n",
    "    a=0 # musbat va manfiy elementlar sonining farqi \n",
    "    for column in range(len(M[0])):\n",
    "        if M[row][column]>0:\n",
    "            a += 1\n",
    "        elif M[row][column]<0:\n",
    "            a -= 1\n",
    "    if a==0:\n",
    "        rowInd=row # musbat va manfiy elementlar soni teng bolgan satr indeksi\n",
    "        break\n",
    "if rowInd:\n",
    "    print(rowInd)\n",
    "else:\n",
    "    print(\"Bunday satr yoq\")     "
   ]
  },
  {
   "cell_type": "code",
   "execution_count": 23,
   "id": "cc3f103d-2c37-4a18-94be-668bfc6e9a23",
   "metadata": {
    "tags": []
   },
   "outputs": [
    {
     "name": "stdout",
     "output_type": "stream",
     "text": [
      " 0  1  9  0 -4  1 -7 -6  6  3 \n",
      "-6  6 -1 -1 -1 -3 -8 -7  5 -7 \n",
      " 5  1 -6  6  0 -2  5  0  5 -2 \n",
      " 0  7 -8 -8 -9 -6 -1  3  2  3 \n",
      " 3 -2 -7  2  8 -7  1 -6 -3  3 \n",
      " 6  5  5  8 -2  3  0 -2 -2 -4 \n",
      "-1 -9  3  3  6  0 -7  6  3 -8 \n",
      " 3 -4  2 -6 -2  7  3  9  1  6 \n",
      "-6  9  3  4  3 -2  1 -2 -1 -3 \n",
      "-8 -8  4  4 -4 -3 -1 -9 -5  3 \n",
      "\n",
      "9\n"
     ]
    }
   ],
   "source": [
    "# 33\n",
    "\"\"\"Matritsaning musbat va manfiy elementlar soni teng bolgan songi ustun indeksini qaytariw\"\"\"\n",
    "M=CreatRandomMatrix2(10,10)\n",
    "PrintMatrix(M)\n",
    "print()\n",
    "for column in range(len(M[0])):\n",
    "    a=0 # musbat va manfiy elementlar sonining farqi \n",
    "    for row in range(len(M)):\n",
    "        if M[row][column]>0:\n",
    "            a += 1\n",
    "        elif M[row][column]<0:\n",
    "            a -= 1\n",
    "    if a==0:\n",
    "        columnInd=column # musbat va manfiy elementlar soni teng bolgan ustun indeksi\n",
    "if columnInd:\n",
    "    print(columnInd)\n",
    "else:\n",
    "    print(\"Bunday ustun yoq\")"
   ]
  },
  {
   "cell_type": "code",
   "execution_count": 24,
   "id": "463bae32-b3f4-4e3d-b73a-7d973e665e41",
   "metadata": {
    "tags": []
   },
   "outputs": [
    {
     "name": "stdout",
     "output_type": "stream",
     "text": [
      " 6 -3 -9  3 -5  1  8 -5 -4  1 \n",
      "-6 -5  2  1 -3  4  4  5  1  3 \n",
      " 2  5  3 -8 -1  8  0  2  6 -7 \n",
      " 8  1  8 -5  7  3  2 -8  3  3 \n",
      " 4  4  6 -4 -6  2  4 -8  0 -7 \n",
      " 7 -6  4 -4 -6  1  8  7  6  7 \n",
      "-9 -4 -6  0  2 -3 -8  6 -8  1 \n",
      " 6  8  2  8  0 -2  8 -6 -4  6 \n",
      "-1  4  3  6  4 -7 -4  8 -4 -7 \n",
      " 0  2 -7 -5 -6  8  0  7  2  1 \n",
      "\n",
      "7\n"
     ]
    }
   ],
   "source": [
    "# 34\n",
    "\"\"\"Matritsaning faqat juft sonlardan iborat songi satr indeksini qaytariw\"\"\"\n",
    "# M=CreatRandomMatrix2(10,10)\n",
    "M=[[6, -3, -9, 3, -5, 1, 8, -5, -4, 1],\n",
    "   [-6, -5, 2, 1, -3, 4, 4, 5, 1, 3],\n",
    "   [2, 5, 3, -8, -1, 8, 0, 2, 6, -7],\n",
    "   [8, 1, 8, -5, 7, 3, 2, -8, 3, 3],\n",
    "   [4, 4, 6, -4, -6, 2, 4, -8, 0, -7],\n",
    "   [7, -6, 4, -4, -6, 1, 8, 7, 6, 7],\n",
    "   [-9, -4, -6, 0, 2, -3, -8, 6, -8, 1],\n",
    "   [6, 8, 2, 8, 0, -2, 8, -6, -4, 6],\n",
    "   [-1, 4, 3, 6, 4, -7, -4, 8, -4, -7],\n",
    "   [0, 2, -7, -5, -6, 8, 0, 7, 2, 1]]\n",
    "PrintMatrix(M)\n",
    "print()\n",
    "evenRowInd=0 # faqa juft sonlardan iborat satr indeksi\n",
    "evenRow=[]\n",
    "for row in range(len(M)):     \n",
    "    for column in range(len(M[0])):\n",
    "        if M[row][column]%2!=0:\n",
    "            break\n",
    "    else:\n",
    "        evenRow=M[row]\n",
    "        evenRowInd=row # uwbu ozgaruvcini  pastdagi if ga berib bolmadi. cunki ushbu ozgarning \"0\" qiymatida \"Bunday satr yoq\" qaytaryapti.\n",
    "if evenRow:            # wuning ucun \"evenRow\" ni kiritiw kk boldi.\n",
    "    print(evenRowInd)\n",
    "else:\n",
    "    print(\"Bunday satr yoq\")"
   ]
  },
  {
   "cell_type": "code",
   "execution_count": 25,
   "id": "48d9fc5f-b58f-4c03-8e52-b4d2c04bd645",
   "metadata": {
    "tags": []
   },
   "outputs": [
    {
     "name": "stdout",
     "output_type": "stream",
     "text": [
      " 6 -3 -9  3 -5  1  8 -5 -4  1 \n",
      "-6 -5  2  1 -3  4  4  5  1  3 \n",
      " 2  5  3 -8 -1  8  0  2  6 -7 \n",
      " 8  1  8 -5  7  3  2 -8  3  3 \n",
      " 4  4  6 -4 -6  2  4 -8  0 -7 \n",
      " 7 -6  4 -4 -6  1  8  7  6  7 \n",
      "-9 -4 -6  0  2 -3 -8  6 -8  1 \n",
      " 6  8  2  8  0 -2  8 -6 -4  5 \n",
      "-1  4  3  6  4 -7 -4  8 -4 -7 \n",
      " 0  2 -7 -5 -6  8  0  7  2  1 \n",
      "\n",
      "9\n"
     ]
    }
   ],
   "source": [
    "# 35\n",
    "\"\"\"Matritsaning faqat toq sonlardan iborat 1-ustun indeksini qaytariw\"\"\"\n",
    "# M=CreatRandomMatrix2(10,10)\n",
    "M=M=[[6, -3, -9, 3, -5, 1, 8, -5, -4, 1],\n",
    "   [-6, -5, 2, 1, -3, 4, 4, 5, 1, 3],\n",
    "   [2, 5, 3, -8, -1, 8, 0, 2, 6, -7],\n",
    "   [8, 1, 8, -5, 7, 3, 2, -8, 3, 3],\n",
    "   [4, 4, 6, -4, -6, 2, 4, -8, 0, -7],\n",
    "   [7, -6, 4, -4, -6, 1, 8, 7, 6, 7],\n",
    "   [-9, -4, -6, 0, 2, -3, -8, 6, -8, 1],\n",
    "   [6, 8, 2, 8, 0, -2, 8, -6, -4, 5],\n",
    "   [-1, 4, 3, 6, 4, -7, -4, 8, -4, -7],\n",
    "   [0, 2, -7, -5, -6, 8, 0, 7, 2, 1]]\n",
    "PrintMatrix(M)\n",
    "print()\n",
    "oddColumnInd=0 # faqa toq sonlardan iborat ustun indeksi\n",
    "oddColumn=[]\n",
    "for column in range(len(M[0])):     \n",
    "    for row in range(len(M)):\n",
    "        if M[row][column]%2==0:\n",
    "            break\n",
    "    else:\n",
    "        oddColumn=M[column]\n",
    "        oddColumnInd=column\n",
    "        break\n",
    "if oddColumn:\n",
    "    print(oddColumnInd)\n",
    "else:\n",
    "    print(\"Bunday ustun yoq\")"
   ]
  },
  {
   "cell_type": "code",
   "execution_count": 36,
   "id": "99c22682-9dca-4763-a3d0-87c58551b3d5",
   "metadata": {
    "tags": []
   },
   "outputs": [
    {
     "name": "stdout",
     "output_type": "stream",
     "text": [
      "1\n"
     ]
    }
   ],
   "source": [
    "M=[[5, 6, 0, -2, -4, 5],\n",
    "         [4, 2, 9, -4, 9, 2],\n",
    "         [5, -5, 9, -8, -7, -7],\n",
    "         [6, 5, 0, -4, -2, 5],\n",
    "         [-5, 9, 9, 4, 5, -5],\n",
    "         [5, -5, -5, -4, -6, -8],\n",
    "         [5, 6, 0, -2, -4, 5],\n",
    "         [2, -1, 0, 5, -7, -1],\n",
    "         [5, 6, 5, -2, -4, 0]]\n",
    "A=[sorted(i) for i in M] # har bir hadi sorted(M[i]) qilingan a matrix yaratib olamiz.\n",
    "print(A.count(A[2]))"
   ]
  },
  {
   "cell_type": "code",
   "execution_count": 41,
   "id": "0d9b18d6-c4b2-4d87-b624-772c1c0a1587",
   "metadata": {
    "tags": []
   },
   "outputs": [
    {
     "name": "stdout",
     "output_type": "stream",
     "text": [
      " 5  6  0 -2 -4  5 \n",
      " 4  2  9 -4  9  2 \n",
      " 5 -5  9 -8 -7 -7 \n",
      " 6  5  0 -4 -2  5 \n",
      "-5  9  9  4  5 -5 \n",
      " 5 -5 -5 -4 -6 -8 \n",
      " 5  6  0 -2 -4  5 \n",
      " 2 -1  0  5 -7 -1 \n",
      " 5  6  5 -2 -4  0 \n",
      "\n",
      "3\n"
     ]
    }
   ],
   "source": [
    "# 36 (Tolgrilandi***)\n",
    "def FindSimRowQuant(M,ind):\n",
    "    \"\"\"Matritsaning dastlabki satriga oxwaw satrlar sonini qaytariw\"\"\"\n",
    "    A=[sorted(i) for i in M] # har bir hadi sorted(M[i]) qilingan a matrix yaratib olamiz.\n",
    "    temp=0\n",
    "    for i in range(len(A)):\n",
    "        if A[i]==A[ind] and i!=ind:\n",
    "            temp += 1\n",
    "    return temp\n",
    "M=[[5, 6, 0, -2, -4, 5],\n",
    "         [4, 2, 9, -4, 9, 2],\n",
    "         [5, -5, 9, -8, -7, -7],\n",
    "         [6, 5, 0, -4, -2, 5],\n",
    "         [-5, 9, 9, 4, 5, -5],\n",
    "         [5, -5, -5, -4, -6, -8],\n",
    "         [5, 6, 0, -2, -4, 5],\n",
    "         [2, -1, 0, 5, -7, -1],\n",
    "         [5, 6, 5, -2, -4, 0]]\n",
    "PrintMatrix(M)\n",
    "print()\n",
    "print(FindSimRowQuant(M,0))"
   ]
  },
  {
   "cell_type": "code",
   "execution_count": 6,
   "id": "e5f6e140-4d80-462f-ba53-93175b32b36b",
   "metadata": {
    "tags": []
   },
   "outputs": [
    {
     "name": "stdout",
     "output_type": "stream",
     "text": [
      " 5  6  0 -2 -4  5 \n",
      " 4  2  9 -4  9  2 \n",
      " 5 -5  9 -8 -7 -7 \n",
      " 6  5  0 -4 -2  5 \n",
      "-5  9  9  4  5 -5 \n",
      " 5 -5 -5 -4 -6 -8 \n",
      " 5  6  0 -2 -4  5 \n",
      " 2 -1  0  5 -7 -1 \n",
      " 5  6  5 -2 -4  0 \n",
      "\n",
      "3\n"
     ]
    }
   ],
   "source": [
    "# 36 (Tolgrilandi***(2-usul))\n",
    "def FindSimRowQuant(M,indRow):\n",
    "    \"\"\"Matritsaning dastlabki satriga oxwaw satrlar sonini qaytariw\"\"\"\n",
    "    A=[sorted(i) for i in M] # har bir hadi sorted(M[i]) qilingan a matrix yaratib olamiz.\n",
    "    return A.count(A[indRow])-1 # count() orqali iwlaw\n",
    "M=[[5, 6, 0, -2, -4, 5],\n",
    "         [4, 2, 9, -4, 9, 2],\n",
    "         [5, -5, 9, -8, -7, -7],\n",
    "         [6, 5, 0, -4, -2, 5],\n",
    "         [-5, 9, 9, 4, 5, -5],\n",
    "         [5, -5, -5, -4, -6, -8],\n",
    "         [5, 6, 0, -2, -4, 5],\n",
    "         [2, -1, 0, 5, -7, -1],\n",
    "         [5, 6, 5, -2, -4, 0]]\n",
    "PrintMatrix(M)\n",
    "print()\n",
    "print(FindSimRowQuant(M,0))"
   ]
  },
  {
   "cell_type": "code",
   "execution_count": 29,
   "id": "d4a532e6-979a-4079-9b12-6973867fa636",
   "metadata": {
    "tags": []
   },
   "outputs": [
    {
     "name": "stdout",
     "output_type": "stream",
     "text": [
      " 3  6  5 -2  5  5 \n",
      " 2  2  4 -4  4  4 \n",
      "-7 -5  5 -5  5  5 \n",
      " 5  6  5 -2  5  5 \n",
      "-5  9 -5  4 -5 -5 \n",
      " 3  6  5 -2  5  5 \n",
      "2\n"
     ]
    }
   ],
   "source": [
    "# 37 (Togrilandi***)\n",
    "def FindSimColQuant(M):\n",
    "    \"\"\"Matritsaning songi ustuniga oxwaw ustunlar sonini qaytariw\"\"\"\n",
    "    x=True\n",
    "    count=0\n",
    "    for column in range(-1,-len(M[0])-1,-1):\n",
    "        temp=[]\n",
    "        for row in range(len(M)):\n",
    "            temp.append(M[row][column])\n",
    "        temp=sorted(temp)\n",
    "        if x:\n",
    "            columnZero=temp\n",
    "            x=False\n",
    "            continue # 0-indeks ozini-ozi tekwirmasligi ucun qoyildi.\n",
    "        if columnZero==temp:\n",
    "            count += 1\n",
    "    return count            \n",
    "M= [[3, 6, 5, -2, 5, 5],\n",
    "    [2, 2, 4, -4, 4, 4],\n",
    "    [-7, -5, 5, -5, 5, 5],\n",
    "    [5, 6, 5, -2, 5, 5],\n",
    "    [-5, 9,-5, 4, -5, -5],\n",
    "    [3, 6, 5, -2, 5, 5]]\n",
    "PrintMatrix(M)\n",
    "print(FindSimColQuant(M))"
   ]
  },
  {
   "cell_type": "code",
   "execution_count": 8,
   "id": "b8a57c7e-ff4a-4206-bf2c-969c5773f957",
   "metadata": {
    "tags": []
   },
   "outputs": [
    {
     "name": "stdout",
     "output_type": "stream",
     "text": [
      " 3  6  5 -2  5  5 \n",
      " 2  2  4 -4  4  4 \n",
      "-7 -5  5 -5  5  5 \n",
      " 5  6  5 -2  5  5 \n",
      "-5  9 -5  4 -5 -5 \n",
      " 3  6  5 -2  5  5 \n",
      "2\n"
     ]
    }
   ],
   "source": [
    "# 37 (Togrilandi***(2-usul))\n",
    "def FindSimColQuant(M,indCol):\n",
    "    \"\"\"Matritsaning songi ustuniga oxwaw ustunlar sonini qaytariw\"\"\"\n",
    "    A=[]\n",
    "    for column in range(len(M[0])):\n",
    "        temp=[]\n",
    "        for row in range(len(M)):\n",
    "            temp.append(M[row][column])\n",
    "        temp=sorted(temp)\n",
    "        A.append(temp)\n",
    "    return A.count(A[indCol])-1     \n",
    "M= [[3, 6, 5, -2, 5, 5],\n",
    "    [2, 2, 4, -4, 4, 4],\n",
    "    [-7, -5, 5, -5, 5, 5],\n",
    "    [5, 6, 5, -2, 5, 5],\n",
    "    [-5, 9,-5, 4, -5, -5],\n",
    "    [3, 6, 5, -2, 5, 5]]\n",
    "PrintMatrix(M)\n",
    "print(FindSimColQuant(M,-1))"
   ]
  },
  {
   "cell_type": "code",
   "execution_count": 45,
   "id": "73bd6b84-9094-44c9-977b-a659a798255c",
   "metadata": {
    "tags": []
   },
   "outputs": [
    {
     "name": "stdout",
     "output_type": "stream",
     "text": [
      " 5  6  0 -2 -4  3 \n",
      " 4  2  9 -4  9  2 \n",
      " 5 -5  9 -8 -7 -7 \n",
      " 5  6  0 -2 -4  3 \n",
      "-5  9  9  4  5 -5 \n",
      " 5 -5 -5 -4 -6 -8 \n",
      " 5  6  0 -2 -4  3 \n",
      " 2 -1  0  5 -7 -1 \n",
      " 5  6  0 -2 -8  3 \n",
      "\n",
      "6\n"
     ]
    }
   ],
   "source": [
    "# 38 (togrilando***)\n",
    "\"\"\"Matritsaning oxwaw bolmagan satrlar sonini qaytariw\"\"\"\n",
    "M=[[5, 6, 0, -2, -4, 3],\n",
    "     [4, 2, 9, -4, 9, 2],\n",
    "     [5, -5, 9, -8, -7, -7],\n",
    "     [5, 6, 0, -2, -4, 3],\n",
    "     [-5, 9, 9, 4, 5, -5],\n",
    "     [5, -5, -5, -4, -6, -8],\n",
    "     [5, 6, 0, -2, -4, 3],\n",
    "     [2, -1, 0, 5, -7, -1],\n",
    "     [5, 6, 0, -2, -8, 3]]\n",
    "PrintMatrix(M)\n",
    "print()\n",
    "count=0\n",
    "for i in range(len(M)):\n",
    "    if FindSimRowQuant(M,i)==0:\n",
    "        count += 1\n",
    "print(count)"
   ]
  },
  {
   "cell_type": "code",
   "execution_count": 8,
   "id": "d280142f-49dc-40ad-b543-2574b1bf5099",
   "metadata": {
    "tags": []
   },
   "outputs": [
    {
     "name": "stdout",
     "output_type": "stream",
     "text": [
      " 5  6  5 -2  5  3 \n",
      " 4  2  4 -4  4  2 \n",
      " 5 -5  5 -5  5 -7 \n",
      " 5  6  5 -2  5  3 \n",
      "-5  9 -5  4 -5 -5 \n",
      " 5  6  5 -2  5  3 \n",
      "\n",
      "3\n"
     ]
    }
   ],
   "source": [
    "# 39 (togrilandi***))\n",
    "\"\"\"Matritsaning oxwaw bolmagan ustunlar sonini qaytariw\"\"\"\n",
    "# M=CreatRandomMatrix2(10,10)\n",
    "M= [[5, 6, 5, -2, 5, 3],\n",
    "    [4, 2, 4, -4, 4, 2],\n",
    "    [5, -5, 5, -5, 5, -7],\n",
    "    [5, 6, 5, -2, 5, 3],\n",
    "    [-5, 9,-5, 4, -5, -5],\n",
    "    [5, 6, 5, -2, 5, 3]]\n",
    "PrintMatrix(M)\n",
    "print()\n",
    "count=0\n",
    "for i in range(len(M)):\n",
    "    if FindSimColQuant(M,i)==0:\n",
    "        count += 1\n",
    "print(count)"
   ]
  },
  {
   "cell_type": "code",
   "execution_count": 18,
   "id": "1c26ea77-a04c-40e9-b9b3-375a29018f9c",
   "metadata": {
    "tags": []
   },
   "outputs": [
    {
     "name": "stdout",
     "output_type": "stream",
     "text": [
      " 1  2  9  6  1  2  6  7  8  1 \n",
      " 2  9  3  1  4  2  5  8  8  7 \n",
      " 9  5  4  8  4  7  1  1  5  9 \n",
      " 4  2  1  6  2  5  9  3  4  7 \n",
      " 2  6  3  9  7  9  9  5  9  6 \n",
      " 2  6  1  1  9  8  7  1  6  4 \n",
      " 3  4  2  4  8  9  7  4  8  9 \n",
      " 5  9  1  6  9  9  8  5  6  2 \n",
      " 8  3  5  5  5  8  3  5  6  4 \n",
      " 2  1  2  5  8  9  4  3  2  8 \n",
      "\n",
      "8\n"
     ]
    }
   ],
   "source": [
    "# 40 (togrilandi***)\n",
    "\"\"\"Matritsaning bir hil elementlar soni eng kop bolgan oxirgi satrni qaytariw\"\"\"\n",
    "M=CreatRandomMatrix(10,10)\n",
    "PrintMatrix(M)\n",
    "print()\n",
    "xrow=-1\n",
    "A=[]\n",
    "for row in range(len(M)):\n",
    "    temp=[]\n",
    "    for column in range(len(M[0])):\n",
    "        x=M[row][column]\n",
    "        temp.append(M[row].count(x))\n",
    "    A.append(max(temp))\n",
    "    if max(A)==max(temp):\n",
    "        xrow=row\n",
    "print(xrow)"
   ]
  },
  {
   "cell_type": "code",
   "execution_count": 31,
   "id": "252bf45c-c73f-4fd6-83e2-ed95e74c3568",
   "metadata": {
    "tags": []
   },
   "outputs": [
    {
     "name": "stdout",
     "output_type": "stream",
     "text": [
      " 3  3  2  7  8  3  8 \n",
      " 2  5  6  2  1  7  7 \n",
      " 6  2  9  7  4  6  1 \n",
      " 4  6  6  3  8  9  5 \n",
      " 8  9  8  7  2  3  3 \n",
      " 1  9  8  2  9  6  7 \n",
      " 6  9  5  5  3  3  5 \n",
      "\n",
      "1\n"
     ]
    }
   ],
   "source": [
    "# 41 (togrilandi***)\n",
    "\"\"\"Matritsaning bir hil elementlar soni eng kop bolgan dastlabki ustunni qaytariw\"\"\"\n",
    "M=CreatRandomMatrix(7,7)\n",
    "PrintMatrix(M)\n",
    "print()\n",
    "xcol=0\n",
    "A=[] # har bir ustundagi bir hil sonlarning max() laridan irorat massiv\n",
    "for column in range(len(M[0])):\n",
    "    x=[] # ustun elementlaridan iborat massiv\n",
    "    y=[] # ustun elementlarining count() laridan iborat massiv\n",
    "    for row in range(len(M)):\n",
    "        x.append(M[row][column])\n",
    "    for i in x:\n",
    "        y.append(x.count(i))\n",
    "    A.append(max(y))\n",
    "    xcol=A.index(max(A))\n",
    "print(xcol)"
   ]
  },
  {
   "cell_type": "code",
   "execution_count": null,
   "id": "435ab1c4-bbb5-4cdc-92d3-d38d4f54cbac",
   "metadata": {},
   "outputs": [],
   "source": [
    "# 42 \n",
    "\"\"\"Matritsaning elementlari osiw tartbida kiritilgan satrlarning soni aniqlaw\"\"\"\n",
    "M=CreatRandomMatrix2(10,10)\n",
    "for i in M[::2]: # matritsaning juft hadlari osiw tartibida tariblandi(42-m ucun maxsus matrix).\n",
    "    i.sort()\n",
    "PrintMatrix(M)\n",
    "print()\n",
    "sortedRowQuant=0 # elementlari osiw tartibida kirtilgan hadlar soni\n",
    "for row in range(len(M)):\n",
    "    temp=M[row][0] \n",
    "    for column in range(1,len(M[0])):\n",
    "        if temp<=M[row][column]:\n",
    "            temp=M[row][column]\n",
    "        else:\n",
    "            break\n",
    "    else:\n",
    "        sortedRowQuant += 1 # qaconki break ikwlamasa uwbu else iwlaydi.\n",
    "print(sortedRowQuant)    "
   ]
  },
  {
   "cell_type": "code",
   "execution_count": null,
   "id": "431efaa1-5618-452d-86db-b778bee7b04d",
   "metadata": {
    "tags": []
   },
   "outputs": [],
   "source": [
    "def MatrixMNintoNM(M):\n",
    "    \"\"\"MxN matritsadan NxM matritsa xosil qiliw(faqat NxN matrix bolsa)\"\"\"\n",
    "    X=[[]for i in range(len(M))]\n",
    "    for column in range(len(M[0])):\n",
    "        for row in range(len(M)):\n",
    "            X[column].append(M[row][column])\n",
    "    return X\n",
    "# M=CreatRandomMatrix2(10,10)\n",
    "# MatrixMNintoNM(M)"
   ]
  },
  {
   "cell_type": "code",
   "execution_count": null,
   "id": "88e93a90-8d66-4b4c-adcb-776f242cdcdb",
   "metadata": {
    "tags": []
   },
   "outputs": [],
   "source": [
    "M=CreatRandomMatrix2(10,10)\n",
    "\"\"\"Saralangan ustunli matritsa oliw\"\"\"\n",
    "for i in M[::2]:\n",
    "    i.sort(reverse=True)\n",
    "MatrixMNintoNM(M)"
   ]
  },
  {
   "cell_type": "code",
   "execution_count": null,
   "id": "89d44a97-246e-4e94-b6d0-dbe8f95653a6",
   "metadata": {
    "tags": []
   },
   "outputs": [],
   "source": [
    "# 43 \n",
    "\"\"\"Matritsaning elementlari kamayiw tartbida kiritilgan ustunlarning soni aniqlaw\"\"\"\n",
    "M=CreatRandomMatrix2(8,8) # <<== ushbu funksiya parametrlarini faqat (NxN koriniwida ozgartiriw mumkin)\n",
    "for i in M[::2]: # bazi ustunlar elementlarini kamayiw tartibijoylawtiriw.\n",
    "    i.sort(reverse=True)\n",
    "M=MatrixMNintoNM(M)\n",
    "PrintMatrix(M)\n",
    "print()\n",
    "# kod wu erdan bowlandi.\n",
    "sortedColQuant=0  # elementlari osiw tartibida kirtilgan ustunlar soni\n",
    "for column in range(len(M[0])):\n",
    "    temp=M[0][column] \n",
    "    for row in range(1,len(M)):\n",
    "        if temp>=M[row][column]:\n",
    "            temp=M[row][column]\n",
    "        else:\n",
    "            break\n",
    "    else:\n",
    "        sortedColQuant += 1 # qaconki break ikwlamasa uwbu else iwlaydi.\n",
    "print(sortedColQuant)    "
   ]
  },
  {
   "cell_type": "code",
   "execution_count": null,
   "id": "2f7db8bc-3fd1-455e-b502-f7f40d16e1ce",
   "metadata": {
    "tags": []
   },
   "outputs": [],
   "source": [
    "# 44\n",
    "\"\"\"Matritsaning elemntlari saralanib kiritilgan satrlari orasidan eng kicik elementni aniqlaw\"\"\"\n",
    "M=[[-7, -1, 3, 4, 5, 6, 6, 9], [6, 2, -4, -4, 3, -5, -7, 4],\n",
    " [4, 4, 2, -1, -6, -6, -8, -9], [-8, -7, -6, -6, -1, 0, 1, 9],\n",
    " [7, 6, 5, 2, 1, -1, -1, -5], [3, 6, 1, -5, 3, -1, 4, -2],\n",
    " [-9, -8, -4, -1, 3, 3, 5, 7], [-6, -6, 0, 6, -4, -8, 8, -3]]\n",
    "PrintMatrix(M)\n",
    "print()\n",
    "A=[] # barca satrlarning min() laridan tawkil togan massiv\n",
    "for row in range(len(M)):\n",
    "    # satrni osiw tartibiga tekwiriw \n",
    "    temp=M[row][0] \n",
    "    for column in range(1,len(M[0])):\n",
    "        if temp<=M[row][column]:\n",
    "            temp=M[row][column]\n",
    "        else:\n",
    "            break\n",
    "    else:\n",
    "        A.append(min(M[row]))\n",
    "        continue \n",
    "    # satrni kamayiw tartibiga tekwiriw\n",
    "    temp=M[row][0] # agar break iwlasa kod ushbu erdan davom etadi.\n",
    "    for column in range(1,len(M[0])):\n",
    "        if temp>=M[row][column]:\n",
    "            temp=M[row][column]\n",
    "        else:\n",
    "            break\n",
    "    else:\n",
    "        A.append(min(M[row]))\n",
    "if A:\n",
    "    print(A)\n",
    "    print(min(A)) \n",
    "else:\n",
    "    print(0)"
   ]
  },
  {
   "cell_type": "code",
   "execution_count": null,
   "id": "d1c475fb-69e8-40a9-881b-2f2e4ef69df8",
   "metadata": {
    "tags": []
   },
   "outputs": [],
   "source": [
    "# 45\n",
    "\"\"\"Matritsaning elemntlari saralanib kiritilgan ustunlari orasidan eng katta elementni aniqlaw\"\"\"\n",
    "M=[[-8, -3, 6, -7, 0, 6, -8, -3], [-6, 3, 4, -7, 0, -8, -5, 0],\n",
    " [-5, -7, 4, -6, -2, -8, 1, 4], [-1, -1, 0, -5, -2, -1, 4, 3],\n",
    " [2, -6, -3, -4, -5, -6, 4, 0], [4, 3, -3, -2, -5, -6, 4, 1],\n",
    " [8, 1, -8, 5, -8, 4, 6, 3], [9, 4, -9, 6, -9, 2, 7, 7]]\n",
    "PrintMatrix(M)\n",
    "print()\n",
    "A=[] # barca satrlarning min() laridan tawkil togan massiv\n",
    "for column in range(len(M[0])):\n",
    "    # ustunni osiw tartibiga tekwiriw \n",
    "    temp=M[0][column] \n",
    "    x=[M[0][column]] # ustun elementlaridan iborat vaqtincalik yaratilgan massiv\n",
    "    for row in range(1,len(M)):\n",
    "        if temp<=M[row][column]:\n",
    "            temp=M[row][column]\n",
    "            x.append(temp)\n",
    "        else:\n",
    "            break\n",
    "    else:\n",
    "        A.append(max(x))\n",
    "        continue \n",
    "    # ustunni kamayiw tartibiga tekwiriw\n",
    "    temp=M[0][column] \n",
    "    x=[M[0][column]]\n",
    "    for row in range(1,len(M)):\n",
    "        if temp>=M[row][column]:\n",
    "            temp=M[row][column]\n",
    "            x.append(temp)\n",
    "        else:\n",
    "            break\n",
    "    else:\n",
    "        A.append(max(x))\n",
    "if A:\n",
    "    print(A)\n",
    "    print(max(A)) \n",
    "else:\n",
    "    print(0)"
   ]
  },
  {
   "cell_type": "code",
   "execution_count": null,
   "id": "89a1c615-d840-45a5-8f26-1ba0aac67045",
   "metadata": {
    "tags": []
   },
   "outputs": [],
   "source": [
    "# 46\n",
    "\"\"\"Matritsaning wunday elementni topiw kki, bu element ozi turgan satrni \"max\"i va ozi turgan usktunni \"min\"i bolsin\"\"\"\n",
    "M=[[2, 9, 3, 9, 3, 5, 4],\n",
    "   [3, 8, 8, 6, 7, 6, 9],\n",
    "   [6, 7, 3, 1, 5, 6, 4],\n",
    "   [8, 9, 1, 6, 7, 1, 5],\n",
    "   [6, 8, 2, 2, 6, 6, 6],\n",
    "   [1, 8, 5, 8, 1, 8, 2],\n",
    "   [6, 9, 6, 6, 7, 9, 4],\n",
    "   [7, 8, 6, 3, 1, 2, 9]]\n",
    "PrintMatrix(M)\n",
    "print()\n",
    "A=[] \n",
    "for column in range(len(M[0])):\n",
    "    temp=[]\n",
    "    indRow=0\n",
    "    for row in range(len(M)):\n",
    "        temp.append(M[row][column])\n",
    "        if min(temp)==M[row][column]:\n",
    "            indRow=row\n",
    "    if min(temp)==max(M[indRow]):\n",
    "        A.append(M[indRow][column])\n",
    "if A:\n",
    "    print(A)\n",
    "else:\n",
    "    print(0)"
   ]
  }
 ],
 "metadata": {
  "kernelspec": {
   "display_name": "Python 3 (ipykernel)",
   "language": "python",
   "name": "python3"
  },
  "language_info": {
   "codemirror_mode": {
    "name": "ipython",
    "version": 3
   },
   "file_extension": ".py",
   "mimetype": "text/x-python",
   "name": "python",
   "nbconvert_exporter": "python",
   "pygments_lexer": "ipython3",
   "version": "3.11.1"
  }
 },
 "nbformat": 4,
 "nbformat_minor": 5
}
