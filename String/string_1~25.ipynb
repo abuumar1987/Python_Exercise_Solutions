{
 "cells": [
  {
   "cell_type": "code",
   "execution_count": 1,
   "id": "ecc9b002-e909-4e22-b56a-1d647784b66d",
   "metadata": {
    "tags": []
   },
   "outputs": [
    {
     "name": "stdout",
     "output_type": "stream",
     "text": [
      "3\n"
     ]
    }
   ],
   "source": [
    "\"\"\"Matnda barca Katta harflarni sonini aniqlaw\"\"\"\n",
    "text=\"Yangi konstitutsiya, Uzcard-Humo integratsiyasi va zulm stereotipi - hafta dayjesti\"\n",
    "count=0\n",
    "for i in text:\n",
    "    if 65<=ord(i)<=90:\n",
    "       count += 1\n",
    "print(count)"
   ]
  },
  {
   "cell_type": "code",
   "execution_count": 3,
   "id": "3b18472d-69bd-4a3e-946e-a680ac1a414d",
   "metadata": {
    "tags": []
   },
   "outputs": [
    {
     "name": "stdin",
     "output_type": "stream",
     "text": [
      "ASCII da mavjud ixtiyoriy belgi kiriting:  $\n"
     ]
    },
    {
     "name": "stdout",
     "output_type": "stream",
     "text": [
      "36\n"
     ]
    }
   ],
   "source": [
    "# 1\n",
    "def printCharASCIIOrder(char):\n",
    "    \"\"\"Kiritilgan belgini ASCII dagi kod nomerini aniqlaw\"\"\"\n",
    "    return ord(char)\n",
    "char=input(\"ASCII da mavjud ixtiyoriy belgi kiriting: \")\n",
    "print(printCharASCIIOrder(char))"
   ]
  },
  {
   "cell_type": "code",
   "execution_count": 7,
   "id": "a1e0304a-5fe8-43dd-a0bd-2e5fcf146603",
   "metadata": {
    "tags": []
   },
   "outputs": [
    {
     "name": "stdin",
     "output_type": "stream",
     "text": [
      "Belgining ASCII dagi kod raqamini kiriting:  177\n"
     ]
    },
    {
     "name": "stdout",
     "output_type": "stream",
     "text": [
      "±\n"
     ]
    }
   ],
   "source": [
    "# 2\n",
    "def printCharASCII(char_order):\n",
    "    \"\"\"Belgining ASCII dagi kodini kiritiw orqali belgini ciqariw\"\"\"\n",
    "    return chr(char_order)\n",
    "char_order=int(input(\"Belgining ASCII dagi kod raqamini kiriting: \"))\n",
    "print(printCharASCII(char_order))"
   ]
  },
  {
   "cell_type": "code",
   "execution_count": 8,
   "id": "b559d523-2af4-402e-b7ee-7fed49d649d1",
   "metadata": {
    "tags": []
   },
   "outputs": [
    {
     "name": "stdin",
     "output_type": "stream",
     "text": [
      "ASCII da mavjud ixtiyoriy belgi kiriting:  #\n"
     ]
    },
    {
     "name": "stdout",
     "output_type": "stream",
     "text": [
      "\"\n",
      "$\n"
     ]
    }
   ],
   "source": [
    "# 3\n",
    "\"\"\"\"ASCII da kiritilgan belgidan oldan va keyin turgan belgini ciqariw\"\"\"\n",
    "char=input(\"ASCII da mavjud ixtiyoriy belgi kiriting: \")\n",
    "char_order=printCharASCIIOrder(char)\n",
    "print(printCharASCII(char_order-1))\n",
    "print(printCharASCII(char_order+1))\n"
   ]
  },
  {
   "cell_type": "code",
   "execution_count": 12,
   "id": "04ae9ac7-e8e6-41c4-bd95-f502141edaa6",
   "metadata": {
    "tags": []
   },
   "outputs": [
    {
     "name": "stdin",
     "output_type": "stream",
     "text": [
      "ASCII dagi dastlabki katta lotin harflar soni:  20\n"
     ]
    },
    {
     "name": "stdout",
     "output_type": "stream",
     "text": [
      "A B C D E F G H I J K L M N O P Q R S T "
     ]
    }
   ],
   "source": [
    "# 4\n",
    "\"\"\" Lotin alfabetidagi dastlabki n-ta katta harfniciqariw\"\"\"\n",
    "n=int(input(\"ASCII dagi dastlabki katta lotin harflar soni: \"))\n",
    "for char_order in range(65,65+n): # 65-ASCII dagi \"A\" ning kod tartib\n",
    "    print(printCharASCII(char_order),end=(' '))"
   ]
  },
  {
   "cell_type": "code",
   "execution_count": 13,
   "id": "f97e1a0b-1c65-4a18-b50c-c4a2ef79991e",
   "metadata": {
    "tags": []
   },
   "outputs": [
    {
     "name": "stdin",
     "output_type": "stream",
     "text": [
      "ASCII dagi kicik lotin harflar soni:  20\n"
     ]
    },
    {
     "name": "stdout",
     "output_type": "stream",
     "text": [
      "z y x w v u t s r q p o n m l k j i h g "
     ]
    }
   ],
   "source": [
    "# 5\n",
    "\"\"\" ASCII dagi nta kicik lotin harflarini tekari tartibda ciqariw (z==>a) \"\"\"\n",
    "n=int(input(\"ASCII dagi kicik lotin harflar soni: \"))\n",
    "for char_order in range(122,122-n,-1): # 122-ASCII dagi \"z\" ning kod tartib\n",
    "    print(printCharASCII(char_order),end=(' '))"
   ]
  },
  {
   "cell_type": "code",
   "execution_count": 17,
   "id": "5e975d5e-6379-4e8e-900d-7dd62a50d9ae",
   "metadata": {
    "tags": []
   },
   "outputs": [
    {
     "name": "stdin",
     "output_type": "stream",
     "text": [
      "Ixtiyoriy belgi kiriting:  %\n"
     ]
    },
    {
     "name": "stdout",
     "output_type": "stream",
     "text": [
      "0\n"
     ]
    }
   ],
   "source": [
    "# 6\n",
    "def defineChar(char):\n",
    "    \"\"\" Kiritilgan belgini aniqlaw\"\"\"\n",
    "    if char.isnumeric():\n",
    "        return \"digit\"\n",
    "    elif char.isalpha():\n",
    "        return \"lotin\"\n",
    "    else:\n",
    "        return 0\n",
    "char=input(\"Ixtiyoriy belgi kiriting: \")\n",
    "print(defineChar(char))"
   ]
  },
  {
   "cell_type": "code",
   "execution_count": 18,
   "id": "32deb9e3-7a71-437f-8fd0-134e1a73ff5a",
   "metadata": {
    "tags": []
   },
   "outputs": [
    {
     "name": "stdin",
     "output_type": "stream",
     "text": [
      "Ixtiyoriy satr(len(satr)>2) kiriting:  salom\n"
     ]
    },
    {
     "name": "stdout",
     "output_type": "stream",
     "text": [
      "115\n",
      "109\n"
     ]
    }
   ],
   "source": [
    "# 7\n",
    "\"\"\" Kiritilgan satrning dastlabki va oxirgi belgisini kod nomerini ciqariw\"\"\"\n",
    "text=input('Ixtiyoriy satr(len(satr)>2) kiriting: ')\n",
    "print(printCharASCIIOrder(text[0]))\n",
    "print(printCharASCIIOrder(text[-1]))\n",
    "    "
   ]
  },
  {
   "cell_type": "code",
   "execution_count": 2,
   "id": "111f8678-74ff-49a1-8bfb-1e527b73f0b2",
   "metadata": {
    "tags": []
   },
   "outputs": [
    {
     "name": "stdin",
     "output_type": "stream",
     "text": [
      "Ixtiyoriy natural son kiriting:  10\n",
      "Ixtiyoriy belgi kiriting:  @\n"
     ]
    },
    {
     "name": "stdout",
     "output_type": "stream",
     "text": [
      "@@@@@@@@@@\n"
     ]
    }
   ],
   "source": [
    "# 8 (Optimized)\n",
    "\"\"\"Ixtiyoriy kiritilgan belgini N marta koriniwida cop etiw (N=5, belgi=\"A\", output: AAAAA)\"\"\"\n",
    "N=int(input('Ixtiyoriy natural son kiriting: '))\n",
    "char=input(\"Ixtiyoriy belgi kiriting: \")\n",
    "new_string=char*N\n",
    "print(new_string)"
   ]
  },
  {
   "cell_type": "code",
   "execution_count": 22,
   "id": "ed7b74d6-aeb3-4e4e-baa7-325ee8b69eeb",
   "metadata": {
    "tags": []
   },
   "outputs": [
    {
     "name": "stdin",
     "output_type": "stream",
     "text": [
      "Ixtiyoriy satr kiriting:  hello\n",
      "Ixtiyoriy satr kiriting:  world\n"
     ]
    },
    {
     "name": "stdout",
     "output_type": "stream",
     "text": [
      "helloworld\n"
     ]
    }
   ],
   "source": [
    "# 9\n",
    "''' Berilgan 2 satrni ketma-ketligidan iborat yangi satr xosil qiliw'''\n",
    "text1=input('Ixtiyoriy satr kiriting: ')\n",
    "text2=input('Ixtiyoriy satr kiriting: ')\n",
    "print(text1+text2)"
   ]
  },
  {
   "cell_type": "code",
   "execution_count": 3,
   "id": "fa024732-18ea-4496-a744-f088c6e944bc",
   "metadata": {
    "tags": []
   },
   "outputs": [
    {
     "name": "stdin",
     "output_type": "stream",
     "text": [
      "Ixtiyoriy satr kiriting:  hello\n"
     ]
    },
    {
     "name": "stdout",
     "output_type": "stream",
     "text": [
      "olleh\n"
     ]
    }
   ],
   "source": [
    "# 10 (Optimized)\n",
    "''' Kiritlgan satrni teskari tartibda ciqariw'''\n",
    "text=input('Ixtiyoriy satr kiriting: ')\n",
    "print(text[-1::-1])"
   ]
  },
  {
   "cell_type": "code",
   "execution_count": 52,
   "id": "a531e0bd-2445-4cf5-9c74-748b8037f3f1",
   "metadata": {},
   "outputs": [
    {
     "name": "stdin",
     "output_type": "stream",
     "text": [
      "Belgilari orasida probel bolmagan text kiriting:  salom\n",
      "Belgi kiriting:   \n",
      "Belgini sonini kiriting:  1\n"
     ]
    },
    {
     "name": "stdout",
     "output_type": "stream",
     "text": [
      "s a l o m\n"
     ]
    }
   ],
   "source": [
    "# 11\n",
    "''' Berilgan satrning belgilari orasida 1 probel qoyilgan satr hosil qilinsin'''\n",
    "def insertCharString(txt,char,quant):\n",
    "    x=''\n",
    "    for i in range(len(txt)-1):\n",
    "        x += txt[i]+char*quant\n",
    "    x += txt[-1]\n",
    "    return x\n",
    "txt=input('Belgilari orasida probel bolmagan text kiriting: ')\n",
    "char=input('Belgi kiriting: ')\n",
    "quant=int(input('Belgini sonini kiriting: '))\n",
    "print(insertCharString(txt,char,quant))"
   ]
  },
  {
   "cell_type": "code",
   "execution_count": 53,
   "id": "2f8695af-6bb4-49a3-aa59-dadbba93cf7a",
   "metadata": {
    "tags": []
   },
   "outputs": [
    {
     "name": "stdin",
     "output_type": "stream",
     "text": [
      "Belgilari orasida probel bolmagan text kiriting:  salom\n",
      "Belgini sonini kiriting:  5\n"
     ]
    },
    {
     "name": "stdout",
     "output_type": "stream",
     "text": [
      "s*****a*****l*****o*****m\n"
     ]
    }
   ],
   "source": [
    "# 12\n",
    "''' Satr belgilari orasiga N ta belgi qoyilgan satr xosil qiliw'''\n",
    "txt=input('Belgilari orasida probel bolmagan text kiriting: ')\n",
    "char='*'\n",
    "N=int(input('Belgini sonini kiriting: '))\n",
    "print(insertCharString(txt,char,N))"
   ]
  },
  {
   "cell_type": "markdown",
   "id": "4ea8d48c-7171-4785-a590-453fdc9eaeaf",
   "metadata": {},
   "source": [
    "**Belgili tahlil va satrlarni qayta iwlaw**"
   ]
  },
  {
   "cell_type": "code",
   "execution_count": 4,
   "id": "bae50b5e-198a-451e-b119-a81c17bdc8a3",
   "metadata": {
    "tags": []
   },
   "outputs": [
    {
     "name": "stdin",
     "output_type": "stream",
     "text": [
      "Satr kiriting:  fgjhadsgfjaf78438578348ksnkfk\n"
     ]
    },
    {
     "name": "stdout",
     "output_type": "stream",
     "text": [
      "11\n"
     ]
    }
   ],
   "source": [
    "# 13\n",
    "''' Satrdagi raqamlar sonini aniqlaw'''\n",
    "txt=input('Satr kiriting: ')\n",
    "count=0\n",
    "# for i in txt:\n",
    "#     if i.isdigit():\n",
    "#        count += 1\n",
    "for i in txt:\n",
    "    if i.isnumeric():\n",
    "       count += 1\n",
    "print(count)    "
   ]
  },
  {
   "cell_type": "code",
   "execution_count": 61,
   "id": "4824ff91-6874-474e-890c-920e0202db3d",
   "metadata": {
    "tags": []
   },
   "outputs": [
    {
     "name": "stdin",
     "output_type": "stream",
     "text": [
      "Satr kiriting:  kgfsdgfjRjjjhTtyugJJBIYiKBKvhchdsbdkajkT\n"
     ]
    },
    {
     "name": "stdout",
     "output_type": "stream",
     "text": [
      "11\n"
     ]
    }
   ],
   "source": [
    "# 14\n",
    "''' Satrdagi katta lotin harflar sonini aniqlaw'''\n",
    "txt=input('Satr kiriting: ')\n",
    "count=0\n",
    "for i in txt:\n",
    "    if ord('A')<=ord(i)<=ord('Z'):\n",
    "        count += 1\n",
    "print(count)"
   ]
  },
  {
   "cell_type": "code",
   "execution_count": 65,
   "id": "fdbdcc80-035b-47ed-b4ca-a9c786d2f173",
   "metadata": {
    "tags": []
   },
   "outputs": [
    {
     "name": "stdin",
     "output_type": "stream",
     "text": [
      "Satr kiriting:  ksjdhfkhKАРФЛАЛФарлфрFIAWHFKHFSKSjsjkkhvjsvjрсқапфло\n"
     ]
    },
    {
     "name": "stdout",
     "output_type": "stream",
     "text": [
      "31\n"
     ]
    }
   ],
   "source": [
    "# 15\n",
    "''' Satrdagi kicik lotin va kiril harflarning umumiy sonini aniqlaw'''\n",
    "txt=input('Satr kiriting: ')\n",
    "count=0\n",
    "for i in txt:\n",
    "    if ord('a')<=ord(i)<=ord('z') or ord('а')<=ord(i)<=ord('я') :\n",
    "        count += 1\n",
    "print(count)"
   ]
  },
  {
   "cell_type": "code",
   "execution_count": 81,
   "id": "df0f2f1d-ead3-43eb-951f-fdab01cda7ad",
   "metadata": {
    "tags": []
   },
   "outputs": [
    {
     "name": "stdin",
     "output_type": "stream",
     "text": [
      "Satr kiriting:  Assalomu Алайкум\n"
     ]
    },
    {
     "name": "stdout",
     "output_type": "stream",
     "text": [
      "assalomu Алайкум\n"
     ]
    }
   ],
   "source": [
    "# 16\n",
    "''' Satrdagi barca Katta lotin harflarni kicigiga almawtiriw'''\n",
    "txt=input('Satr kiriting: ')\n",
    "x=''\n",
    "for i in txt:\n",
    "    if ord('A')<=ord(i)<=ord('Z'):\n",
    "        x += i.lower()\n",
    "    else:\n",
    "        x += i\n",
    "print(x)"
   ]
  },
  {
   "cell_type": "code",
   "execution_count": 83,
   "id": "479d8cff-e864-42bc-b09d-3ee333325f25",
   "metadata": {
    "tags": []
   },
   "outputs": [
    {
     "name": "stdin",
     "output_type": "stream",
     "text": [
      "Satr kiriting:  Assalomu Алайкум\n"
     ]
    },
    {
     "name": "stdout",
     "output_type": "stream",
     "text": [
      "assalomu алайкум\n",
      "assalomu алайкум\n"
     ]
    }
   ],
   "source": [
    "# 17\n",
    "''' Satrdagi barca Katta harflarni kicigiga almawtiriw'''\n",
    "txt=input('Satr kiriting: ')\n",
    "x=txt.lower()\n",
    "y=txt.casefold()\n",
    "print(x)\n",
    "print(y)"
   ]
  },
  {
   "cell_type": "code",
   "execution_count": 36,
   "id": "19d00da8-79b2-47d8-88ad-6252b9d47f36",
   "metadata": {
    "tags": []
   },
   "outputs": [
    {
     "name": "stdin",
     "output_type": "stream",
     "text": [
      "Satr kiriting:  Assalomu Алайкум\n"
     ]
    },
    {
     "name": "stdout",
     "output_type": "stream",
     "text": [
      "aSSALOMU аЛАЙКУМ\n"
     ]
    }
   ],
   "source": [
    "# 18 \n",
    "''' Satrdagi barca Katta harflarni kicigiga kiciklarni esa kattasiga almawtiriw'''\n",
    "txt=input('Satr kiriting: ')\n",
    "x=''\n",
    "for i in txt:\n",
    "    x += i.swapcase()\n",
    "print(x)"
   ]
  },
  {
   "cell_type": "code",
   "execution_count": 6,
   "id": "0a1322ef-d65e-4aec-8d4d-9f9a1a83ed3b",
   "metadata": {},
   "outputs": [
    {
     "name": "stdin",
     "output_type": "stream",
     "text": [
      "Satr kiriting:  765137465712\n"
     ]
    },
    {
     "name": "stdout",
     "output_type": "stream",
     "text": [
      "1\n"
     ]
    }
   ],
   "source": [
    "# 19\n",
    "''' Agar satrda butun son ifodalangan bolsa 1, haqiqiy son ifodalangan bolsa 2, songa aylantirib bolmaydigan bolsa 0 ciqariw'''\n",
    "txt=input('Satr kiriting: ')\n",
    "if txt.isdigit():\n",
    "    print(1)\n",
    "elif txt.count('.')==1 and txt.replace('.','').isnumeric():\n",
    "    print(2)\n",
    "else:\n",
    "    print(0)"
   ]
  },
  {
   "cell_type": "code",
   "execution_count": 6,
   "id": "2dfd2d9e-a465-467e-b091-66afa48612ec",
   "metadata": {
    "tags": []
   },
   "outputs": [
    {
     "name": "stdin",
     "output_type": "stream",
     "text": [
      "Butun son kiriting:  723894729420\n"
     ]
    },
    {
     "name": "stdout",
     "output_type": "stream",
     "text": [
      "723894729420\n"
     ]
    }
   ],
   "source": [
    "# 20 (optimized)\n",
    "'''Butun sonni ifodalovci satr berilgan uning belgilrini capdan onga qarab ciqariw'''\n",
    "int_num=input('Butun son kiriting: ')\n",
    "print(int_num[:])"
   ]
  },
  {
   "cell_type": "code",
   "execution_count": 5,
   "id": "71ec500f-ef9a-4251-9299-14fd8d15f1ec",
   "metadata": {
    "tags": []
   },
   "outputs": [
    {
     "name": "stdin",
     "output_type": "stream",
     "text": [
      "Butun son kiriting:  86287467249\n"
     ]
    },
    {
     "name": "stdout",
     "output_type": "stream",
     "text": [
      "94276478268\n"
     ]
    }
   ],
   "source": [
    "# 21 (optimized)\n",
    "def printStrRL(int_num):\n",
    "    '''Butun sonni ifodalovci satr berilgan uning belgilarini ongdan capga qarab ciqariw'''\n",
    "    return int_num[-1::-1]\n",
    "int_num=input('Butun son kiriting: ')\n",
    "print(printStrRL(int_num))"
   ]
  },
  {
   "cell_type": "code",
   "execution_count": 14,
   "id": "c384327a-2439-499c-bef8-a37eb853e31d",
   "metadata": {
    "tags": []
   },
   "outputs": [
    {
     "name": "stdin",
     "output_type": "stream",
     "text": [
      "Butun son kiriting:  12345\n"
     ]
    },
    {
     "name": "stdout",
     "output_type": "stream",
     "text": [
      "15\n"
     ]
    }
   ],
   "source": [
    "# 22 optimized\n",
    "''' Butun sonni ifodalovci satr berilgan uning raqamlarni yigindisini ciqariw'''\n",
    "int_num=input('Butun son kiriting: ')\n",
    "temp = [int(i) for i in int_num]\n",
    "print(sum(temp))"
   ]
  },
  {
   "cell_type": "code",
   "execution_count": 4,
   "id": "3cc93694-e296-4298-958c-e2c3e9116066",
   "metadata": {},
   "outputs": [
    {
     "name": "stdin",
     "output_type": "stream",
     "text": [
      "Matematik ifodani kiriting (on +- son +- son):  -9+8+4\n"
     ]
    },
    {
     "name": "stdout",
     "output_type": "stream",
     "text": [
      "3\n"
     ]
    }
   ],
   "source": [
    "# 23 (bir xonali sonlar ucun qowiw / ayiriw)\n",
    "'''satr bolgan 'son +- son +- son' ning qiymatini qaytari'''\n",
    "txt = input('Matematik ifodani kiriting (son +- son +- son): ')\n",
    "temp = 0\n",
    "if txt[0] != '-':\n",
    "    temp += int(txt[0])\n",
    "for i in range(len(txt)):\n",
    "    if txt[i] == '-':\n",
    "        temp -= int(txt[i+1])\n",
    "    elif txt[i] == '+':\n",
    "        temp += int(txt[i+1])\n",
    "print(temp)"
   ]
  },
  {
   "cell_type": "code",
   "execution_count": 26,
   "id": "d16de21c-ac05-4929-9181-df6bbb6065e5",
   "metadata": {
    "tags": []
   },
   "outputs": [
    {
     "name": "stdin",
     "output_type": "stream",
     "text": [
      "Matematik ifodani kiriting (son +- son +- son):  40-15+10-40-15+10+40-15+10-40-15+10\n"
     ]
    },
    {
     "name": "stdout",
     "output_type": "stream",
     "text": [
      "-20\n"
     ]
    }
   ],
   "source": [
    "# 23 (kop xonali sonlar ucun qowiw / ayiriw) (optimized)\n",
    "'''satr bolgan 'son +- son +- son' ning qiymatini qaytari'''\n",
    "txt = input('Matematik ifodani kiriting (son +- son +- son): ')\n",
    "temp = txt.split('+')\n",
    "sumi = 0\n",
    "for i in temp:\n",
    "    x = []\n",
    "    if i.isnumeric():\n",
    "        sumi += int(i)\n",
    "    else:\n",
    "        x = i.split('-')\n",
    "        sumi += int(x[0])\n",
    "        for j in range(1,len(x)):\n",
    "            sumi -= int(x[j])\n",
    "print(sumi) "
   ]
  },
  {
   "cell_type": "code",
   "execution_count": 2,
   "id": "f686fd50-392c-4cab-9acd-8dea5f9ddc08",
   "metadata": {
    "tags": []
   },
   "outputs": [
    {
     "name": "stdin",
     "output_type": "stream",
     "text": [
      "Matematik ifodani kiriting (son */ son */ son):  100/25*4/20*12\n"
     ]
    },
    {
     "name": "stdout",
     "output_type": "stream",
     "text": [
      "9.6\n"
     ]
    }
   ],
   "source": [
    "# 23 (kop xonali sonlar ucun kopaytiriw / boliw)\n",
    "'''satr bolgan 'son */ son */ son' ning qiymatini qaytari'''\n",
    "txt = input('Matematik ifodani kiriting (son */ son */ son): ')\n",
    "temp = txt.split('*')\n",
    "sumi = 1\n",
    "for i in temp:\n",
    "    x = []\n",
    "    if i.isnumeric():\n",
    "        sumi *= int(i)\n",
    "    else:\n",
    "        x = i.split('/')\n",
    "        sumi *= int(x[0])\n",
    "        for j in range(1,len(x)):\n",
    "            sumi /= int(x[j])\n",
    "print(round(sumi,2))"
   ]
  },
  {
   "cell_type": "code",
   "execution_count": 25,
   "id": "672c44a1-a823-4632-87cd-649e3fd87399",
   "metadata": {
    "tags": []
   },
   "outputs": [
    {
     "name": "stdin",
     "output_type": "stream",
     "text": [
      "Butun sonni ikkilik sanoq sistemasida kiriting:  10101011100\n"
     ]
    },
    {
     "name": "stdout",
     "output_type": "stream",
     "text": [
      "1372\n"
     ]
    }
   ],
   "source": [
    "# 24\n",
    "def convertBinToDec(bin_num):\n",
    "    ''' Butun sonni ifodalovci ikkilik sanoq sitemasida son satr koriniwida berilgan  uning onlik sanoqda ciqariw'''\n",
    "    temp=printStrRL(bin_num) # satr koriniwidagi sonni ongdan capga qarab ciqaruvchi funk\n",
    "    dec_num=0 # onlikdagi son\n",
    "    for i in range(len(temp)):\n",
    "        dec_num += int(temp[i])*2**int(i)\n",
    "    return dec_num   \n",
    "bin_num=input('Butun sonni ikkilik sanoq sistemasida kiriting: ')\n",
    "print(convertBinToDec(bin_num))"
   ]
  },
  {
   "cell_type": "code",
   "execution_count": 35,
   "id": "130a2c18-6e74-453e-bf90-ca8404e01b85",
   "metadata": {
    "tags": []
   },
   "outputs": [
    {
     "name": "stdin",
     "output_type": "stream",
     "text": [
      "Butun sonni(onkilda) kiriting:  294\n"
     ]
    },
    {
     "name": "stdout",
     "output_type": "stream",
     "text": [
      "100100110\n"
     ]
    }
   ],
   "source": [
    "# 25\n",
    "def convertDecToBin(dec_num):\n",
    "    ''' Butun sonni ifodalovci onlik sanoq sitemasida son satr koriniwida berilgan  uning ikkilik sanoqda ciqariw'''\n",
    "    temp=int(dec_num)\n",
    "    bin_num=''\n",
    "    while temp:\n",
    "        bin_num += str(temp % 2)\n",
    "        temp //= 2\n",
    "    printStrRL(bin_num) # satr koriniwidagi sonni ongdan capga qarab ciqaruvchi funk\n",
    "    return printStrRL(bin_num)  \n",
    "dec_num=input('Butun sonni(onkilda) kiriting: ')\n",
    "print(convertDecToBin(dec_num))"
   ]
  },
  {
   "cell_type": "code",
   "execution_count": null,
   "id": "7d95d209-bfdb-43bf-9a75-7c0231c5f498",
   "metadata": {
    "tags": []
   },
   "outputs": [],
   "source": []
  }
 ],
 "metadata": {
  "kernelspec": {
   "display_name": "Python 3 (ipykernel)",
   "language": "python",
   "name": "python3"
  },
  "language_info": {
   "codemirror_mode": {
    "name": "ipython",
    "version": 3
   },
   "file_extension": ".py",
   "mimetype": "text/x-python",
   "name": "python",
   "nbconvert_exporter": "python",
   "pygments_lexer": "ipython3",
   "version": "3.11.1"
  }
 },
 "nbformat": 4,
 "nbformat_minor": 5
}
