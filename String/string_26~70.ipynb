{
 "cells": [
  {
   "cell_type": "code",
   "execution_count": 21,
   "id": "ea4dd2b7-3437-481e-8284-f184761e25fc",
   "metadata": {
    "tags": []
   },
   "outputs": [
    {
     "name": "stdin",
     "output_type": "stream",
     "text": [
      "Butun son kiring:  10\n",
      "Satr kiriting:  hello world\n"
     ]
    },
    {
     "name": "stdout",
     "output_type": "stream",
     "text": [
      "ello world\n"
     ]
    }
   ],
   "source": [
    "# 26\n",
    "''' Berilgan N natural son va satrdan foydalanib, uzunligi N bolgan satr xosil qiliw \n",
    "(bunda agar len<N: dastlabki belgilarni ociriw,agar len>N: yangi satr bowiga nuqtalar '.' qowiw)'''\n",
    "N=int(input('Butun son kiring: '))\n",
    "txt=input('Satr kiriting: ')\n",
    "new_txt = ''\n",
    "x = len(txt) - N\n",
    "if x>0:\n",
    "    new_txt = txt[x:]\n",
    "if x<0:\n",
    "    new_txt = '.'*abs(x) + txt\n",
    "print(new_txt)    "
   ]
  },
  {
   "cell_type": "code",
   "execution_count": 20,
   "id": "764e8ab7-aa22-42f9-a288-48ef1466ceeb",
   "metadata": {
    "tags": []
   },
   "outputs": [
    {
     "name": "stdin",
     "output_type": "stream",
     "text": [
      "1-satrni kiriting:  NKJDNKJNKKS\n",
      "2-satrni kiriting:  jhvsbbv\n"
     ]
    },
    {
     "name": "stdout",
     "output_type": "stream",
     "text": [
      "NKJDNKJbbv\n"
     ]
    }
   ],
   "source": [
    "# 27\n",
    "import random\n",
    "''' Berilgan N1,N2 natural sonlar va s1, s2 satrlardan foydalanib, yangi satr xosil qiliw'''\n",
    "s1=input('1-satrni kiriting: ')\n",
    "N1=random.randint(1,len(S1))\n",
    "s2=input('2-satrni kiriting: ')\n",
    "N2=random.randint(2,len(S2))\n",
    "new_str = s1[:N1+1] + s2[len(s2)-N2:]\n",
    "print(new_str)"
   ]
  },
  {
   "cell_type": "code",
   "execution_count": 2,
   "id": "d1068581-be27-4e8b-851b-fc1132836c4f",
   "metadata": {
    "tags": []
   },
   "outputs": [
    {
     "name": "stdin",
     "output_type": "stream",
     "text": [
      "Satrni kiriting:  Canad\n"
     ]
    },
    {
     "name": "stdout",
     "output_type": "stream",
     "text": [
      "CCanad\n"
     ]
    }
   ],
   "source": [
    "# 28 optimized\n",
    "''' C belgisi va S satr berilgan, S satrda ucragan har bir C belgini 2 marta ortiriw '''\n",
    "char = 'C' \n",
    "S=input('Satrni kiriting: ')\n",
    "temp=S.replace('C','CC')\n",
    "print(temp)"
   ]
  },
  {
   "cell_type": "code",
   "execution_count": 5,
   "id": "f66f46a4-00fd-41f9-a616-470738e7ea04",
   "metadata": {
    "tags": []
   },
   "outputs": [
    {
     "name": "stdin",
     "output_type": "stream",
     "text": [
      "1-satrni kiriting:  Canada\n",
      "2-satrni kiriting:  Salom\n"
     ]
    },
    {
     "name": "stdout",
     "output_type": "stream",
     "text": [
      "SalomCanada\n"
     ]
    }
   ],
   "source": [
    "# 29 optimized\n",
    "''' C belgisi va S1,S2 satrlar berilgan, S1 satrda ucragan har bir C belgisidan oldin S2 satrni qowiw '''\n",
    "char = 'C' \n",
    "S1=input('1-satrni kiriting: ')\n",
    "S2=input('2-satrni kiriting: ')\n",
    "temp=S1.replace('C',S2+'C')\n",
    "print(temp)"
   ]
  },
  {
   "cell_type": "code",
   "execution_count": null,
   "id": "687b696a-d701-4628-a9df-e79c5e204922",
   "metadata": {},
   "outputs": [],
   "source": []
  },
  {
   "cell_type": "code",
   "execution_count": 6,
   "id": "638c70f3-45a9-4ff1-9db2-781795fa245e",
   "metadata": {
    "tags": []
   },
   "outputs": [
    {
     "name": "stdin",
     "output_type": "stream",
     "text": [
      "1-satrni kiriting:  Canada\n",
      "2-satrni kiriting:  salom\n"
     ]
    },
    {
     "name": "stdout",
     "output_type": "stream",
     "text": [
      "Csalomanada\n"
     ]
    }
   ],
   "source": [
    "# 30 optimized\n",
    "''' C belgisi va S1,S2 satrlar berilgan, S1 satrda ucragan har bir C belgisidan keyin S2 satrni qowiw '''\n",
    "char = 'C' \n",
    "S1=input('1-satrni kiriting: ')\n",
    "S2=input('2-satrni kiriting: ')\n",
    "temp=S1.replace('C','C'+S2)\n",
    "print(temp)"
   ]
  },
  {
   "cell_type": "code",
   "execution_count": 6,
   "id": "47606649-2f8f-4419-8ab8-e217ec4f3a62",
   "metadata": {},
   "outputs": [
    {
     "name": "stdin",
     "output_type": "stream",
     "text": [
      "1-satrni kiriting:  assalom\n",
      "2-satrni kiriting:  salom\n"
     ]
    },
    {
     "name": "stdout",
     "output_type": "stream",
     "text": [
      "True\n"
     ]
    }
   ],
   "source": [
    "# 31\n",
    "def findString (S1,S2):\n",
    "    ''' S2 satrni S1 satrda da mavjudligini tekwiriw'''\n",
    "    if S1.find(S2)>=0:\n",
    "        return True\n",
    "    else:\n",
    "        return False\n",
    "S1=input('1-satrni kiriting: ')\n",
    "S2=input('2-satrni kiriting: ')\n",
    "print(findString(S1,S2))"
   ]
  },
  {
   "cell_type": "code",
   "execution_count": 9,
   "id": "b702c666-810d-4af7-9884-54fabf0e8dd3",
   "metadata": {
    "tags": []
   },
   "outputs": [
    {
     "name": "stdin",
     "output_type": "stream",
     "text": [
      "1-satrni kiriting:  assalomvassalom\n",
      "2-satrni kiriting:  salom\n"
     ]
    },
    {
     "name": "stdout",
     "output_type": "stream",
     "text": [
      "2\n"
     ]
    }
   ],
   "source": [
    "# 32\n",
    "def countString (S1,S2):\n",
    "    ''' S1 va S2 satrlar berilgan, S2 satrini S1 dagi takrorlaniwlar soni topiw'''\n",
    "    return S1.count(S2)\n",
    "S1=input('1-satrni kiriting: ')\n",
    "S2=input('2-satrni kiriting: ')\n",
    "print(countString(S1,S2))"
   ]
  },
  {
   "cell_type": "code",
   "execution_count": 10,
   "id": "46b8f4e9-b431-497c-9ab4-e09a568317ea",
   "metadata": {
    "tags": []
   },
   "outputs": [
    {
     "name": "stdin",
     "output_type": "stream",
     "text": [
      "1-satrni kiriting:  assalomvassalom\n",
      "2-satrni kiriting:  salom\n"
     ]
    },
    {
     "name": "stdout",
     "output_type": "stream",
     "text": [
      "asvassalom\n"
     ]
    }
   ],
   "source": [
    "# 33 (optimized)\n",
    "def removeString(S1,S2):\n",
    "    ''' S1 va S2 satrlar berilgan, S1 dagi dastabki ucragan S2 ni ociriw'''\n",
    "    if findString(S1,S2): # bu funk boolean qiymat qaytaradi\n",
    "        return S1.replace(S2,'',1)\n",
    "    else:\n",
    "        return S1\n",
    "S1=input('1-satrni kiriting: ')\n",
    "S2=input('2-satrni kiriting: ')\n",
    "print(removeString(S1,S2))"
   ]
  },
  {
   "cell_type": "code",
   "execution_count": 4,
   "id": "c11f0652-4dad-4594-819d-2025529f0e8b",
   "metadata": {
    "tags": []
   },
   "outputs": [
    {
     "name": "stdin",
     "output_type": "stream",
     "text": [
      "1-satrni kiriting:  assalomassalomassalomassalomassalom\n",
      "2-satrni kiriting:  salom\n"
     ]
    },
    {
     "name": "stdout",
     "output_type": "stream",
     "text": [
      "Input: \n",
      "S1 = assalomassalomassalomassalomassalom  S2 = salom\n",
      "assalomassalomassalomassalomas\n"
     ]
    }
   ],
   "source": [
    "# 34 optimized\n",
    "''' S1 va S2 satrlar berilgan, S1 dagi oxirgi ucragan S2 ni ociriw'''\n",
    "S1=input('1-satrni kiriting: ')\n",
    "S2=input('2-satrni kiriting: ')\n",
    "print('Input: ')\n",
    "print(f'S1 = {S1}  S2 = {S2}')\n",
    "if S2 in S1:\n",
    "    temp = list(S1.rpartition(S2))\n",
    "    temp.remove(S2)\n",
    "    print(''.join(temp))\n",
    "else:\n",
    "    print(S1)"
   ]
  },
  {
   "cell_type": "code",
   "execution_count": 7,
   "id": "7d763985-eaeb-4f4d-b303-3efc3891c0e0",
   "metadata": {
    "tags": []
   },
   "outputs": [
    {
     "name": "stdin",
     "output_type": "stream",
     "text": [
      "1-satrni kiriting:  assalomassalomassalomassalomassalom\n",
      "2-satrni kiriting:  salom\n"
     ]
    },
    {
     "name": "stdout",
     "output_type": "stream",
     "text": [
      "asasasasas\n"
     ]
    }
   ],
   "source": [
    "# 35\n",
    "''' S1 va S2 satrlar berilgan, S1 dagi barca ucragan S2 larni ociriw'''\n",
    "S1=input('1-satrni kiriting: ')\n",
    "S2=input('2-satrni kiriting: ')\n",
    "if findString(S1,S2): # boolean qiymat qaytaradi\n",
    "    temp = S1.replace(S2,'')\n",
    "    print(temp)\n",
    "else:\n",
    "    print(S1)"
   ]
  },
  {
   "cell_type": "code",
   "execution_count": 101,
   "id": "0dc416a6-d046-49a8-8b5c-7c87fff79b32",
   "metadata": {
    "tags": []
   },
   "outputs": [
    {
     "name": "stdin",
     "output_type": "stream",
     "text": [
      "1-satrni kiriting:  assalomassalomassalomassalom\n",
      "2-satrni kiriting:  as\n",
      "3-satrni kiriting:  vas\n"
     ]
    },
    {
     "name": "stdout",
     "output_type": "stream",
     "text": [
      "vassalomassalomassalomassalom\n"
     ]
    }
   ],
   "source": [
    "# 36\n",
    "def replaceStrings (S1,S2,S3):\n",
    "    '''S1 satrda dastlabki ucragan S1 satrni S3 ga almawtiriw'''\n",
    "    if findString(S1,S2): # True yoki False qaytariladi\n",
    "        return S1.replace(S2,S3,1)\n",
    "    else:\n",
    "        return S1\n",
    "S1=input('1-satrni kiriting: ')\n",
    "S2=input('2-satrni kiriting: ')\n",
    "S3=input('3-satrni kiriting: ')\n",
    "print(replaceStrings(S1,S2,S3))"
   ]
  },
  {
   "cell_type": "code",
   "execution_count": 104,
   "id": "e800265b-2090-4ba7-bdb0-53e9c11ead37",
   "metadata": {
    "tags": []
   },
   "outputs": [
    {
     "name": "stdin",
     "output_type": "stream",
     "text": [
      "1-satrni kiriting:  assalomassalomassalomassalom\n",
      "2-satrni kiriting:  salom\n",
      "3-satrni kiriting:  kalom\n"
     ]
    },
    {
     "name": "stdout",
     "output_type": "stream",
     "text": [
      "assalomassalomassalomaskalom\n"
     ]
    }
   ],
   "source": [
    "# 37\n",
    "'''S1 satrda oxirgi ucragan S1 satrni S3 ga almawtiriw'''\n",
    "S1=input('1-satrni kiriting: ')\n",
    "S2=input('2-satrni kiriting: ')\n",
    "S3=input('3-satrni kiriting: ')\n",
    "ind=S1.rfind(S2)\n",
    "x=S1[ind:].replace(S2,S3)\n",
    "temp = S1[:ind]+x\n",
    "print(temp)"
   ]
  },
  {
   "cell_type": "code",
   "execution_count": 106,
   "id": "c8dae1a9-a88d-4ead-94f9-9da85b3206d0",
   "metadata": {
    "tags": []
   },
   "outputs": [
    {
     "name": "stdin",
     "output_type": "stream",
     "text": [
      "1-satrni kiriting:  assalomassalomassalomassalom\n",
      "2-satrni kiriting:  as\n",
      "3-satrni kiriting:  vas\n"
     ]
    },
    {
     "name": "stdout",
     "output_type": "stream",
     "text": [
      "vassalomvassalomvassalomvassalom\n"
     ]
    }
   ],
   "source": [
    "# 38 \n",
    "def replaceStrings (S1,S2,S3):\n",
    "    '''S1 satrda dastlabki ucragan S1 satrni S3 ga almawtiriw'''\n",
    "    if findString(S1,S2): # True yoki False qaytariladi\n",
    "        return S1.replace(S2,S3)\n",
    "    else:\n",
    "        return S1\n",
    "S1=input('1-satrni kiriting: ')\n",
    "S2=input('2-satrni kiriting: ')\n",
    "S3=input('3-satrni kiriting: ')\n",
    "print(replaceStrings(S1,S2,S3))"
   ]
  },
  {
   "cell_type": "code",
   "execution_count": 109,
   "id": "926f84d2-aaad-487f-ab88-2ba9f877772a",
   "metadata": {
    "tags": []
   },
   "outputs": [
    {
     "name": "stdin",
     "output_type": "stream",
     "text": [
      "Satr kiriting:  Hozirgi zamonaviy sun’iy intellektlar juda katta ma’lumotlar ustiga quriladi\n"
     ]
    },
    {
     "name": "stdout",
     "output_type": "stream",
     "text": [
      "zamonaviy\n"
     ]
    }
   ],
   "source": [
    "# 39\n",
    "'''satrdagi 1- va 2-probellar orasidagi belgilarni ciqariw'''\n",
    "txt=input('Satr kiriting: ')\n",
    "if txt.count(' ')>1:\n",
    "    temp=txt.split()\n",
    "    print(temp[1])    \n",
    "else:\n",
    "    print(' ')"
   ]
  },
  {
   "cell_type": "code",
   "execution_count": 116,
   "id": "f45b5131-02f2-442b-a3a3-304cda68649d",
   "metadata": {
    "tags": []
   },
   "outputs": [
    {
     "name": "stdin",
     "output_type": "stream",
     "text": [
      "Satr kiriting:  Hozirgi zamonaviy sun’iy intellektlar juda katta ma’lumotlar ustiga quriladi\n"
     ]
    },
    {
     "name": "stdout",
     "output_type": "stream",
     "text": [
      "zamonaviy sun’iy intellektlar juda katta ma’lumotlar ustiga\n"
     ]
    }
   ],
   "source": [
    "# 40\n",
    "'''satrdagi dastlaki va oxirgi probellar orasidagi belgilarni ciqariw'''\n",
    "txt=input('Satr kiriting: ')\n",
    "if txt.count(' ')>1:\n",
    "    x=txt.split()\n",
    "    y=' '.join(x[1:len(x)-1])\n",
    "    print(y)    \n",
    "else:\n",
    "    print(' ')"
   ]
  },
  {
   "cell_type": "code",
   "execution_count": 117,
   "id": "c7343fd1-a83c-47cf-a8de-80c363582337",
   "metadata": {
    "tags": []
   },
   "outputs": [
    {
     "name": "stdin",
     "output_type": "stream",
     "text": [
      "Satr kiriting:  Hozirgi zamonaviy sun’iy intellektlar juda katta ma’lumotlar ustiga quriladi\n"
     ]
    },
    {
     "name": "stdout",
     "output_type": "stream",
     "text": [
      "9\n"
     ]
    }
   ],
   "source": [
    "# 41\n",
    "'''satrdagi probellar ajratilgan sozlar sonini aniqlaw'''\n",
    "txt=input('Satr kiriting: ')\n",
    "if txt.find(' ')>0:\n",
    "    temp=txt.split()\n",
    "    print(len(temp))    \n",
    "else:\n",
    "    print(1)"
   ]
  },
  {
   "cell_type": "code",
   "execution_count": 128,
   "id": "160d2fd4-5609-40a6-8200-34764d3c67f1",
   "metadata": {
    "tags": []
   },
   "outputs": [
    {
     "name": "stdin",
     "output_type": "stream",
     "text": [
      "Satr kiriting:  GLOBAL BOZORDA, MISOL UCHUN, YANDEKS RUS TILIDA, BU BORADA YAXSHI ISHLAR QILINGAN. LEKIN O‘ZBEKISTONDA YANDEKS BOSHQA MAHSULOTLAR BILAN KIRIB KELGAN BO‘LSA HAM, O‘ZBEK TILIDAGI SUN’IY INTELLEKTI YO‘Q. BOSHQA KOMPANIYALAR BILAN HAM HOLAT XUDDI SHUNDAY: MICROSOFT, GOOGLE. MICROSOFT’NING O‘ZBEK TILIDAGI SUN’IY INTELLEKTI YAQINDA CHIQDI, LEKIN UNING FUNKSIYALARI JUDA CHEGARALANGAN. YA’NI SUN’IY INTELLEKT O‘ZBEK TILIDA ISHLASHI UCHUN UNING USTIDA O‘ZBEK MUTAXASSISLARI ISHLASHI KERAK. FAQAT DASTURCHILAR EMAS, HAR BIR SOHA VAKILI O‘Z HISSASINI QO‘SHISHI KERAK. MASALAN, SUD TIZIMI UCHUN SHU SOHA VAKILI, TIBBIYOT UCHUN HAM O‘Z VAKILI BO‘LISHI O‘ZBEK TILIDA QATNASHISHI KERAK. SHUNDA BU NARSA O‘ZBEKCHA BO‘LA OLADI\n"
     ]
    },
    {
     "name": "stdout",
     "output_type": "stream",
     "text": [
      "Output:\n",
      "INTELLEKTI INTELLEKTI ISHLASHI ISHLASHI TIBBIYOT 5\n"
     ]
    }
   ],
   "source": [
    "# 42\n",
    "''' satrdagi bir xil harf bilan bowlanuvci va tugovci sozlarni sonini aniqlaw'''\n",
    "txt=input('Satr kiriting: ')\n",
    "count=0\n",
    "print('Output:')\n",
    "for i in txt.split():\n",
    "    if i[0]==i[-1]:\n",
    "        print(i,end=(' '))\n",
    "        count += 1\n",
    "print(count)"
   ]
  },
  {
   "cell_type": "code",
   "execution_count": 132,
   "id": "056f5bc6-0ad0-48e1-9ab8-0b6f59a5cd9e",
   "metadata": {
    "tags": []
   },
   "outputs": [
    {
     "name": "stdin",
     "output_type": "stream",
     "text": [
      "Satr kiriting:  GLOBAL BOZORDA, MISOL UCHUN, YANDEKS RUS TILIDA, BU BORADA YAXSHI ISHLAR QILINGAN. LEKIN O‘ZBEKISTONDA YANDEKS BOSHQA MAHSULOTLAR BILAN KIRIB KELGAN BO‘LSA HAM, O‘ZBEK TILIDAGI SUN’IY INTELLEKTI YO‘Q. BOSHQA KOMPANIYALAR BILAN HAM HOLAT XUDDI SHUNDAY: MICROSOFT, GOOGLE. MICROSOFT’NING O‘ZBEK TILIDAGI SUN’IY INTELLEKTI YAQINDA CHIQDI, LEKIN UNING FUNKSIYALARI JUDA CHEGARALANGAN. YA’NI SUN’IY INTELLEKT O‘ZBEK TILIDA ISHLASHI UCHUN UNING USTIDA O‘ZBEK MUTAXASSISLARI ISHLASHI KERAK. FAQAT DASTURCHILAR EMAS, HAR BIR SOHA VAKILI O‘Z HISSASINI QO‘SHISHI KERAK. MASALAN, SUD TIZIMI UCHUN SHU SOHA VAKILI, TIBBIYOT UCHUN HAM O‘Z VAKILI BO‘LISHI O‘ZBEK TILIDA QATNASHISHI KERAK. SHUNDA BU NARSA O‘ZBEKCHA BO‘LA OLADI\n"
     ]
    },
    {
     "name": "stdout",
     "output_type": "stream",
     "text": [
      "Output:\n",
      "GLOBAL BOZORDA, YANDEKS TILIDA, BORADA YAXSHI ISHLAR QILINGAN. O‘ZBEKISTONDA YANDEKS BOSHQA MAHSULOTLAR BILAN KELGAN BO‘LSA HAM, TILIDAGI BOSHQA KOMPANIYALAR BILAN HAM HOLAT SHUNDAY: TILIDAGI YAQINDA FUNKSIYALARI JUDA CHEGARALANGAN. YA’NI TILIDA ISHLASHI USTIDA MUTAXASSISLARI ISHLASHI KERAK. FAQAT DASTURCHILAR EMAS, HAR SOHA VAKILI HISSASINI KERAK. MASALAN, SOHA VAKILI, HAM VAKILI TILIDA QATNASHISHI KERAK. SHUNDA NARSA O‘ZBEKCHA BO‘LA OLADI 56\n"
     ]
    }
   ],
   "source": [
    "# 43\n",
    "''' satrdagi kamida bitta 'A' bor bolgan sozlarni sonini aniqlaw'''\n",
    "txt=input('Satr kiriting: ')\n",
    "count=0\n",
    "print('Output:')\n",
    "for i in txt.split():\n",
    "    if i.count('A')>0:\n",
    "        print(i,end=(' '))\n",
    "        count += 1\n",
    "print(count)"
   ]
  },
  {
   "cell_type": "code",
   "execution_count": 139,
   "id": "810f323f-a30c-403b-a67d-2bfb38f48f6e",
   "metadata": {
    "tags": []
   },
   "outputs": [
    {
     "name": "stdin",
     "output_type": "stream",
     "text": [
      "Satr kiriting:  GLOBAL BOZORDA, MISOL UCHUN, YANDEKS RUS TILIDA, BU BORADA YAXSHI ISHLAR QILINGAN. LEKIN O‘ZBEKISTONDA YANDEKS BOSHQA MAHSULOTLAR BILAN KIRIB KELGAN BO‘LSA HAM, O‘ZBEK TILIDAGI SUN’IY INTELLEKTI YO‘Q. BOSHQA KOMPANIYALAR BILAN HAM HOLAT XUDDI SHUNDAY: MICROSOFT, GOOGLE. MICROSOFT’NING O‘ZBEK TILIDAGI SUN’IY INTELLEKTI YAQINDA CHIQDI, LEKIN UNING FUNKSIYALARI JUDA CHEGARALANGAN. YA’NI SUN’IY INTELLEKT O‘ZBEK TILIDA ISHLASHI UCHUN UNING USTIDA O‘ZBEK MUTAXASSISLARI ISHLASHI KERAK. FAQAT DASTURCHILAR EMAS, HAR BIR SOHA VAKILI O‘Z HISSASINI QO‘SHISHI KERAK. MASALAN, SUD TIZIMI UCHUN SHU SOHA VAKILI, TIBBIYOT UCHUN HAM O‘Z VAKILI BO‘LISHI O‘ZBEK TILIDA QATNASHISHI KERAK. SHUNDA BU NARSA O‘ZBEKCHA BO‘LA OLADI\n"
     ]
    },
    {
     "name": "stdout",
     "output_type": "stream",
     "text": [
      "Output:\n",
      "KOMPANIYALAR MUTAXASSISLARI MASALAN, 3\n"
     ]
    }
   ],
   "source": [
    "# 44\n",
    "''' satrdagi aniq ucta 'A' bor bolgan sozlarni sonini aniqlaw'''\n",
    "txt=input('Satr kiriting: ')\n",
    "count=0\n",
    "print('Output:')\n",
    "for i in txt.split():\n",
    "    if i.count('A')==3:\n",
    "        print(i,end=(' '))\n",
    "        count += 1\n",
    "print(count)"
   ]
  },
  {
   "cell_type": "code",
   "execution_count": 145,
   "id": "8e25bd9f-3cbe-4541-aeee-abddb89f4643",
   "metadata": {
    "tags": []
   },
   "outputs": [
    {
     "name": "stdin",
     "output_type": "stream",
     "text": [
      "Satr kiriting:  Global bozorda, misol uchun, Yandeks rus tilida, bu borada yaxshi ishlar qilingan. Lekin O‘zbekistonda Yandeks boshqa mahsulotlar bilan kirib kelgan bo‘lsa ham, o‘zbek tilidagi sun’iy intellekti yo‘q. Boshqa kompaniyalar bilan ham holat xuddi shunday: Microsoft, Google. Microsoft’ning o‘zbek tilidagi sun’iy intellekti yaqinda chiqdi, lekin uning funksiyalari juda chegaralangan. Ya’ni sun’iy intellekt o‘zbek tilida ishlashi uchun uning ustida o‘zbek mutaxassislari ishlashi kerak. Faqat dasturchilar emas, har bir soha vakili o‘z hissasini qo‘shishi kerak. Masalan, sud tizimi uchun shu soha vakili, tibbiyot uchun ham o‘z vakili bo‘lishi o‘zbek tilida qatnashishi kerak. Shunda bu narsa o‘zbekcha bo‘la oladi.\n"
     ]
    },
    {
     "name": "stdout",
     "output_type": "stream",
     "text": [
      "Output:\n",
      "2\n",
      "bu\n"
     ]
    }
   ],
   "source": [
    "# 45\n",
    "''' satrdagi eng qisqa sozning uzunligini topiw'''\n",
    "txt=input('Satr kiriting: ')\n",
    "print('Output:')\n",
    "temp=[]\n",
    "for i in txt.split():\n",
    "    temp.append(len(i))\n",
    "    if min(temp)==len(i):\n",
    "        shortest_word=i\n",
    "print(min(temp)) # eng qisqa uzunlikdagi soz\n",
    "print(shortest_word) # eng qisqa soz"
   ]
  },
  {
   "cell_type": "code",
   "execution_count": 32,
   "id": "221d8339-7086-40be-a77e-dc46f82b8bd4",
   "metadata": {
    "tags": []
   },
   "outputs": [
    {
     "name": "stdin",
     "output_type": "stream",
     "text": [
      "Satr kiriting:  Global bozorda, misol uchun, Yandeks rus tilida, bu borada yaxshi ishlar qilingan. Lekin O‘zbekistonda Yandeks boshqa mahsulotlar bilan kirib kelgan bo‘lsa ham, o‘zbek tilidagi sun’iy intellekti yo‘q. Boshqa kompaniyalar bilan ham holat xuddi shunday: Microsoft, Google. Microsoft’ning o‘zbek tilidagi sun’iy intellekti yaqinda chiqdi, lekin uning funksiyalari juda chegaralangan. Ya’ni sun’iy intellekt o‘zbek tilida ishlashi uchun uning ustida o‘zbek mutaxassislari ishlashi kerak. Faqat dasturchilar emas, har bir soha vakili o‘z hissasini qo‘shishi kerak. Masalan, sud tizimi uchun shu soha vakili, tibbiyot uchun ham o‘z vakili bo‘lishi o‘zbek tilida qatnashishi kerak. Shunda bu narsa o‘zbekcha bo‘la oladi.\n"
     ]
    },
    {
     "name": "stdout",
     "output_type": "stream",
     "text": [
      "Output:\n",
      "14\n",
      "mutaxassislari\n"
     ]
    }
   ],
   "source": [
    "# 46\n",
    "''' satrdagi eng uzun sozning uzunligini topiw'''\n",
    "txt=input('Satr kiriting: ')\n",
    "print('Output:')\n",
    "temp=[]\n",
    "for i in txt.split():\n",
    "    temp.append(len(i))\n",
    "    if max(temp)==len(i):\n",
    "        longest_word=i\n",
    "print(max(temp)) # eng uzun uzunlikdagi soz\n",
    "print(longest_word) # eng uzun soz"
   ]
  },
  {
   "cell_type": "code",
   "execution_count": 158,
   "id": "fa13ad68-4999-430f-880e-0e13f7e7ddb7",
   "metadata": {
    "tags": []
   },
   "outputs": [
    {
     "name": "stdin",
     "output_type": "stream",
     "text": [
      "Satr kiriting:  Sun’iy intellekt o‘zbek tilida ishlashi uchun uning ustida o‘zbek mutaxassislari ishlashi kerak\n"
     ]
    },
    {
     "name": "stdout",
     "output_type": "stream",
     "text": [
      "Output:\n",
      "Sun’iy.intellekt.o‘zbek.tilida.ishlashi.uchun.uning.ustida.o‘zbek.mutaxassislari.ishlashi.kerak\n"
     ]
    }
   ],
   "source": [
    "# 47\n",
    "''' satrdagi sozlarni '.' nuqta bilan ajratilgan holda ciqariw'''\n",
    "txt=input('Satr kiriting: ')\n",
    "count=0\n",
    "print('Output:')\n",
    "temp=txt.split()\n",
    "result='.'.join(temp)\n",
    "print(result)"
   ]
  },
  {
   "cell_type": "code",
   "execution_count": 4,
   "id": "6ce4931b-ef6f-4b5b-b9f9-17e89146eb53",
   "metadata": {
    "tags": []
   },
   "outputs": [
    {
     "name": "stdin",
     "output_type": "stream",
     "text": [
      "Satr kiriting:  Sun’iy intellekt o‘zbek tilida ishlashi uchun uning ustida o‘zbek mutaxassislari ishlashi kerak\n"
     ]
    },
    {
     "name": "stdout",
     "output_type": "stream",
     "text": [
      "Output:\n",
      "Sun’iy intellekt o‘zbek tilida ishlash. uch.n uning ustida o‘zbek mutaxassislari ishlash. kera.\n"
     ]
    }
   ],
   "source": [
    "# 48\n",
    "''' satrdagi har bir sozidagi uning bosh harfi bilan bir hil bolganlarini '.' belgisi bilan amawtiriw '''\n",
    "txt=input('Satr kiriting: ')\n",
    "print('Output:')\n",
    "temp=txt.split()\n",
    "for i in range(len(temp)):\n",
    "    x = temp[i][0]\n",
    "    if temp[i].count(x)>1:\n",
    "        temp[i]=x + temp[i][1:].replace(x,'.')\n",
    "result=' '.join(temp)\n",
    "print(result)"
   ]
  },
  {
   "cell_type": "code",
   "execution_count": 13,
   "id": "e71b47f4-04e4-4ed0-9f56-f4ae76f61eec",
   "metadata": {
    "tags": []
   },
   "outputs": [
    {
     "name": "stdin",
     "output_type": "stream",
     "text": [
      "Satr kiriting:  Sun’iy intellekt o‘zbek tilida ishlashi uchun uning ustida o‘zbek mutaxassislari ishlashi kerak\n"
     ]
    },
    {
     "name": "stdout",
     "output_type": "stream",
     "text": [
      "Output:\n",
      "Sun’iy in.ellekt o‘zbek tilida .shlashi uchun uning ustida o‘zbek mutaxass.slari .shlashi .erak\n"
     ]
    }
   ],
   "source": [
    "# 49\n",
    "''' satrdagi har bir sozidagi uning oxirgi harfi bilan bir hil bolganlarini '.' belgisi bilan amawtiriw '''\n",
    "txt=input('Satr kiriting: ')\n",
    "print('Output:')\n",
    "temp=txt.split()\n",
    "for i in range(len(temp)):\n",
    "    x = temp[i][-1] # har bir sozning oxirgi harfi\n",
    "    y = temp[i].count(x) # oxirgi harfga oxwawlar soni\n",
    "    if y>1:\n",
    "        temp[i]=temp[i].replace(x,'.',y-1)\n",
    "result=' '.join(temp)\n",
    "print(result)"
   ]
  },
  {
   "cell_type": "code",
   "execution_count": 6,
   "id": "9db24151-c057-4562-8c0c-d8f0f236097c",
   "metadata": {},
   "outputs": [
    {
     "name": "stdin",
     "output_type": "stream",
     "text": [
      "Satr kiriting:  Sun’iy intellekt o‘zbek tilida   ishlashi uchun   uning ustida  o‘zbek    mutaxassislari ishlashi   kerak\n"
     ]
    },
    {
     "name": "stdout",
     "output_type": "stream",
     "text": [
      "Output:\n",
      "kerak ishlashi mutaxassislari o‘zbek ustida uning uchun ishlashi tilida o‘zbek intellekt Sun’iy\n"
     ]
    }
   ],
   "source": [
    "# 50\n",
    "''' satrdagi sozlar orasidagi birdan owiqca brobellarni ocirib, sozlarni teskari tartibda ciqariw '''\n",
    "txt=input('Satr kiriting: ')\n",
    "print('Output:')\n",
    "temp=txt.split()\n",
    "temp = [temp[i].strip() for i in range(len(temp))]\n",
    "temp.reverse()\n",
    "new_txt = ' '.join(temp)\n",
    "print(new_txt)"
   ]
  },
  {
   "cell_type": "code",
   "execution_count": 5,
   "id": "ddd802bc-bc25-49b6-8a67-0991383e549d",
   "metadata": {
    "tags": []
   },
   "outputs": [
    {
     "name": "stdin",
     "output_type": "stream",
     "text": [
      "Satr kiriting:  Sun’iy intellekt o‘zbek tilida   ishlashi uchun   uning ustida  o‘zbek    mutaxassislari ishlashi   kerak\n"
     ]
    },
    {
     "name": "stdout",
     "output_type": "stream",
     "text": [
      "Output:\n",
      "Sun’iy intellekt ishlashi ishlashi kerak mutaxassislari o‘zbek o‘zbek tilida uchun uning ustida\n"
     ]
    }
   ],
   "source": [
    "# 51 \"???? nimaga sot qilganda temp[0] saralanmayapti\"\n",
    "''' satrdagi sozlar orasidagi birdan owiqca brobellarni ocirib, sozlarni alfavit tartibda ciqariw '''\n",
    "txt=input('Satr kiriting: ')\n",
    "print('Output:')\n",
    "temp=txt.split()\n",
    "temp = [temp[i].strip() for i in range(len(temp))]\n",
    "temp.sort()\n",
    "# temp.sort(key=lambda x:ord(x[0]))\n",
    "new_txt = ' '.join(temp)\n",
    "print(new_txt)"
   ]
  },
  {
   "cell_type": "code",
   "execution_count": 12,
   "id": "c2973bd0-df83-456c-9aa9-995b205f3d7d",
   "metadata": {
    "tags": []
   },
   "outputs": [
    {
     "name": "stdin",
     "output_type": "stream",
     "text": [
      "Satr kiriting:  Sun’iy intellekt o‘zbek tilida ishlashi uchun uning ustida o‘zbek mutaxassislari ishlashi kerak\n"
     ]
    },
    {
     "name": "stdout",
     "output_type": "stream",
     "text": [
      "Output:\n",
      "Sun’iy Intellekt O‘zbek Tilida Ishlashi Uchun Uning Ustida O‘zbek Mutaxassislari Ishlashi Kerak\n"
     ]
    }
   ],
   "source": [
    "# 52\n",
    "''' satrdagi har bir sozning bosh harfi kattasi bilan almawtiriw '''\n",
    "txt=input('Satr kiriting: ')\n",
    "print('Output:')\n",
    "temp=txt.split()\n",
    "temp = [temp[i].capitalize() for i in range(len(temp))]\n",
    "new_txt = ' '.join(temp)\n",
    "print(new_txt)"
   ]
  },
  {
   "cell_type": "code",
   "execution_count": 13,
   "id": "53794142-6b8b-4cea-bf36-04bf33a70116",
   "metadata": {
    "tags": []
   },
   "outputs": [
    {
     "name": "stdin",
     "output_type": "stream",
     "text": [
      "Satr kiriting:  Global bozorda, misol uchun, Yandeks rus tilida, bu borada yaxshi ishlar qilingan.\n"
     ]
    },
    {
     "name": "stdout",
     "output_type": "stream",
     "text": [
      "Output:\n",
      ", , , . \n",
      "4\n"
     ]
    }
   ],
   "source": [
    "# 53 optimized\n",
    "import string \n",
    "'''Satrdagi tiniw belgilari sonini ciqariw'''\n",
    "txt=input('Satr kiriting: ')\n",
    "print('Output:')\n",
    "count=0\n",
    "for i in txt:\n",
    "    if i in string.punctuation:\n",
    "        print(i,end=(' '))\n",
    "        count += 1\n",
    "print()\n",
    "print(count)        "
   ]
  },
  {
   "cell_type": "code",
   "execution_count": 29,
   "id": "bc78f295-7354-4e32-8a5a-206773c775bf",
   "metadata": {
    "tags": []
   },
   "outputs": [
    {
     "name": "stdin",
     "output_type": "stream",
     "text": [
      "Satr kiriting:  Keyingi vaqtlarda sun’iy idrok atamasi tez-tez quloqqa chalinmoqda. U o‘zi nima? Olimlar, IT-mutaxassislari, aqliy mehnat bilan shug‘ullanuvchilar, talaba va maktab o‘quvchilari undan katta umid qilishmoqda. Siyosatdonlar va harbiylar esa undan o‘z maqsadlari yo‘lida foydalanmoqchi.\n"
     ]
    },
    {
     "name": "stdout",
     "output_type": "stream",
     "text": [
      "Output:\n",
      "K U O I T S \n",
      "6\n"
     ]
    }
   ],
   "source": [
    "# 54\n",
    "'''Satrdagi katta harflar sonini ciqariw'''\n",
    "txt=input('Satr kiriting: ')\n",
    "print('Output:')\n",
    "temp=txt.split()\n",
    "count=0\n",
    "for i in temp:\n",
    "    for j in i:\n",
    "        if j.isupper():\n",
    "            print(j,end=(' '))\n",
    "            count += 1\n",
    "print()\n",
    "print(count)   "
   ]
  },
  {
   "cell_type": "code",
   "execution_count": 37,
   "id": "a19db8d9-16bd-4ad6-95df-713f1232f9a1",
   "metadata": {
    "tags": []
   },
   "outputs": [
    {
     "name": "stdin",
     "output_type": "stream",
     "text": [
      "Satr kiriting:  Keyingi vaqtlarda sun’iy idrok atamasi tez-tez quloqqa chalinmoqda. U o‘zi nima? Olimlar, IT-mutaxassislari, aqliy mehnat bilan shug‘ullanuvchilar, talaba va maktab o‘quvchilari undan katta umid qilishmoqda. Siyosatdonlar va harbiylar esa undan o‘z maqsadlari yo‘lida foydalanmoqchi\n"
     ]
    },
    {
     "name": "stdout",
     "output_type": "stream",
     "text": [
      "Output:\n",
      "shug‘ullanuvchilar\n"
     ]
    }
   ],
   "source": [
    "# 55\n",
    "''' satrdagi eng uzun sozning qaytariw'''\n",
    "txt=input('Satr kiriting: ')\n",
    "print('Output:')\n",
    "temp=txt.split() # tekst waklidan massiv wakliga otiw\n",
    "temp=[temp[i].rstrip(',') for i in range(len(temp))] # solarni alnum dan tawqari belgilardan holos etiw.\n",
    "longest_word=max(temp,key=lambda x:len(x)) # uzunlik boyica saralaw (dastlabki max olinadi)\n",
    "print(longest_word) # eng uzun soz"
   ]
  },
  {
   "cell_type": "code",
   "execution_count": 43,
   "id": "18d991f2-6142-4fee-b3c3-d2b258f588f0",
   "metadata": {
    "tags": []
   },
   "outputs": [
    {
     "name": "stdin",
     "output_type": "stream",
     "text": [
      "Satr kiriting:  Keyingi vaqtlarda sun’iy idrok atamasi tez-tez quloqqa chalinmoqda. Bu o‘zi nima? Olimlar, IT-mutaxassislari, aqliy mehnat bilan shug‘ullanuvchilar, talaba va maktab o‘quvchilari undan katta umid qilishmoqda. Siyosatdonlar va harbiylar esa undan o‘z maqsadlari yo‘lida foydalanmoqchi\n"
     ]
    },
    {
     "name": "stdout",
     "output_type": "stream",
     "text": [
      "Output:\n",
      "va\n"
     ]
    }
   ],
   "source": [
    "# 56\n",
    "''' satrdagi eng qisqa sozning qaytariw'''\n",
    "txt=input('Satr kiriting: ')\n",
    "print('Output:')\n",
    "temp=txt.split() # tekst waklidan massiv wakliga otiw\n",
    "temp=[temp[i].rstrip(',') for i in range(len(temp))] # solarni alnum dan tawqari belgilardan holos etiw.\n",
    "x=reversed(temp) # oxirgi min ni oliw ucun.\n",
    "shortest_word=min(x,key=lambda x:len(x)) # uzunlik boyica saralaw (dastlabki min olinadi)\n",
    "print(shortest_word) # eng uzun soz"
   ]
  },
  {
   "cell_type": "code",
   "execution_count": 44,
   "id": "43777913-9ca4-4ab3-b419-ff2312c0f845",
   "metadata": {
    "tags": []
   },
   "outputs": [
    {
     "name": "stdin",
     "output_type": "stream",
     "text": [
      "Satr kiriting:  Sun’iy intellekt o‘zbek tilida   ishlashi uchun   uning ustida  o‘zbek    mutaxassislari ishlashi   kerak\n"
     ]
    },
    {
     "name": "stdout",
     "output_type": "stream",
     "text": [
      "Output:\n",
      "Sun’iy intellekt o‘zbek tilida ishlashi uchun uning ustida o‘zbek mutaxassislari ishlashi kerak\n"
     ]
    }
   ],
   "source": [
    "# 57\n",
    "''' satrdagi owiqca probellar olib tawlaw '''\n",
    "txt=input('Satr kiriting: ')\n",
    "print('Output:')\n",
    "temp=txt.split()\n",
    "temp = [temp[i].strip() for i in range(len(temp))]\n",
    "new_txt = ' '.join(temp)\n",
    "print(new_txt)"
   ]
  },
  {
   "cell_type": "markdown",
   "id": "775ae345-c12e-49af-9e36-09bc73b3aad5",
   "metadata": {},
   "source": [
    "**Satrlarni qayta iwlawga oid qowimca misollar**"
   ]
  },
  {
   "cell_type": "code",
   "execution_count": 21,
   "id": "172844e9-ae0a-4d2e-b4c6-4a40f4ec22d8",
   "metadata": {
    "tags": []
   },
   "outputs": [
    {
     "name": "stdout",
     "output_type": "stream",
     "text": [
      "Input: \n",
      "C:\\Users\\UKA\\Desktop\\12-dars\\String.pdf\n",
      "Output: \n",
      "String\n"
     ]
    }
   ],
   "source": [
    "# 58\n",
    "\"\"\"Satrdan faylni nomini kengaytmasiz aniqlaw\"\"\"\n",
    "txt = 'C:\\\\Users\\\\UKA\\\\Desktop\\\\12-dars\\\\String.pdf'\n",
    "print('Input: ')\n",
    "print(txt)\n",
    "step1 = txt.split('\\\\')\n",
    "step2 = step1[-1].split('.')\n",
    "print('Output: ')\n",
    "print(step2[0])"
   ]
  },
  {
   "cell_type": "code",
   "execution_count": 20,
   "id": "21e217cb-aaed-4b7a-9d66-426330ccc481",
   "metadata": {
    "tags": []
   },
   "outputs": [
    {
     "name": "stdout",
     "output_type": "stream",
     "text": [
      "Input: \n",
      "C:\\Users\\UKA\\Desktop\\12-dars\\String.pdf\n",
      "Output: \n",
      "pdf\n"
     ]
    }
   ],
   "source": [
    "# 59\n",
    "\"\"\"Satrdan faylni kengaytmasini aniqlaw\"\"\"\n",
    "txt = 'C:\\\\Users\\\\UKA\\\\Desktop\\\\12-dars\\\\String.pdf'\n",
    "print('Input: ')\n",
    "print(txt)\n",
    "step1 = txt.split('\\\\')\n",
    "step2 = step1[-1].split('.')\n",
    "print('Output: ')\n",
    "print(step2[1])"
   ]
  },
  {
   "cell_type": "code",
   "execution_count": 19,
   "id": "9bfaa219-3458-4e9e-9b88-86baa6ce8d51",
   "metadata": {
    "tags": []
   },
   "outputs": [
    {
     "name": "stdout",
     "output_type": "stream",
     "text": [
      "Input: \n",
      "C:\\Users\\UKA\\Desktop\\12-dars\\String.pdf\n",
      "Output: \n",
      "Users\n"
     ]
    }
   ],
   "source": [
    "# 60\n",
    "\"\"\"Satrdan 1-katalog nomini aniqlaw\"\"\"\n",
    "txt = 'C:\\\\Users\\\\UKA\\\\Desktop\\\\12-dars\\\\String.pdf'\n",
    "print('Input: ')\n",
    "print(txt)\n",
    "temp = txt.split('\\\\')\n",
    "print('Output: ')\n",
    "print(temp[1])"
   ]
  },
  {
   "cell_type": "code",
   "execution_count": 22,
   "id": "a8f15ba6-fbc0-46c6-9978-b210c025d380",
   "metadata": {
    "tags": []
   },
   "outputs": [
    {
     "name": "stdout",
     "output_type": "stream",
     "text": [
      "Input: \n",
      "C:\\Users\\UKA\\Desktop\\12-dars\\String.pdf\n",
      "Output: \n",
      "12-dars\n"
     ]
    }
   ],
   "source": [
    "# 61\n",
    "\"\"\"Satrdan oxirgi katalog nomini aniqlaw\"\"\"\n",
    "txt = 'C:\\\\Users\\\\UKA\\\\Desktop\\\\12-dars\\\\String.pdf'\n",
    "print('Input: ')\n",
    "print(txt)\n",
    "temp = txt.split('\\\\')\n",
    "print('Output: ')\n",
    "print(temp[-2])"
   ]
  },
  {
   "cell_type": "code",
   "execution_count": 28,
   "id": "dc8a2a05-b87a-4705-ab09-453065047b1f",
   "metadata": {
    "tags": []
   },
   "outputs": [
    {
     "name": "stdin",
     "output_type": "stream",
     "text": [
      "Satr kiriting:  Suniy intellekt\n",
      "Siklik qadamni kiriting:  1\n"
     ]
    },
    {
     "name": "stdout",
     "output_type": "stream",
     "text": [
      "Input: \n",
      "Suniy intellekt\n",
      "Step:  1\n",
      "Output:\n",
      "Tvojz joufmmflu\n"
     ]
    }
   ],
   "source": [
    "# 62\n",
    "def moveCharRight (txt,step):\n",
    "    ''' Satrni belgilarini onga 1 qadamga onga siklik suriw'''\n",
    "    temp=[]\n",
    "    for i in txt:\n",
    "        if i.isalpha():\n",
    "            shiftLetOrd = ord(i) + step\n",
    "            if i.islower() and shiftLetOrd > ord('z'):\n",
    "                shiftLetOrd -= 26\n",
    "            elif not i.islower() and shiftLetOrd > ord('Z'):\n",
    "                shiftLetOrd -= 26\n",
    "            temp += i.replace(i,chr(shiftLetOrd))\n",
    "        else:\n",
    "            temp += i\n",
    "    return ''.join(temp)    \n",
    "txt=input('Satr kiriting: ')\n",
    "step = int(input('Siklik qadamni kiriting: '))\n",
    "print('Input: ')\n",
    "print(txt)\n",
    "print('Onga siklik siljiwlar soni: ',step)\n",
    "print('Output:')\n",
    "print(moveCharRight (txt,step))"
   ]
  },
  {
   "cell_type": "code",
   "execution_count": 30,
   "id": "e028677f-ef4d-408a-a0c2-37afad03d013",
   "metadata": {
    "tags": []
   },
   "outputs": [
    {
     "name": "stdin",
     "output_type": "stream",
     "text": [
      "Satr kiriting:  Suniy intellekt\n",
      "Siklik qadamni kiriting:  1\n"
     ]
    },
    {
     "name": "stdout",
     "output_type": "stream",
     "text": [
      "Input: \n",
      "Suniy intellekt\n",
      "Capga siklik siljiwlar soni:  1\n",
      "Output:\n",
      "Rtmhx hmsdkkdjs\n"
     ]
    }
   ],
   "source": [
    "# 62 (****)\n",
    "def moveCharLeft (txt,step):\n",
    "    ''' Satrni belgilarini onga 1 qadamga chapga siklik suriw'''\n",
    "    temp=[]\n",
    "    for i in txt:\n",
    "        if i.isalpha():\n",
    "            shiftLetOrd = ord(i) - step\n",
    "            if i.islower() and shiftLetOrd < ord('a'):\n",
    "                shiftLetOrd += 26\n",
    "            elif not i.islower() and shiftLetOrd < ord('A'):\n",
    "                shiftLetOrd += 26\n",
    "            temp += i.replace(i,chr(shiftLetOrd))\n",
    "        else:\n",
    "            temp += i\n",
    "    return ''.join(temp)    \n",
    "txt=input('Satr kiriting: ')\n",
    "step = int(input('Siklik qadamni kiriting: '))\n",
    "print('Input: ')\n",
    "print(txt)\n",
    "print('Capga siklik siljiwlar soni: ',step)\n",
    "print('Output:')\n",
    "print(moveCharLeft (txt,step))"
   ]
  },
  {
   "cell_type": "code",
   "execution_count": 33,
   "id": "7506e530-1820-4a36-b84a-cbff6111a3f5",
   "metadata": {
    "tags": []
   },
   "outputs": [
    {
     "data": {
      "text/plain": [
       "'abcdefghijklmnopqrstuvwxyzABCDEFGHIJKLMNOPQRSTUVWXYZ'"
      ]
     },
     "execution_count": 33,
     "metadata": {},
     "output_type": "execute_result"
    }
   ],
   "source": [
    "import string\n",
    "string.ascii_letters"
   ]
  },
  {
   "cell_type": "code",
   "execution_count": 31,
   "id": "19abe9ee-437f-4da6-bf4b-4abd4aa85ec2",
   "metadata": {
    "tags": []
   },
   "outputs": [
    {
     "name": "stdin",
     "output_type": "stream",
     "text": [
      "Satr kiriting:  Suniy intellekt\n",
      "K (0<K<10) =  5\n"
     ]
    },
    {
     "name": "stdout",
     "output_type": "stream",
     "text": [
      "Input: \n",
      "Suniy intellekt\n",
      "K=  5\n",
      "Output:\n",
      "Xzsnd nsyjqqjpy\n"
     ]
    }
   ],
   "source": [
    "# 63\n",
    "''' Satrni belgilarini onga K qadam onga siklik suriw'''\n",
    "txt=input('Satr kiriting: ')\n",
    "K=int(input('K (0<K<10) = '))\n",
    "print('Input: ')\n",
    "print(txt)\n",
    "print('K= ', K)\n",
    "print('Output:')\n",
    "temp =  moveCharRight (txt,K)\n",
    "print(temp)"
   ]
  },
  {
   "cell_type": "code",
   "execution_count": 32,
   "id": "649f5c28-b5d5-4652-9e8b-c4cbbb5d8569",
   "metadata": {
    "tags": []
   },
   "outputs": [
    {
     "name": "stdin",
     "output_type": "stream",
     "text": [
      "# 63 da kodlangan satrni kiriting:  Xzsnd nsyjqqjpy\n",
      "K (0<K<10) =  5\n"
     ]
    },
    {
     "name": "stdout",
     "output_type": "stream",
     "text": [
      "Input: \n",
      "Xzsnd nsyjqqjpy\n",
      "K=  5\n",
      "Output:\n",
      "Suniy intellekt\n"
     ]
    }
   ],
   "source": [
    "# 64\n",
    "''' 63-misol boyica kodlangan satrni asl holiga qaytariw'''\n",
    "txt=input('# 63 da kodlangan satrni kiriting: ')\n",
    "K=int(input('K (0<K<10) = '))\n",
    "print('Input: ')\n",
    "print(txt)\n",
    "print('K= ', K)\n",
    "print('Output:')\n",
    "temp =  moveCharLeft (txt,K) # Harflarni skilik capga suruvcin funk\n",
    "print(temp)"
   ]
  },
  {
   "cell_type": "code",
   "execution_count": 11,
   "id": "8c0598cb-e75d-4a3e-a1f1-a7a6c2ad0236",
   "metadata": {
    "tags": []
   },
   "outputs": [
    {
     "name": "stdin",
     "output_type": "stream",
     "text": [
      "# 63 da kodlangan satrni kiriting:  Xzsnd nsyjqqjpy\n",
      "Asl satrning 1-harfi:  S\n"
     ]
    },
    {
     "name": "stdout",
     "output_type": "stream",
     "text": [
      "Output:\n",
      "Suniy intellekt\n"
     ]
    }
   ],
   "source": [
    "# 65\n",
    "''' 63-misol va asl satrni 1-harfini kiritiw orqali K ni va kodlangan satrni asl holiga qaytariw'''\n",
    "txt = input('# 63 da kodlangan satrni kiriting: ')\n",
    "First_let = input('Asl satrning 1-harfi: ') # Asl satrning 1-harfi\n",
    "print('Output:')\n",
    "K = ord(txt[0])-ord(First_let) # siklik qadamni aniqlaw\n",
    "temp =  moveCharLeft (txt,K)\n",
    "print(temp)"
   ]
  },
  {
   "cell_type": "code",
   "execution_count": 23,
   "id": "4ee9fed1-4320-4ddc-902b-eccbb9291b03",
   "metadata": {
    "tags": []
   },
   "outputs": [
    {
     "name": "stdin",
     "output_type": "stream",
     "text": [
      "Satr kiriting:  UZBEKISTAN\n"
     ]
    },
    {
     "name": "stdout",
     "output_type": "stream",
     "text": [
      "UBKSANTIEZ\n"
     ]
    }
   ],
   "source": [
    "# 66\n",
    "def editString (txt):\n",
    "    '''Satrdan yangi satr yasaw (new_txt=juft+reverse(toq)) '''\n",
    "    x = txt[::2]\n",
    "    y = ''.join(reversed(txt[1::2]))\n",
    "    return x + y\n",
    "txt = input('Satr kiriting: ')\n",
    "print(editString(txt))"
   ]
  },
  {
   "cell_type": "code",
   "execution_count": 29,
   "id": "81dba605-ab83-44e1-920b-94635a9e6e5c",
   "metadata": {
    "tags": []
   },
   "outputs": [
    {
     "name": "stdin",
     "output_type": "stream",
     "text": [
      "# 66 DA KODANGAN SATRNI KIRITING:  UBKSANTIEZ\n"
     ]
    },
    {
     "name": "stdout",
     "output_type": "stream",
     "text": [
      "UZBEKISTAN\n"
     ]
    }
   ],
   "source": [
    "# 67\n",
    "'''# 66 DA KODLANGAN SATRNI ASL HOLATIGA QAYTARIW '''\n",
    "txt = input('# 66 DA KODANGAN SATRNI KIRITING: ')\n",
    "orig_txt = [(txt[i]+txt[-1-i]) for i in range(len(temp)//2)]\n",
    "print(''.join(orig_txt))"
   ]
  },
  {
   "cell_type": "code",
   "execution_count": 40,
   "id": "5bf370a7-d18e-4c88-80b4-ee76f2ab13e9",
   "metadata": {
    "tags": []
   },
   "outputs": [
    {
     "name": "stdin",
     "output_type": "stream",
     "text": [
      "Son va harflardan iborat satr kiriting:  861861287abcdefjtlhjl\n"
     ]
    },
    {
     "name": "stdout",
     "output_type": "stream",
     "text": [
      "j\n"
     ]
    }
   ],
   "source": [
    "# 68\n",
    "''' Sonlar va kicik lotin harflardan iborat sat berilgan, uning harflari \n",
    "saralgan bolsa - 0, aks holda saralawni buzgan 1-harfni ciqariw'''\n",
    "txt = input('Son va harflardan iborat satr kiriting: ')\n",
    "temp = []\n",
    "for i in txt:\n",
    "    if i.isalpha():\n",
    "        temp.append(i)\n",
    "x = ''.join(temp)\n",
    "for i in range(len(x)-1):\n",
    "    if ord(x[i+1])-ord(x[i])==1:\n",
    "        pass\n",
    "    else:\n",
    "        print(x[i+1])\n",
    "        break\n",
    "else:\n",
    "    print(0)        "
   ]
  },
  {
   "cell_type": "code",
   "execution_count": 22,
   "id": "0911e4d1-c9f1-41ee-93f9-bf47a3a3fa7f",
   "metadata": {},
   "outputs": [
    {
     "name": "stdin",
     "output_type": "stream",
     "text": [
      "Lotin harflar va ochivci va yopuvci qavslardan iborat satr kiriting:  sbfhabb)fmbk(sdbjhfjaAFJA\n"
     ]
    },
    {
     "name": "stdout",
     "output_type": "stream",
     "text": [
      "7\n"
     ]
    }
   ],
   "source": [
    "# 69\n",
    "def checkPunc (txt,puncSign):\n",
    "    '''Lotin harflar va ochivci va yopuvci qavslar berilgan, ula tog iwlatilgan bolsa 0, yopuvci qavs notogri bolsa \n",
    "    uning orin indeksi, yopuvci qavs etiwmasa -1 ciqariw'''\n",
    "    x, y = puncSign # ocuvci va yopuvci qavsdan iborat string\n",
    "    if  x in txt and y in txt:\n",
    "        if txt.index(x) < txt.index(y):\n",
    "            return 0\n",
    "        else:\n",
    "            return txt.index(y)\n",
    "    if x in txt and y not in txt:             \n",
    "        return -1  \n",
    "txt = input('Lotin harflar va ochivci va yopuvci qavslardan iborat satr kiriting: ')\n",
    "puncSign = '()'\n",
    "print(checkPunc (txt,puncSign))"
   ]
  },
  {
   "cell_type": "code",
   "execution_count": 26,
   "id": "1ce9cce8-4bbc-4d49-9159-d0ee0969ce43",
   "metadata": {},
   "outputs": [
    {
     "name": "stdin",
     "output_type": "stream",
     "text": [
      "Lotin harflar va ochivci va yopuvci qavslardan iborat satr kiriting:  bjbfjbajbf]jaj(fkafkak)jvjhfV[GVAGHVh]bnasvf{asndfj}\n"
     ]
    },
    {
     "name": "stdout",
     "output_type": "stream",
     "text": [
      "10\n"
     ]
    }
   ],
   "source": [
    "# 70 \n",
    "'''Lotin harflar va ochivci va yopuvci qavslar berilgan((),[],{}) ula tog iwlatilgan bolsa 0, yopuvci qavs notogri bolsa \n",
    "uning orin indeksi, yopuvci qavs etiwmasa -1 ciqariw'''\n",
    "txt=input('Lotin harflar va ochivci va yopuvci qavslardan iborat satr kiriting: ')\n",
    "signs =['()','[]','{}'] # 3 xil qavs dan iborat massiv\n",
    "for i in signs:\n",
    "    if checkPunc(txt,i)==0:\n",
    "        pass\n",
    "    else:\n",
    "        print(checkPunc(txt,i))\n",
    "        break\n",
    "else:\n",
    "    print(0)"
   ]
  },
  {
   "cell_type": "code",
   "execution_count": null,
   "id": "6468c8ab-3317-4138-8337-c79645077a95",
   "metadata": {},
   "outputs": [],
   "source": []
  }
 ],
 "metadata": {
  "kernelspec": {
   "display_name": "Python 3 (ipykernel)",
   "language": "python",
   "name": "python3"
  },
  "language_info": {
   "codemirror_mode": {
    "name": "ipython",
    "version": 3
   },
   "file_extension": ".py",
   "mimetype": "text/x-python",
   "name": "python",
   "nbconvert_exporter": "python",
   "pygments_lexer": "ipython3",
   "version": "3.11.1"
  }
 },
 "nbformat": 4,
 "nbformat_minor": 5
}
