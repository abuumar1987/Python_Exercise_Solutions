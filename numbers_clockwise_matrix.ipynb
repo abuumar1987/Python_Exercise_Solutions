{
 "cells": [
  {
   "cell_type": "code",
   "execution_count": 1,
   "id": "90c552b4-b08e-4f1f-8878-aafd4a1e3d52",
   "metadata": {
    "tags": []
   },
   "outputs": [],
   "source": [
    "import random"
   ]
  },
  {
   "cell_type": "code",
   "execution_count": 2,
   "id": "a441cb6c-d4ee-4eaf-b744-ab7bea0c2aee",
   "metadata": {
    "tags": []
   },
   "outputs": [],
   "source": [
    "def PrintMatrix(M):\n",
    "    for row in range(len(M)):\n",
    "        for column in range(len(M[0])):\n",
    "            print(\"%3d\"%M[row][column],end=(\" \"))\n",
    "        print()"
   ]
  },
  {
   "cell_type": "code",
   "execution_count": 5,
   "id": "23ba8762-26bd-434c-b0aa-a0dde6f0d179",
   "metadata": {
    "tags": []
   },
   "outputs": [],
   "source": [
    "def CreatSimpleMatrix(m,n):    \n",
    "    matrix=[[i for i in range(1,n+1)] for j in range(1,m+1)]\n",
    "    return matrix"
   ]
  },
  {
   "cell_type": "code",
   "execution_count": 7,
   "id": "0e9bab77-3421-425f-88bd-8fb240aa5531",
   "metadata": {
    "tags": []
   },
   "outputs": [
    {
     "name": "stdout",
     "output_type": "stream",
     "text": [
      "Output:\n",
      "  1   2   3   4   5   6   7   8   9  10  11 \n",
      " 40  41  42  43  44  45  46  47  48  49  12 \n",
      " 39  72  73  74  75  76  77  78  79  50  13 \n",
      " 38  71  96  97  98  99 100 101  80  51  14 \n",
      " 37  70  95 112 113 114 115 102  81  52  15 \n",
      " 36  69  94 111 120 121 116 103  82  53  16 \n",
      " 35  68  93 110 119 118 117 104  83  54  17 \n",
      " 34  67  92 109 108 107 106 105  84  55  18 \n",
      " 33  66  91  90  89  88  87  86  85  56  19 \n",
      " 32  65  64  63  62  61  60  59  58  57  20 \n",
      " 31  30  29  28  27  26  25  24  23  22  21 \n"
     ]
    }
   ],
   "source": [
    "# 15\n",
    "\"\"\"create a matrix that accepts a clockwise sequence of numbers\"\"\"\n",
    "print(\"Output:\")\n",
    "\n",
    "# creat a NxN matrix\n",
    "M=CreatSimpleMatrix(11,11) \n",
    "a=M[0][0]\n",
    "m=0\n",
    "for i in range(len(M)):\n",
    "    \n",
    "    # loading the sequence of initial numbers into row 1 according to the clockwise\n",
    "    for column in range(i,len(M[0])-1-i):\n",
    "        M[i][column]=a+m\n",
    "        m += 1\n",
    "    a=M[i][column]\n",
    "    m=1\n",
    "    \n",
    "    # the next sequence of numbers are loaded to the last column according to the clockwise\n",
    "    for row in range(i,len(M)-1-i): \n",
    "        M[row][-1-i]=a+m\n",
    "        m += 1\n",
    "    a=M[row][-1-i]\n",
    "    m=1\n",
    "    \n",
    "    # the next sequence of numbers are loaded to the last row according to the clockwise\n",
    "    for column in range(-1-i,-len(M[0])+i,-1): \n",
    "        M[-1-i][column]=a+m\n",
    "        m += 1\n",
    "    a=M[-1-i][column]\n",
    "    m=1\n",
    "    \n",
    "    # the next sequence of numbers are loaded to the first column according to the clockwise\n",
    "    for row in range(-1-i,-len(M)+i,-1): \n",
    "        M[row][i]=a+m\n",
    "        m += 1\n",
    "    a=M[row][i]\n",
    "    m=1\n",
    "    \n",
    "# if len(M) is odd number\n",
    "if len(M)%2!=0:\n",
    "    M[len(M)//2][len(M)//2]=len(M)**2 \n",
    "PrintMatrix(M)"
   ]
  },
  {
   "cell_type": "code",
   "execution_count": null,
   "id": "389ed787-9c0f-4c4c-b788-2fd01a8abdcd",
   "metadata": {},
   "outputs": [],
   "source": []
  }
 ],
 "metadata": {
  "kernelspec": {
   "display_name": "Python 3 (ipykernel)",
   "language": "python",
   "name": "python3"
  },
  "language_info": {
   "codemirror_mode": {
    "name": "ipython",
    "version": 3
   },
   "file_extension": ".py",
   "mimetype": "text/x-python",
   "name": "python",
   "nbconvert_exporter": "python",
   "pygments_lexer": "ipython3",
   "version": "3.11.1"
  }
 },
 "nbformat": 4,
 "nbformat_minor": 5
}
