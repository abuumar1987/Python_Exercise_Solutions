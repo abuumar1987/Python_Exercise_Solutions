{
 "cells": [
  {
   "cell_type": "code",
   "execution_count": 1,
   "id": "3d3277ab-11f7-43de-85f8-81d4a01c52bb",
   "metadata": {
    "tags": []
   },
   "outputs": [],
   "source": [
    "import random"
   ]
  },
  {
   "cell_type": "code",
   "execution_count": 2,
   "id": "8d4c2493-0bbe-4704-abbe-fbfa668bc059",
   "metadata": {
    "tags": []
   },
   "outputs": [],
   "source": [
    "def PrintMatrix(M):\n",
    "    for row in range(len(M)):\n",
    "        for column in range(len(M[0])):\n",
    "            print(\"%3d\"%M[row][column],end=(\" \"))\n",
    "        print()"
   ]
  },
  {
   "cell_type": "code",
   "execution_count": 3,
   "id": "186e1e6a-208c-42a7-9ee4-838d5f82cea5",
   "metadata": {
    "tags": []
   },
   "outputs": [],
   "source": [
    "def CreatRandomMatrix(m,n):    \n",
    "    matrix=[[random.randint(1,9) for i in range(n)] for j in range(m)]\n",
    "    return matrix"
   ]
  },
  {
   "cell_type": "code",
   "execution_count": 4,
   "id": "2f3c32a1-0f91-431d-b230-9b5781712b54",
   "metadata": {
    "tags": []
   },
   "outputs": [
    {
     "name": "stdout",
     "output_type": "stream",
     "text": [
      "  9   7   9   1   4   6   8 \n",
      "  7   1   8   5   1   5   7 \n",
      "  6   1   1   1   3   7   2 \n",
      "  9   8   7   7   9   5   1 \n",
      "  1   1   7   2   9   2   5 \n",
      "  3   1   3   5   1   7   4 \n",
      "  5   9   4   9   8   7   1 \n",
      "Output:\n",
      "9\n",
      "7\n",
      "6\n",
      "9\n",
      "1\n",
      "3\n",
      "5 9 4 9 8 7 1 \n",
      "\n",
      "7\n",
      "1\n",
      "1\n",
      "8\n",
      "1\n",
      "1 3 5 1 7 4 \n",
      "\n",
      "9\n",
      "8\n",
      "1\n",
      "7\n",
      "7 2 9 2 5 \n",
      "\n",
      "1\n",
      "5\n",
      "1\n",
      "7 9 5 1 \n",
      "\n",
      "4\n",
      "1\n",
      "3 7 2 \n",
      "\n",
      "6\n",
      "5 7 \n",
      "\n",
      "8 \n",
      "\n"
     ]
    }
   ],
   "source": [
    "''' Printing matrix's pair of row and column elements '''\n",
    "M=CreatRandomMatrix(7,7)\n",
    "PrintMatrix(M)\n",
    "print(\"Output:\")\n",
    "for i in range(len(M)):\n",
    "    for row in range(len(M)-1-i):\n",
    "        print(M[row][i]) \n",
    "    for column in range(i,len(M)):\n",
    "        print(M[-1-i][column],end=(\" \"))\n",
    "    print()\n",
    "    print()"
   ]
  },
  {
   "cell_type": "code",
   "execution_count": null,
   "id": "57ae8d7f-2735-44d1-bcc0-8d8e1a99a1dd",
   "metadata": {},
   "outputs": [],
   "source": []
  }
 ],
 "metadata": {
  "kernelspec": {
   "display_name": "Python 3 (ipykernel)",
   "language": "python",
   "name": "python3"
  },
  "language_info": {
   "codemirror_mode": {
    "name": "ipython",
    "version": 3
   },
   "file_extension": ".py",
   "mimetype": "text/x-python",
   "name": "python",
   "nbconvert_exporter": "python",
   "pygments_lexer": "ipython3",
   "version": "3.11.1"
  }
 },
 "nbformat": 4,
 "nbformat_minor": 5
}
