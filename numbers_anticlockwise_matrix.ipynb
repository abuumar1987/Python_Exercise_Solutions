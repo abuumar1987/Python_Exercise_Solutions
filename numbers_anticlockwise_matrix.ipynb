{
 "cells": [
  {
   "cell_type": "code",
   "execution_count": 1,
   "id": "eab03b3e-b16e-4538-b377-b5aedca20237",
   "metadata": {
    "tags": []
   },
   "outputs": [],
   "source": [
    "import random"
   ]
  },
  {
   "cell_type": "code",
   "execution_count": 2,
   "id": "97b5c992-38d5-4462-a68f-4a47f69a35c6",
   "metadata": {
    "tags": []
   },
   "outputs": [],
   "source": [
    "def PrintMatrix(M):\n",
    "    for row in range(len(M)):\n",
    "        for column in range(len(M[0])):\n",
    "            print(\"%3d\"%M[row][column],end=(\" \"))\n",
    "        print()"
   ]
  },
  {
   "cell_type": "code",
   "execution_count": 3,
   "id": "838ff01d-c8af-4363-be1a-50e9f4601154",
   "metadata": {
    "tags": []
   },
   "outputs": [],
   "source": [
    "def CreatSimpleMatrix(m,n):    \n",
    "    matrix=[[i for i in range(1,n+1)] for j in range(1,m+1)]\n",
    "    return matrix"
   ]
  },
  {
   "cell_type": "code",
   "execution_count": 5,
   "id": "c68e394e-26a2-4d21-8e50-3c715d05192e",
   "metadata": {
    "tags": []
   },
   "outputs": [
    {
     "name": "stdout",
     "output_type": "stream",
     "text": [
      "Output:\n",
      "  1  32  31  30  29  28  27  26  25 \n",
      "  2  33  56  55  54  53  52  51  24 \n",
      "  3  34  57  72  71  70  69  50  23 \n",
      "  4  35  58  73  80  79  68  49  22 \n",
      "  5  36  59  74  81  78  67  48  21 \n",
      "  6  37  60  75  76  77  66  47  20 \n",
      "  7  38  61  62  63  64  65  46  19 \n",
      "  8  39  40  41  42  43  44  45  18 \n",
      "  9  10  11  12  13  14  15  16  17 \n"
     ]
    }
   ],
   "source": [
    "# 16\n",
    "\"\"\"create a matrix that accepts a anticlockwise sequence of numbers\"\"\"\n",
    "print(\"Output:\")\n",
    "\n",
    "# creat a NxN matrix\n",
    "M=CreatSimpleMatrix(9,9) \n",
    "a=M[0][0]\n",
    "m=0\n",
    "for i in range(len(M)):\n",
    "    \n",
    "    # loading the sequence of initial numbers into the first column according to the anticlockwise\n",
    "    for row in range(i,len(M)-1-i): \n",
    "        M[row][i]=a+m\n",
    "        m += 1\n",
    "    a=M[row][i]\n",
    "    m=1\n",
    "    \n",
    "    # loading the next sequence of numbers into the last row according to the anticlockwise\n",
    "    for column in range(i,len(M[0])-1-i): \n",
    "        M[-1-i][column]=a+m\n",
    "        m += 1\n",
    "    a=M[-1-i][column]\n",
    "    m=1\n",
    "    \n",
    "    # loading the next sequence of numbers into the last column according to the anticlockwise\n",
    "    for row in range(-1-i,-len(M)+i,-1): \n",
    "        M[row][-1-i]=a+m\n",
    "        m += 1\n",
    "    a=M[row][-1-i]\n",
    "    m=1\n",
    "    \n",
    "    # loading the next sequence of numbers into the first row according to the anticlockwise\n",
    "    for column in range(-1-i,-len(M[0])+i,-1): \n",
    "        M[i][column]=a+m\n",
    "        m += 1\n",
    "    a=M[i][column]\n",
    "    m=1\n",
    "\n",
    "# if legnth of matrix is odd \n",
    "if len(M)%2!=0:\n",
    "    M[len(M)//2][len(M)//2]=len(M)**2 \n",
    "PrintMatrix(M)"
   ]
  },
  {
   "cell_type": "code",
   "execution_count": null,
   "id": "9a7c1655-e67f-407e-bacf-f12426eeb1e7",
   "metadata": {},
   "outputs": [],
   "source": []
  }
 ],
 "metadata": {
  "kernelspec": {
   "display_name": "Python 3 (ipykernel)",
   "language": "python",
   "name": "python3"
  },
  "language_info": {
   "codemirror_mode": {
    "name": "ipython",
    "version": 3
   },
   "file_extension": ".py",
   "mimetype": "text/x-python",
   "name": "python",
   "nbconvert_exporter": "python",
   "pygments_lexer": "ipython3",
   "version": "3.11.1"
  }
 },
 "nbformat": 4,
 "nbformat_minor": 5
}
